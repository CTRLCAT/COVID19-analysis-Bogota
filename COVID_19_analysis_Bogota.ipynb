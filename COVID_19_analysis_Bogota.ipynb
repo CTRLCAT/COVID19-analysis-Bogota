{
  "nbformat": 4,
  "nbformat_minor": 0,
  "metadata": {
    "colab": {
      "name": "COVID-19-analysis-Bogota",
      "provenance": [],
      "collapsed_sections": []
    },
    "kernelspec": {
      "name": "python3",
      "display_name": "Python 3"
    }
  },
  "cells": [
    {
      "cell_type": "markdown",
      "metadata": {
        "id": "tOmp0s45ueSF"
      },
      "source": [
        "####Data of localidades obtained from: https://bogota-laburbano.opendatasoft.com/explore/dataset/georeferencia-puntual-por-localidad/export/?flg=es&location=9,-74.17314,4.39997&basemap=jawg.streets&dataChart=eyJxdWVyaWVzIjpbeyJjb25maWciOnsiZGF0YXNldCI6Imdlb3JlZmVyZW5jaWEtcHVudHVhbC1wb3ItbG9jYWxpZGFkIiwib3B0aW9ucyI6eyJmbGciOiJlcyJ9fSwiY2hhcnRzIjpbeyJhbGlnbk1vbnRoIjp0cnVlLCJ0eXBlIjoiY29sdW1uIiwiZnVuYyI6IkFWRyIsInlBeGlzIjoibG9uZ2l0dWQiLCJzY2llbnRpZmljRGlzcGxheSI6dHJ1ZSwiY29sb3IiOiIjMjYzODkyIn1dLCJ4QXhpcyI6ImxvbmdpdHVkIiwibWF4cG9pbnRzIjo1MCwic29ydCI6IiJ9XSwidGltZXNjYWxlIjoiIiwiZGlzcGxheUxlZ2VuZCI6dHJ1ZSwiYWxpZ25Nb250aCI6dHJ1ZX0%3D\n",
        "\n",
        "####Data of cases obtained from: https://datosabiertos.bogota.gov.co/dataset/numero-de-casos-confirmados-por-el-laboratorio-de-covid-19-bogota-d-c\n",
        "\n",
        "####Data of venues obtained from: https://developer.foursquare.com\n"
      ]
    },
    {
      "cell_type": "markdown",
      "metadata": {
        "id": "sp0eq0RVCVoZ"
      },
      "source": [
        "# **Capstone Project Code**\n",
        "\n",
        "Analysis of COVID-19 information in the city of Bogotá"
      ]
    },
    {
      "cell_type": "markdown",
      "metadata": {
        "id": "wDJHfYxlCdXl"
      },
      "source": [
        "Import packages"
      ]
    },
    {
      "cell_type": "code",
      "metadata": {
        "id": "FB--NKHpk42m"
      },
      "source": [
        "import numpy as np\n",
        "import pandas as pd\n",
        "import folium\n",
        "import matplotlib.pyplot as plt\n",
        "import seaborn as sns\n",
        "import requests\n",
        "from sklearn import preprocessing\n"
      ],
      "execution_count": null,
      "outputs": []
    },
    {
      "cell_type": "markdown",
      "metadata": {
        "id": "8P5FRY6lCpu6"
      },
      "source": [
        "Import database with coordinates from localidades"
      ]
    },
    {
      "cell_type": "code",
      "metadata": {
        "id": "zKOFSoOXtZtS",
        "outputId": "1f8ad156-78d2-4f96-8c68-18e9501fd958",
        "colab": {
          "base_uri": "https://localhost:8080/",
          "height": 204
        }
      },
      "source": [
        "#Import latitudes and longitudes of localidades\n",
        "df1 = pd.read_csv('geodata.csv', sep=';')\n",
        "df1.head()"
      ],
      "execution_count": null,
      "outputs": [
        {
          "output_type": "execute_result",
          "data": {
            "text/html": [
              "<div>\n",
              "<style scoped>\n",
              "    .dataframe tbody tr th:only-of-type {\n",
              "        vertical-align: middle;\n",
              "    }\n",
              "\n",
              "    .dataframe tbody tr th {\n",
              "        vertical-align: top;\n",
              "    }\n",
              "\n",
              "    .dataframe thead th {\n",
              "        text-align: right;\n",
              "    }\n",
              "</style>\n",
              "<table border=\"1\" class=\"dataframe\">\n",
              "  <thead>\n",
              "    <tr style=\"text-align: right;\">\n",
              "      <th></th>\n",
              "      <th>LOCALIDAD</th>\n",
              "      <th>LONGITUD</th>\n",
              "      <th>LATITUD</th>\n",
              "      <th>CODIGO</th>\n",
              "      <th>gp</th>\n",
              "    </tr>\n",
              "  </thead>\n",
              "  <tbody>\n",
              "    <tr>\n",
              "      <th>0</th>\n",
              "      <td>BARRIOS UNIDOS</td>\n",
              "      <td>-74.084000</td>\n",
              "      <td>4.666400</td>\n",
              "      <td>12</td>\n",
              "      <td>-74.084,4.6664</td>\n",
              "    </tr>\n",
              "    <tr>\n",
              "      <th>1</th>\n",
              "      <td>ENGATIVA</td>\n",
              "      <td>-74.107200</td>\n",
              "      <td>4.707100</td>\n",
              "      <td>10</td>\n",
              "      <td>-74.1072,4.7071</td>\n",
              "    </tr>\n",
              "    <tr>\n",
              "      <th>2</th>\n",
              "      <td>SUMAPAZ</td>\n",
              "      <td>-74.315224</td>\n",
              "      <td>4.034746</td>\n",
              "      <td>20</td>\n",
              "      <td>-74.315224,4.034746</td>\n",
              "    </tr>\n",
              "    <tr>\n",
              "      <th>3</th>\n",
              "      <td>TEUSAQUILLO</td>\n",
              "      <td>-74.093800</td>\n",
              "      <td>4.644800</td>\n",
              "      <td>13</td>\n",
              "      <td>-74.0938,4.6448</td>\n",
              "    </tr>\n",
              "    <tr>\n",
              "      <th>4</th>\n",
              "      <td>LA CANDELARIA</td>\n",
              "      <td>-74.073900</td>\n",
              "      <td>4.593900</td>\n",
              "      <td>17</td>\n",
              "      <td>-74.0739,4.5939</td>\n",
              "    </tr>\n",
              "  </tbody>\n",
              "</table>\n",
              "</div>"
            ],
            "text/plain": [
              "        LOCALIDAD   LONGITUD   LATITUD  CODIGO                   gp\n",
              "0  BARRIOS UNIDOS -74.084000  4.666400      12       -74.084,4.6664\n",
              "1        ENGATIVA -74.107200  4.707100      10      -74.1072,4.7071\n",
              "2         SUMAPAZ -74.315224  4.034746      20  -74.315224,4.034746\n",
              "3     TEUSAQUILLO -74.093800  4.644800      13      -74.0938,4.6448\n",
              "4   LA CANDELARIA -74.073900  4.593900      17      -74.0739,4.5939"
            ]
          },
          "metadata": {
            "tags": []
          },
          "execution_count": 77
        }
      ]
    },
    {
      "cell_type": "markdown",
      "metadata": {
        "id": "z3mtnCw0CvcA"
      },
      "source": [
        "Drop information that is not necessary"
      ]
    },
    {
      "cell_type": "code",
      "metadata": {
        "id": "89XHPNatuNkT",
        "outputId": "86657fcf-0cf5-4a80-95f1-af8b963aebba",
        "colab": {
          "base_uri": "https://localhost:8080/",
          "height": 204
        }
      },
      "source": [
        "df1.drop(['gp'], axis=1, inplace=True)\n",
        "df1 = df1[df1.LOCALIDAD != 'BOGOTA']\n",
        "df1.head()"
      ],
      "execution_count": null,
      "outputs": [
        {
          "output_type": "execute_result",
          "data": {
            "text/html": [
              "<div>\n",
              "<style scoped>\n",
              "    .dataframe tbody tr th:only-of-type {\n",
              "        vertical-align: middle;\n",
              "    }\n",
              "\n",
              "    .dataframe tbody tr th {\n",
              "        vertical-align: top;\n",
              "    }\n",
              "\n",
              "    .dataframe thead th {\n",
              "        text-align: right;\n",
              "    }\n",
              "</style>\n",
              "<table border=\"1\" class=\"dataframe\">\n",
              "  <thead>\n",
              "    <tr style=\"text-align: right;\">\n",
              "      <th></th>\n",
              "      <th>LOCALIDAD</th>\n",
              "      <th>LONGITUD</th>\n",
              "      <th>LATITUD</th>\n",
              "      <th>CODIGO</th>\n",
              "    </tr>\n",
              "  </thead>\n",
              "  <tbody>\n",
              "    <tr>\n",
              "      <th>0</th>\n",
              "      <td>BARRIOS UNIDOS</td>\n",
              "      <td>-74.084000</td>\n",
              "      <td>4.666400</td>\n",
              "      <td>12</td>\n",
              "    </tr>\n",
              "    <tr>\n",
              "      <th>1</th>\n",
              "      <td>ENGATIVA</td>\n",
              "      <td>-74.107200</td>\n",
              "      <td>4.707100</td>\n",
              "      <td>10</td>\n",
              "    </tr>\n",
              "    <tr>\n",
              "      <th>2</th>\n",
              "      <td>SUMAPAZ</td>\n",
              "      <td>-74.315224</td>\n",
              "      <td>4.034746</td>\n",
              "      <td>20</td>\n",
              "    </tr>\n",
              "    <tr>\n",
              "      <th>3</th>\n",
              "      <td>TEUSAQUILLO</td>\n",
              "      <td>-74.093800</td>\n",
              "      <td>4.644800</td>\n",
              "      <td>13</td>\n",
              "    </tr>\n",
              "    <tr>\n",
              "      <th>4</th>\n",
              "      <td>LA CANDELARIA</td>\n",
              "      <td>-74.073900</td>\n",
              "      <td>4.593900</td>\n",
              "      <td>17</td>\n",
              "    </tr>\n",
              "  </tbody>\n",
              "</table>\n",
              "</div>"
            ],
            "text/plain": [
              "        LOCALIDAD   LONGITUD   LATITUD  CODIGO\n",
              "0  BARRIOS UNIDOS -74.084000  4.666400      12\n",
              "1        ENGATIVA -74.107200  4.707100      10\n",
              "2         SUMAPAZ -74.315224  4.034746      20\n",
              "3     TEUSAQUILLO -74.093800  4.644800      13\n",
              "4   LA CANDELARIA -74.073900  4.593900      17"
            ]
          },
          "metadata": {
            "tags": []
          },
          "execution_count": 78
        }
      ]
    },
    {
      "cell_type": "markdown",
      "metadata": {
        "id": "Lgg2YLHzC03O"
      },
      "source": [
        "Create a map of the city with the location of every localidad"
      ]
    },
    {
      "cell_type": "code",
      "metadata": {
        "id": "vaoiktzOkp0z"
      },
      "source": [
        "boglat = 4.624335\n",
        "boglong = -74.063644"
      ],
      "execution_count": null,
      "outputs": []
    },
    {
      "cell_type": "code",
      "metadata": {
        "id": "WtiyQixDp8Uc",
        "outputId": "f5c861e2-689e-423e-b91c-4433779a6617",
        "colab": {
          "base_uri": "https://localhost:8080/",
          "height": 808
        }
      },
      "source": [
        "map_bog = folium.Map(location=[boglat, boglong], zoom_start=11)\n",
        "\n",
        "# add markers to map\n",
        "for lat, lng, localidad in zip(df1['LATITUD'], df1['LONGITUD'], df1['LOCALIDAD']):\n",
        "    label = '{}'.format(localidad)\n",
        "    label = folium.Popup(label, parse_html=True)\n",
        "    folium.CircleMarker(\n",
        "        [lat, lng],\n",
        "        radius=5,\n",
        "        popup=label,\n",
        "        color='blue',\n",
        "        fill=True,\n",
        "        fill_color='#3186cc',\n",
        "        fill_opacity=0.7,\n",
        "        parse_html=False).add_to(map_bog)  \n",
        "    \n",
        "map_bog"
      ],
      "execution_count": null,
      "outputs": [
        {
          "output_type": "execute_result",
          "data": {
            "text/html": [
              "<div style=\"width:100%;\"><div style=\"position:relative;width:100%;height:0;padding-bottom:60%;\"><iframe src=\"about:blank\" style=\"position:absolute;width:100%;height:100%;left:0;top:0;border:none !important;\" data-html=PCFET0NUWVBFIGh0bWw+CjxoZWFkPiAgICAKICAgIDxtZXRhIGh0dHAtZXF1aXY9ImNvbnRlbnQtdHlwZSIgY29udGVudD0idGV4dC9odG1sOyBjaGFyc2V0PVVURi04IiAvPgogICAgPHNjcmlwdD5MX1BSRUZFUl9DQU5WQVM9ZmFsc2U7IExfTk9fVE9VQ0g9ZmFsc2U7IExfRElTQUJMRV8zRD1mYWxzZTs8L3NjcmlwdD4KICAgIDxzY3JpcHQgc3JjPSJodHRwczovL2Nkbi5qc2RlbGl2ci5uZXQvbnBtL2xlYWZsZXRAMS40LjAvZGlzdC9sZWFmbGV0LmpzIj48L3NjcmlwdD4KICAgIDxzY3JpcHQgc3JjPSJodHRwczovL2NvZGUuanF1ZXJ5LmNvbS9qcXVlcnktMS4xMi40Lm1pbi5qcyI+PC9zY3JpcHQ+CiAgICA8c2NyaXB0IHNyYz0iaHR0cHM6Ly9tYXhjZG4uYm9vdHN0cmFwY2RuLmNvbS9ib290c3RyYXAvMy4yLjAvanMvYm9vdHN0cmFwLm1pbi5qcyI+PC9zY3JpcHQ+CiAgICA8c2NyaXB0IHNyYz0iaHR0cHM6Ly9jZG5qcy5jbG91ZGZsYXJlLmNvbS9hamF4L2xpYnMvTGVhZmxldC5hd2Vzb21lLW1hcmtlcnMvMi4wLjIvbGVhZmxldC5hd2Vzb21lLW1hcmtlcnMuanMiPjwvc2NyaXB0PgogICAgPGxpbmsgcmVsPSJzdHlsZXNoZWV0IiBocmVmPSJodHRwczovL2Nkbi5qc2RlbGl2ci5uZXQvbnBtL2xlYWZsZXRAMS40LjAvZGlzdC9sZWFmbGV0LmNzcyIvPgogICAgPGxpbmsgcmVsPSJzdHlsZXNoZWV0IiBocmVmPSJodHRwczovL21heGNkbi5ib290c3RyYXBjZG4uY29tL2Jvb3RzdHJhcC8zLjIuMC9jc3MvYm9vdHN0cmFwLm1pbi5jc3MiLz4KICAgIDxsaW5rIHJlbD0ic3R5bGVzaGVldCIgaHJlZj0iaHR0cHM6Ly9tYXhjZG4uYm9vdHN0cmFwY2RuLmNvbS9ib290c3RyYXAvMy4yLjAvY3NzL2Jvb3RzdHJhcC10aGVtZS5taW4uY3NzIi8+CiAgICA8bGluayByZWw9InN0eWxlc2hlZXQiIGhyZWY9Imh0dHBzOi8vbWF4Y2RuLmJvb3RzdHJhcGNkbi5jb20vZm9udC1hd2Vzb21lLzQuNi4zL2Nzcy9mb250LWF3ZXNvbWUubWluLmNzcyIvPgogICAgPGxpbmsgcmVsPSJzdHlsZXNoZWV0IiBocmVmPSJodHRwczovL2NkbmpzLmNsb3VkZmxhcmUuY29tL2FqYXgvbGlicy9MZWFmbGV0LmF3ZXNvbWUtbWFya2Vycy8yLjAuMi9sZWFmbGV0LmF3ZXNvbWUtbWFya2Vycy5jc3MiLz4KICAgIDxsaW5rIHJlbD0ic3R5bGVzaGVldCIgaHJlZj0iaHR0cHM6Ly9yYXdjZG4uZ2l0aGFjay5jb20vcHl0aG9uLXZpc3VhbGl6YXRpb24vZm9saXVtL21hc3Rlci9mb2xpdW0vdGVtcGxhdGVzL2xlYWZsZXQuYXdlc29tZS5yb3RhdGUuY3NzIi8+CiAgICA8c3R5bGU+aHRtbCwgYm9keSB7d2lkdGg6IDEwMCU7aGVpZ2h0OiAxMDAlO21hcmdpbjogMDtwYWRkaW5nOiAwO308L3N0eWxlPgogICAgPHN0eWxlPiNtYXAge3Bvc2l0aW9uOmFic29sdXRlO3RvcDowO2JvdHRvbTowO3JpZ2h0OjA7bGVmdDowO308L3N0eWxlPgogICAgCiAgICA8bWV0YSBuYW1lPSJ2aWV3cG9ydCIgY29udGVudD0id2lkdGg9ZGV2aWNlLXdpZHRoLAogICAgICAgIGluaXRpYWwtc2NhbGU9MS4wLCBtYXhpbXVtLXNjYWxlPTEuMCwgdXNlci1zY2FsYWJsZT1ubyIgLz4KICAgIDxzdHlsZT4jbWFwXzQ2YTAzMjg3OGRmNjQwYWY4ZmMyYTMwM2E4YjA2Y2Q2IHsKICAgICAgICBwb3NpdGlvbjogcmVsYXRpdmU7CiAgICAgICAgd2lkdGg6IDEwMC4wJTsKICAgICAgICBoZWlnaHQ6IDEwMC4wJTsKICAgICAgICBsZWZ0OiAwLjAlOwogICAgICAgIHRvcDogMC4wJTsKICAgICAgICB9CiAgICA8L3N0eWxlPgo8L2hlYWQ+Cjxib2R5PiAgICAKICAgIAogICAgPGRpdiBjbGFzcz0iZm9saXVtLW1hcCIgaWQ9Im1hcF80NmEwMzI4NzhkZjY0MGFmOGZjMmEzMDNhOGIwNmNkNiIgPjwvZGl2Pgo8L2JvZHk+CjxzY3JpcHQ+ICAgIAogICAgCiAgICAKICAgICAgICB2YXIgYm91bmRzID0gbnVsbDsKICAgIAoKICAgIHZhciBtYXBfNDZhMDMyODc4ZGY2NDBhZjhmYzJhMzAzYThiMDZjZDYgPSBMLm1hcCgKICAgICAgICAnbWFwXzQ2YTAzMjg3OGRmNjQwYWY4ZmMyYTMwM2E4YjA2Y2Q2JywgewogICAgICAgIGNlbnRlcjogWzQuNjI0MzM1LCAtNzQuMDYzNjQ0XSwKICAgICAgICB6b29tOiAxMSwKICAgICAgICBtYXhCb3VuZHM6IGJvdW5kcywKICAgICAgICBsYXllcnM6IFtdLAogICAgICAgIHdvcmxkQ29weUp1bXA6IGZhbHNlLAogICAgICAgIGNyczogTC5DUlMuRVBTRzM4NTcsCiAgICAgICAgem9vbUNvbnRyb2w6IHRydWUsCiAgICAgICAgfSk7CgoKICAgIAogICAgdmFyIHRpbGVfbGF5ZXJfNWUyNWE2ZWU3NTc4NGMwYmIwYWU1YmUxODZhYmY2ZDYgPSBMLnRpbGVMYXllcigKICAgICAgICAnaHR0cHM6Ly97c30udGlsZS5vcGVuc3RyZWV0bWFwLm9yZy97en0ve3h9L3t5fS5wbmcnLAogICAgICAgIHsKICAgICAgICAiYXR0cmlidXRpb24iOiBudWxsLAogICAgICAgICJkZXRlY3RSZXRpbmEiOiBmYWxzZSwKICAgICAgICAibWF4TmF0aXZlWm9vbSI6IDE4LAogICAgICAgICJtYXhab29tIjogMTgsCiAgICAgICAgIm1pblpvb20iOiAwLAogICAgICAgICJub1dyYXAiOiBmYWxzZSwKICAgICAgICAib3BhY2l0eSI6IDEsCiAgICAgICAgInN1YmRvbWFpbnMiOiAiYWJjIiwKICAgICAgICAidG1zIjogZmFsc2UKfSkuYWRkVG8obWFwXzQ2YTAzMjg3OGRmNjQwYWY4ZmMyYTMwM2E4YjA2Y2Q2KTsKICAgIAogICAgICAgICAgICB2YXIgY2lyY2xlX21hcmtlcl8yZmZiYmYyNzM1NTU0MzJiODVlMDQzNzJjZDRlYTgzYyA9IEwuY2lyY2xlTWFya2VyKAogICAgICAgICAgICAgICAgWzQuNjY2NCwgLTc0LjA4NF0sCiAgICAgICAgICAgICAgICB7CiAgImJ1YmJsaW5nTW91c2VFdmVudHMiOiB0cnVlLAogICJjb2xvciI6ICJibHVlIiwKICAiZGFzaEFycmF5IjogbnVsbCwKICAiZGFzaE9mZnNldCI6IG51bGwsCiAgImZpbGwiOiB0cnVlLAogICJmaWxsQ29sb3IiOiAiIzMxODZjYyIsCiAgImZpbGxPcGFjaXR5IjogMC43LAogICJmaWxsUnVsZSI6ICJldmVub2RkIiwKICAibGluZUNhcCI6ICJyb3VuZCIsCiAgImxpbmVKb2luIjogInJvdW5kIiwKICAib3BhY2l0eSI6IDEuMCwKICAicmFkaXVzIjogNSwKICAic3Ryb2tlIjogdHJ1ZSwKICAid2VpZ2h0IjogMwp9CiAgICAgICAgICAgICAgICApCiAgICAgICAgICAgICAgICAuYWRkVG8obWFwXzQ2YTAzMjg3OGRmNjQwYWY4ZmMyYTMwM2E4YjA2Y2Q2KTsKICAgICAgICAgICAgCiAgICAKICAgICAgICAgICAgdmFyIHBvcHVwXzEzNTA5NTA5YmFmNzQ3Y2I4OTQ3OTZlZTY0OGIxZGY1ID0gTC5wb3B1cCh7bWF4V2lkdGg6ICcxMDAlJwogICAgICAgICAgICAKICAgICAgICAgICAgfSk7CgogICAgICAgICAgICAKICAgICAgICAgICAgICAgIHZhciBodG1sX2E1YjA0YjhjMzI0MjRhODY4MjBhNzNhNjVkZDYxNzc0ID0gJChgPGRpdiBpZD0iaHRtbF9hNWIwNGI4YzMyNDI0YTg2ODIwYTczYTY1ZGQ2MTc3NCIgc3R5bGU9IndpZHRoOiAxMDAuMCU7IGhlaWdodDogMTAwLjAlOyI+QkFSUklPUyBVTklET1M8L2Rpdj5gKVswXTsKICAgICAgICAgICAgICAgIHBvcHVwXzEzNTA5NTA5YmFmNzQ3Y2I4OTQ3OTZlZTY0OGIxZGY1LnNldENvbnRlbnQoaHRtbF9hNWIwNGI4YzMyNDI0YTg2ODIwYTczYTY1ZGQ2MTc3NCk7CiAgICAgICAgICAgIAoKICAgICAgICAgICAgY2lyY2xlX21hcmtlcl8yZmZiYmYyNzM1NTU0MzJiODVlMDQzNzJjZDRlYTgzYy5iaW5kUG9wdXAocG9wdXBfMTM1MDk1MDliYWY3NDdjYjg5NDc5NmVlNjQ4YjFkZjUpCiAgICAgICAgICAgIDsKCiAgICAgICAgICAgIAogICAgICAgIAogICAgCiAgICAgICAgICAgIHZhciBjaXJjbGVfbWFya2VyX2ViNDNjODAyYjUxYjQxYWQ5N2I4ZjU5MTIwOWE3MzQxID0gTC5jaXJjbGVNYXJrZXIoCiAgICAgICAgICAgICAgICBbNC43MDcxMDAwMDAwMDAwMDA1LCAtNzQuMTA3Ml0sCiAgICAgICAgICAgICAgICB7CiAgImJ1YmJsaW5nTW91c2VFdmVudHMiOiB0cnVlLAogICJjb2xvciI6ICJibHVlIiwKICAiZGFzaEFycmF5IjogbnVsbCwKICAiZGFzaE9mZnNldCI6IG51bGwsCiAgImZpbGwiOiB0cnVlLAogICJmaWxsQ29sb3IiOiAiIzMxODZjYyIsCiAgImZpbGxPcGFjaXR5IjogMC43LAogICJmaWxsUnVsZSI6ICJldmVub2RkIiwKICAibGluZUNhcCI6ICJyb3VuZCIsCiAgImxpbmVKb2luIjogInJvdW5kIiwKICAib3BhY2l0eSI6IDEuMCwKICAicmFkaXVzIjogNSwKICAic3Ryb2tlIjogdHJ1ZSwKICAid2VpZ2h0IjogMwp9CiAgICAgICAgICAgICAgICApCiAgICAgICAgICAgICAgICAuYWRkVG8obWFwXzQ2YTAzMjg3OGRmNjQwYWY4ZmMyYTMwM2E4YjA2Y2Q2KTsKICAgICAgICAgICAgCiAgICAKICAgICAgICAgICAgdmFyIHBvcHVwX2FjOWVlOTk4YjhjNzQ0YjI5YTk3ZGU4MWE0N2QxZGRjID0gTC5wb3B1cCh7bWF4V2lkdGg6ICcxMDAlJwogICAgICAgICAgICAKICAgICAgICAgICAgfSk7CgogICAgICAgICAgICAKICAgICAgICAgICAgICAgIHZhciBodG1sXzM4N2QyNDdhMGYxNTQyNDM4ZDEzMWEwNmVmNWIxODM4ID0gJChgPGRpdiBpZD0iaHRtbF8zODdkMjQ3YTBmMTU0MjQzOGQxMzFhMDZlZjViMTgzOCIgc3R5bGU9IndpZHRoOiAxMDAuMCU7IGhlaWdodDogMTAwLjAlOyI+RU5HQVRJVkE8L2Rpdj5gKVswXTsKICAgICAgICAgICAgICAgIHBvcHVwX2FjOWVlOTk4YjhjNzQ0YjI5YTk3ZGU4MWE0N2QxZGRjLnNldENvbnRlbnQoaHRtbF8zODdkMjQ3YTBmMTU0MjQzOGQxMzFhMDZlZjViMTgzOCk7CiAgICAgICAgICAgIAoKICAgICAgICAgICAgY2lyY2xlX21hcmtlcl9lYjQzYzgwMmI1MWI0MWFkOTdiOGY1OTEyMDlhNzM0MS5iaW5kUG9wdXAocG9wdXBfYWM5ZWU5OThiOGM3NDRiMjlhOTdkZTgxYTQ3ZDFkZGMpCiAgICAgICAgICAgIDsKCiAgICAgICAgICAgIAogICAgICAgIAogICAgCiAgICAgICAgICAgIHZhciBjaXJjbGVfbWFya2VyXzliYTg3ZmIwNWNiMzQwMmU5MWI3ZTY5YWUzY2I1ZTc1ID0gTC5jaXJjbGVNYXJrZXIoCiAgICAgICAgICAgICAgICBbNC4wMzQ3NDYsIC03NC4zMTUyMjRdLAogICAgICAgICAgICAgICAgewogICJidWJibGluZ01vdXNlRXZlbnRzIjogdHJ1ZSwKICAiY29sb3IiOiAiYmx1ZSIsCiAgImRhc2hBcnJheSI6IG51bGwsCiAgImRhc2hPZmZzZXQiOiBudWxsLAogICJmaWxsIjogdHJ1ZSwKICAiZmlsbENvbG9yIjogIiMzMTg2Y2MiLAogICJmaWxsT3BhY2l0eSI6IDAuNywKICAiZmlsbFJ1bGUiOiAiZXZlbm9kZCIsCiAgImxpbmVDYXAiOiAicm91bmQiLAogICJsaW5lSm9pbiI6ICJyb3VuZCIsCiAgIm9wYWNpdHkiOiAxLjAsCiAgInJhZGl1cyI6IDUsCiAgInN0cm9rZSI6IHRydWUsCiAgIndlaWdodCI6IDMKfQogICAgICAgICAgICAgICAgKQogICAgICAgICAgICAgICAgLmFkZFRvKG1hcF80NmEwMzI4NzhkZjY0MGFmOGZjMmEzMDNhOGIwNmNkNik7CiAgICAgICAgICAgIAogICAgCiAgICAgICAgICAgIHZhciBwb3B1cF83MTlmYjJhMDJiZDc0MTdkODI0MzBkZWQ1YzJkYWJjZiA9IEwucG9wdXAoe21heFdpZHRoOiAnMTAwJScKICAgICAgICAgICAgCiAgICAgICAgICAgIH0pOwoKICAgICAgICAgICAgCiAgICAgICAgICAgICAgICB2YXIgaHRtbF84NTkxZmFiNjZjZDc0NjRjYTliZDYxNTUzYmE5YzVhMyA9ICQoYDxkaXYgaWQ9Imh0bWxfODU5MWZhYjY2Y2Q3NDY0Y2E5YmQ2MTU1M2JhOWM1YTMiIHN0eWxlPSJ3aWR0aDogMTAwLjAlOyBoZWlnaHQ6IDEwMC4wJTsiPlNVTUFQQVo8L2Rpdj5gKVswXTsKICAgICAgICAgICAgICAgIHBvcHVwXzcxOWZiMmEwMmJkNzQxN2Q4MjQzMGRlZDVjMmRhYmNmLnNldENvbnRlbnQoaHRtbF84NTkxZmFiNjZjZDc0NjRjYTliZDYxNTUzYmE5YzVhMyk7CiAgICAgICAgICAgIAoKICAgICAgICAgICAgY2lyY2xlX21hcmtlcl85YmE4N2ZiMDVjYjM0MDJlOTFiN2U2OWFlM2NiNWU3NS5iaW5kUG9wdXAocG9wdXBfNzE5ZmIyYTAyYmQ3NDE3ZDgyNDMwZGVkNWMyZGFiY2YpCiAgICAgICAgICAgIDsKCiAgICAgICAgICAgIAogICAgICAgIAogICAgCiAgICAgICAgICAgIHZhciBjaXJjbGVfbWFya2VyXzljNDA4OWQ4NGFjMjQ2Nzk5OTFiNWJhN2JhMzhjMzZkID0gTC5jaXJjbGVNYXJrZXIoCiAgICAgICAgICAgICAgICBbNC42NDQ4LCAtNzQuMDkzOF0sCiAgICAgICAgICAgICAgICB7CiAgImJ1YmJsaW5nTW91c2VFdmVudHMiOiB0cnVlLAogICJjb2xvciI6ICJibHVlIiwKICAiZGFzaEFycmF5IjogbnVsbCwKICAiZGFzaE9mZnNldCI6IG51bGwsCiAgImZpbGwiOiB0cnVlLAogICJmaWxsQ29sb3IiOiAiIzMxODZjYyIsCiAgImZpbGxPcGFjaXR5IjogMC43LAogICJmaWxsUnVsZSI6ICJldmVub2RkIiwKICAibGluZUNhcCI6ICJyb3VuZCIsCiAgImxpbmVKb2luIjogInJvdW5kIiwKICAib3BhY2l0eSI6IDEuMCwKICAicmFkaXVzIjogNSwKICAic3Ryb2tlIjogdHJ1ZSwKICAid2VpZ2h0IjogMwp9CiAgICAgICAgICAgICAgICApCiAgICAgICAgICAgICAgICAuYWRkVG8obWFwXzQ2YTAzMjg3OGRmNjQwYWY4ZmMyYTMwM2E4YjA2Y2Q2KTsKICAgICAgICAgICAgCiAgICAKICAgICAgICAgICAgdmFyIHBvcHVwXzk0NGQ3OTMxZmZhNDQ0ZmE5OGI5NzdkNWU3YTI3ZTEyID0gTC5wb3B1cCh7bWF4V2lkdGg6ICcxMDAlJwogICAgICAgICAgICAKICAgICAgICAgICAgfSk7CgogICAgICAgICAgICAKICAgICAgICAgICAgICAgIHZhciBodG1sXzBlYWM3ZDMwOTlhZjQxMDlhYTc1YjMyOTI5NmE2ZTNlID0gJChgPGRpdiBpZD0iaHRtbF8wZWFjN2QzMDk5YWY0MTA5YWE3NWIzMjkyOTZhNmUzZSIgc3R5bGU9IndpZHRoOiAxMDAuMCU7IGhlaWdodDogMTAwLjAlOyI+VEVVU0FRVUlMTE88L2Rpdj5gKVswXTsKICAgICAgICAgICAgICAgIHBvcHVwXzk0NGQ3OTMxZmZhNDQ0ZmE5OGI5NzdkNWU3YTI3ZTEyLnNldENvbnRlbnQoaHRtbF8wZWFjN2QzMDk5YWY0MTA5YWE3NWIzMjkyOTZhNmUzZSk7CiAgICAgICAgICAgIAoKICAgICAgICAgICAgY2lyY2xlX21hcmtlcl85YzQwODlkODRhYzI0Njc5OTkxYjViYTdiYTM4YzM2ZC5iaW5kUG9wdXAocG9wdXBfOTQ0ZDc5MzFmZmE0NDRmYTk4Yjk3N2Q1ZTdhMjdlMTIpCiAgICAgICAgICAgIDsKCiAgICAgICAgICAgIAogICAgICAgIAogICAgCiAgICAgICAgICAgIHZhciBjaXJjbGVfbWFya2VyX2Y5NDI4ZjBjMjQ3ZDQ0M2E5ODZlMmU3NzBkNTJmNWM2ID0gTC5jaXJjbGVNYXJrZXIoCiAgICAgICAgICAgICAgICBbNC41OTM5LCAtNzQuMDczOV0sCiAgICAgICAgICAgICAgICB7CiAgImJ1YmJsaW5nTW91c2VFdmVudHMiOiB0cnVlLAogICJjb2xvciI6ICJibHVlIiwKICAiZGFzaEFycmF5IjogbnVsbCwKICAiZGFzaE9mZnNldCI6IG51bGwsCiAgImZpbGwiOiB0cnVlLAogICJmaWxsQ29sb3IiOiAiIzMxODZjYyIsCiAgImZpbGxPcGFjaXR5IjogMC43LAogICJmaWxsUnVsZSI6ICJldmVub2RkIiwKICAibGluZUNhcCI6ICJyb3VuZCIsCiAgImxpbmVKb2luIjogInJvdW5kIiwKICAib3BhY2l0eSI6IDEuMCwKICAicmFkaXVzIjogNSwKICAic3Ryb2tlIjogdHJ1ZSwKICAid2VpZ2h0IjogMwp9CiAgICAgICAgICAgICAgICApCiAgICAgICAgICAgICAgICAuYWRkVG8obWFwXzQ2YTAzMjg3OGRmNjQwYWY4ZmMyYTMwM2E4YjA2Y2Q2KTsKICAgICAgICAgICAgCiAgICAKICAgICAgICAgICAgdmFyIHBvcHVwXzc3ZGQ3MzQyNDkwNDRjZDg4YjNjMDBkYjU3NmU4OWE4ID0gTC5wb3B1cCh7bWF4V2lkdGg6ICcxMDAlJwogICAgICAgICAgICAKICAgICAgICAgICAgfSk7CgogICAgICAgICAgICAKICAgICAgICAgICAgICAgIHZhciBodG1sXzAxYTlhZThlZTk3ZTQ1MzRiNmY3YzcyOGI3ZGEyYTkyID0gJChgPGRpdiBpZD0iaHRtbF8wMWE5YWU4ZWU5N2U0NTM0YjZmN2M3MjhiN2RhMmE5MiIgc3R5bGU9IndpZHRoOiAxMDAuMCU7IGhlaWdodDogMTAwLjAlOyI+TEEgQ0FOREVMQVJJQTwvZGl2PmApWzBdOwogICAgICAgICAgICAgICAgcG9wdXBfNzdkZDczNDI0OTA0NGNkODhiM2MwMGRiNTc2ZTg5YTguc2V0Q29udGVudChodG1sXzAxYTlhZThlZTk3ZTQ1MzRiNmY3YzcyOGI3ZGEyYTkyKTsKICAgICAgICAgICAgCgogICAgICAgICAgICBjaXJjbGVfbWFya2VyX2Y5NDI4ZjBjMjQ3ZDQ0M2E5ODZlMmU3NzBkNTJmNWM2LmJpbmRQb3B1cChwb3B1cF83N2RkNzM0MjQ5MDQ0Y2Q4OGIzYzAwZGI1NzZlODlhOCkKICAgICAgICAgICAgOwoKICAgICAgICAgICAgCiAgICAgICAgCiAgICAKICAgICAgICAgICAgdmFyIGNpcmNsZV9tYXJrZXJfNWQxN2E2NDYwYjg3NGUzMWEzNGY4ZjVjNmE4OTU3M2IgPSBMLmNpcmNsZU1hcmtlcigKICAgICAgICAgICAgICAgIFs0LjU5NjMsIC03NC4wMjk4XSwKICAgICAgICAgICAgICAgIHsKICAiYnViYmxpbmdNb3VzZUV2ZW50cyI6IHRydWUsCiAgImNvbG9yIjogImJsdWUiLAogICJkYXNoQXJyYXkiOiBudWxsLAogICJkYXNoT2Zmc2V0IjogbnVsbCwKICAiZmlsbCI6IHRydWUsCiAgImZpbGxDb2xvciI6ICIjMzE4NmNjIiwKICAiZmlsbE9wYWNpdHkiOiAwLjcsCiAgImZpbGxSdWxlIjogImV2ZW5vZGQiLAogICJsaW5lQ2FwIjogInJvdW5kIiwKICAibGluZUpvaW4iOiAicm91bmQiLAogICJvcGFjaXR5IjogMS4wLAogICJyYWRpdXMiOiA1LAogICJzdHJva2UiOiB0cnVlLAogICJ3ZWlnaHQiOiAzCn0KICAgICAgICAgICAgICAgICkKICAgICAgICAgICAgICAgIC5hZGRUbyhtYXBfNDZhMDMyODc4ZGY2NDBhZjhmYzJhMzAzYThiMDZjZDYpOwogICAgICAgICAgICAKICAgIAogICAgICAgICAgICB2YXIgcG9wdXBfMzBkZTgzYzcwNTVmNDZhYjk3ODMyN2QyM2UwOGI3ZGYgPSBMLnBvcHVwKHttYXhXaWR0aDogJzEwMCUnCiAgICAgICAgICAgIAogICAgICAgICAgICB9KTsKCiAgICAgICAgICAgIAogICAgICAgICAgICAgICAgdmFyIGh0bWxfZGFjODc4MzExN2MyNGRlOWFmMzNiMmE5OWFlYzJkODkgPSAkKGA8ZGl2IGlkPSJodG1sX2RhYzg3ODMxMTdjMjRkZTlhZjMzYjJhOTlhZWMyZDg5IiBzdHlsZT0id2lkdGg6IDEwMC4wJTsgaGVpZ2h0OiAxMDAuMCU7Ij5TQU5UQSBGRTwvZGl2PmApWzBdOwogICAgICAgICAgICAgICAgcG9wdXBfMzBkZTgzYzcwNTVmNDZhYjk3ODMyN2QyM2UwOGI3ZGYuc2V0Q29udGVudChodG1sX2RhYzg3ODMxMTdjMjRkZTlhZjMzYjJhOTlhZWMyZDg5KTsKICAgICAgICAgICAgCgogICAgICAgICAgICBjaXJjbGVfbWFya2VyXzVkMTdhNjQ2MGI4NzRlMzFhMzRmOGY1YzZhODk1NzNiLmJpbmRQb3B1cChwb3B1cF8zMGRlODNjNzA1NWY0NmFiOTc4MzI3ZDIzZTA4YjdkZikKICAgICAgICAgICAgOwoKICAgICAgICAgICAgCiAgICAgICAgCiAgICAKICAgICAgICAgICAgdmFyIGNpcmNsZV9tYXJrZXJfMzM0Mzk1ZjFkYTI2NGQxNWI2M2ZlYTJhMGU5Y2Y5NTggPSBMLmNpcmNsZU1hcmtlcigKICAgICAgICAgICAgICAgIFs0Ljc2NTIsIC03NC4wODI0XSwKICAgICAgICAgICAgICAgIHsKICAiYnViYmxpbmdNb3VzZUV2ZW50cyI6IHRydWUsCiAgImNvbG9yIjogImJsdWUiLAogICJkYXNoQXJyYXkiOiBudWxsLAogICJkYXNoT2Zmc2V0IjogbnVsbCwKICAiZmlsbCI6IHRydWUsCiAgImZpbGxDb2xvciI6ICIjMzE4NmNjIiwKICAiZmlsbE9wYWNpdHkiOiAwLjcsCiAgImZpbGxSdWxlIjogImV2ZW5vZGQiLAogICJsaW5lQ2FwIjogInJvdW5kIiwKICAibGluZUpvaW4iOiAicm91bmQiLAogICJvcGFjaXR5IjogMS4wLAogICJyYWRpdXMiOiA1LAogICJzdHJva2UiOiB0cnVlLAogICJ3ZWlnaHQiOiAzCn0KICAgICAgICAgICAgICAgICkKICAgICAgICAgICAgICAgIC5hZGRUbyhtYXBfNDZhMDMyODc4ZGY2NDBhZjhmYzJhMzAzYThiMDZjZDYpOwogICAgICAgICAgICAKICAgIAogICAgICAgICAgICB2YXIgcG9wdXBfNDYwNGU1NDY2MDkzNDZkYTkwZDc0NWNmNzdiYzFjNWUgPSBMLnBvcHVwKHttYXhXaWR0aDogJzEwMCUnCiAgICAgICAgICAgIAogICAgICAgICAgICB9KTsKCiAgICAgICAgICAgIAogICAgICAgICAgICAgICAgdmFyIGh0bWxfNGNlNmRhMGY0Zjc0NDdiMDkxYTg2OTFlZTIzNGFiMmUgPSAkKGA8ZGl2IGlkPSJodG1sXzRjZTZkYTBmNGY3NDQ3YjA5MWE4NjkxZWUyMzRhYjJlIiBzdHlsZT0id2lkdGg6IDEwMC4wJTsgaGVpZ2h0OiAxMDAuMCU7Ij5TVUJBPC9kaXY+YClbMF07CiAgICAgICAgICAgICAgICBwb3B1cF80NjA0ZTU0NjYwOTM0NmRhOTBkNzQ1Y2Y3N2JjMWM1ZS5zZXRDb250ZW50KGh0bWxfNGNlNmRhMGY0Zjc0NDdiMDkxYTg2OTFlZTIzNGFiMmUpOwogICAgICAgICAgICAKCiAgICAgICAgICAgIGNpcmNsZV9tYXJrZXJfMzM0Mzk1ZjFkYTI2NGQxNWI2M2ZlYTJhMGU5Y2Y5NTguYmluZFBvcHVwKHBvcHVwXzQ2MDRlNTQ2NjA5MzQ2ZGE5MGQ3NDVjZjc3YmMxYzVlKQogICAgICAgICAgICA7CgogICAgICAgICAgICAKICAgICAgICAKICAgIAogICAgICAgICAgICB2YXIgY2lyY2xlX21hcmtlcl81MTRhY2UwM2IyMzY0YjI4YjFmNjdhNTY4ZjFjZWYyNiA9IEwuY2lyY2xlTWFya2VyKAogICAgICAgICAgICAgICAgWzQuNjgzMiwgLTc0LjE0NzldLAogICAgICAgICAgICAgICAgewogICJidWJibGluZ01vdXNlRXZlbnRzIjogdHJ1ZSwKICAiY29sb3IiOiAiYmx1ZSIsCiAgImRhc2hBcnJheSI6IG51bGwsCiAgImRhc2hPZmZzZXQiOiBudWxsLAogICJmaWxsIjogdHJ1ZSwKICAiZmlsbENvbG9yIjogIiMzMTg2Y2MiLAogICJmaWxsT3BhY2l0eSI6IDAuNywKICAiZmlsbFJ1bGUiOiAiZXZlbm9kZCIsCiAgImxpbmVDYXAiOiAicm91bmQiLAogICJsaW5lSm9pbiI6ICJyb3VuZCIsCiAgIm9wYWNpdHkiOiAxLjAsCiAgInJhZGl1cyI6IDUsCiAgInN0cm9rZSI6IHRydWUsCiAgIndlaWdodCI6IDMKfQogICAgICAgICAgICAgICAgKQogICAgICAgICAgICAgICAgLmFkZFRvKG1hcF80NmEwMzI4NzhkZjY0MGFmOGZjMmEzMDNhOGIwNmNkNik7CiAgICAgICAgICAgIAogICAgCiAgICAgICAgICAgIHZhciBwb3B1cF8wNzBiZWZkM2RiZWU0YzNmYmE1NDAxZTUwYzViZTNkMSA9IEwucG9wdXAoe21heFdpZHRoOiAnMTAwJScKICAgICAgICAgICAgCiAgICAgICAgICAgIH0pOwoKICAgICAgICAgICAgCiAgICAgICAgICAgICAgICB2YXIgaHRtbF80YWU3MTE2M2Q3NzQ0NmE4OTliYmQxZWE1ODJlMmFiYyA9ICQoYDxkaXYgaWQ9Imh0bWxfNGFlNzExNjNkNzc0NDZhODk5YmJkMWVhNTgyZTJhYmMiIHN0eWxlPSJ3aWR0aDogMTAwLjAlOyBoZWlnaHQ6IDEwMC4wJTsiPkZPTlRJQk9OPC9kaXY+YClbMF07CiAgICAgICAgICAgICAgICBwb3B1cF8wNzBiZWZkM2RiZWU0YzNmYmE1NDAxZTUwYzViZTNkMS5zZXRDb250ZW50KGh0bWxfNGFlNzExNjNkNzc0NDZhODk5YmJkMWVhNTgyZTJhYmMpOwogICAgICAgICAgICAKCiAgICAgICAgICAgIGNpcmNsZV9tYXJrZXJfNTE0YWNlMDNiMjM2NGIyOGIxZjY3YTU2OGYxY2VmMjYuYmluZFBvcHVwKHBvcHVwXzA3MGJlZmQzZGJlZTRjM2ZiYTU0MDFlNTBjNWJlM2QxKQogICAgICAgICAgICA7CgogICAgICAgICAgICAKICAgICAgICAKICAgIAogICAgICAgICAgICB2YXIgY2lyY2xlX21hcmtlcl83NmRlNDE3OWYwN2I0Y2I0YTlhYjY5M2U0ZWE2NjVjZCA9IEwuY2lyY2xlTWFya2VyKAogICAgICAgICAgICAgICAgWzQuNjAzLCAtNzQuMDkxM10sCiAgICAgICAgICAgICAgICB7CiAgImJ1YmJsaW5nTW91c2VFdmVudHMiOiB0cnVlLAogICJjb2xvciI6ICJibHVlIiwKICAiZGFzaEFycmF5IjogbnVsbCwKICAiZGFzaE9mZnNldCI6IG51bGwsCiAgImZpbGwiOiB0cnVlLAogICJmaWxsQ29sb3IiOiAiIzMxODZjYyIsCiAgImZpbGxPcGFjaXR5IjogMC43LAogICJmaWxsUnVsZSI6ICJldmVub2RkIiwKICAibGluZUNhcCI6ICJyb3VuZCIsCiAgImxpbmVKb2luIjogInJvdW5kIiwKICAib3BhY2l0eSI6IDEuMCwKICAicmFkaXVzIjogNSwKICAic3Ryb2tlIjogdHJ1ZSwKICAid2VpZ2h0IjogMwp9CiAgICAgICAgICAgICAgICApCiAgICAgICAgICAgICAgICAuYWRkVG8obWFwXzQ2YTAzMjg3OGRmNjQwYWY4ZmMyYTMwM2E4YjA2Y2Q2KTsKICAgICAgICAgICAgCiAgICAKICAgICAgICAgICAgdmFyIHBvcHVwX2QyY2IyODNhYzRiMDQzMjZiMTA4NjE3Y2QxODllNmRiID0gTC5wb3B1cCh7bWF4V2lkdGg6ICcxMDAlJwogICAgICAgICAgICAKICAgICAgICAgICAgfSk7CgogICAgICAgICAgICAKICAgICAgICAgICAgICAgIHZhciBodG1sX2IwZDU2MDBjYjBiMTRiOTc5YTg1Yjg3ZjIwOTEzMjAwID0gJChgPGRpdiBpZD0iaHRtbF9iMGQ1NjAwY2IwYjE0Yjk3OWE4NWI4N2YyMDkxMzIwMCIgc3R5bGU9IndpZHRoOiAxMDAuMCU7IGhlaWdodDogMTAwLjAlOyI+TE9TIE1BUlRJUkVTPC9kaXY+YClbMF07CiAgICAgICAgICAgICAgICBwb3B1cF9kMmNiMjgzYWM0YjA0MzI2YjEwODYxN2NkMTg5ZTZkYi5zZXRDb250ZW50KGh0bWxfYjBkNTYwMGNiMGIxNGI5NzlhODViODdmMjA5MTMyMDApOwogICAgICAgICAgICAKCiAgICAgICAgICAgIGNpcmNsZV9tYXJrZXJfNzZkZTQxNzlmMDdiNGNiNGE5YWI2OTNlNGVhNjY1Y2QuYmluZFBvcHVwKHBvcHVwX2QyY2IyODNhYzRiMDQzMjZiMTA4NjE3Y2QxODllNmRiKQogICAgICAgICAgICA7CgogICAgICAgICAgICAKICAgICAgICAKICAgIAogICAgICAgICAgICB2YXIgY2lyY2xlX21hcmtlcl9iYjZkNzU3MTI5YWM0YjdmYTI5MDVkZjYyOTBjMzk4YyA9IEwuY2lyY2xlTWFya2VyKAogICAgICAgICAgICAgICAgWzQuNTQ2MzAwMDAwMDAwMDAwNSwgLTc0LjA4ODNdLAogICAgICAgICAgICAgICAgewogICJidWJibGluZ01vdXNlRXZlbnRzIjogdHJ1ZSwKICAiY29sb3IiOiAiYmx1ZSIsCiAgImRhc2hBcnJheSI6IG51bGwsCiAgImRhc2hPZmZzZXQiOiBudWxsLAogICJmaWxsIjogdHJ1ZSwKICAiZmlsbENvbG9yIjogIiMzMTg2Y2MiLAogICJmaWxsT3BhY2l0eSI6IDAuNywKICAiZmlsbFJ1bGUiOiAiZXZlbm9kZCIsCiAgImxpbmVDYXAiOiAicm91bmQiLAogICJsaW5lSm9pbiI6ICJyb3VuZCIsCiAgIm9wYWNpdHkiOiAxLjAsCiAgInJhZGl1cyI6IDUsCiAgInN0cm9rZSI6IHRydWUsCiAgIndlaWdodCI6IDMKfQogICAgICAgICAgICAgICAgKQogICAgICAgICAgICAgICAgLmFkZFRvKG1hcF80NmEwMzI4NzhkZjY0MGFmOGZjMmEzMDNhOGIwNmNkNik7CiAgICAgICAgICAgIAogICAgCiAgICAgICAgICAgIHZhciBwb3B1cF9iNWRlMTJhYTE2ZDE0NzcyOTc4NzQ0ZWUyMjQ2MDk1YSA9IEwucG9wdXAoe21heFdpZHRoOiAnMTAwJScKICAgICAgICAgICAgCiAgICAgICAgICAgIH0pOwoKICAgICAgICAgICAgCiAgICAgICAgICAgICAgICB2YXIgaHRtbF8wNDc5YmVhYzM3Y2M0ZGIxOWEwYzAzMDJkMTU5MDhlMCA9ICQoYDxkaXYgaWQ9Imh0bWxfMDQ3OWJlYWMzN2NjNGRiMTlhMGMwMzAyZDE1OTA4ZTAiIHN0eWxlPSJ3aWR0aDogMTAwLjAlOyBoZWlnaHQ6IDEwMC4wJTsiPlNBTiBDUklTVE9CQUw8L2Rpdj5gKVswXTsKICAgICAgICAgICAgICAgIHBvcHVwX2I1ZGUxMmFhMTZkMTQ3NzI5Nzg3NDRlZTIyNDYwOTVhLnNldENvbnRlbnQoaHRtbF8wNDc5YmVhYzM3Y2M0ZGIxOWEwYzAzMDJkMTU5MDhlMCk7CiAgICAgICAgICAgIAoKICAgICAgICAgICAgY2lyY2xlX21hcmtlcl9iYjZkNzU3MTI5YWM0YjdmYTI5MDVkZjYyOTBjMzk4Yy5iaW5kUG9wdXAocG9wdXBfYjVkZTEyYWExNmQxNDc3Mjk3ODc0NGVlMjI0NjA5NWEpCiAgICAgICAgICAgIDsKCiAgICAgICAgICAgIAogICAgICAgIAogICAgCiAgICAgICAgICAgIHZhciBjaXJjbGVfbWFya2VyX2IwMTJiNWQ2ZmU4ZDQzOTNhZDlhODYyZTY5MDI1MTEyID0gTC5jaXJjbGVNYXJrZXIoCiAgICAgICAgICAgICAgICBbNC40NzY2LCAtNzQuMTAzM10sCiAgICAgICAgICAgICAgICB7CiAgImJ1YmJsaW5nTW91c2VFdmVudHMiOiB0cnVlLAogICJjb2xvciI6ICJibHVlIiwKICAiZGFzaEFycmF5IjogbnVsbCwKICAiZGFzaE9mZnNldCI6IG51bGwsCiAgImZpbGwiOiB0cnVlLAogICJmaWxsQ29sb3IiOiAiIzMxODZjYyIsCiAgImZpbGxPcGFjaXR5IjogMC43LAogICJmaWxsUnVsZSI6ICJldmVub2RkIiwKICAibGluZUNhcCI6ICJyb3VuZCIsCiAgImxpbmVKb2luIjogInJvdW5kIiwKICAib3BhY2l0eSI6IDEuMCwKICAicmFkaXVzIjogNSwKICAic3Ryb2tlIjogdHJ1ZSwKICAid2VpZ2h0IjogMwp9CiAgICAgICAgICAgICAgICApCiAgICAgICAgICAgICAgICAuYWRkVG8obWFwXzQ2YTAzMjg3OGRmNjQwYWY4ZmMyYTMwM2E4YjA2Y2Q2KTsKICAgICAgICAgICAgCiAgICAKICAgICAgICAgICAgdmFyIHBvcHVwXzVhMjY3NDJmNWVmNTRlNGI4YWYyZjVmZGU2YjlkZmNkID0gTC5wb3B1cCh7bWF4V2lkdGg6ICcxMDAlJwogICAgICAgICAgICAKICAgICAgICAgICAgfSk7CgogICAgICAgICAgICAKICAgICAgICAgICAgICAgIHZhciBodG1sXzEzMmE5ZGU0N2RlNjQ4Yjc4ODhkNDg4MWRmMzk5MmJhID0gJChgPGRpdiBpZD0iaHRtbF8xMzJhOWRlNDdkZTY0OGI3ODg4ZDQ4ODFkZjM5OTJiYSIgc3R5bGU9IndpZHRoOiAxMDAuMCU7IGhlaWdodDogMTAwLjAlOyI+VVNNRTwvZGl2PmApWzBdOwogICAgICAgICAgICAgICAgcG9wdXBfNWEyNjc0MmY1ZWY1NGU0YjhhZjJmNWZkZTZiOWRmY2Quc2V0Q29udGVudChodG1sXzEzMmE5ZGU0N2RlNjQ4Yjc4ODhkNDg4MWRmMzk5MmJhKTsKICAgICAgICAgICAgCgogICAgICAgICAgICBjaXJjbGVfbWFya2VyX2IwMTJiNWQ2ZmU4ZDQzOTNhZDlhODYyZTY5MDI1MTEyLmJpbmRQb3B1cChwb3B1cF81YTI2NzQyZjVlZjU0ZTRiOGFmMmY1ZmRlNmI5ZGZjZCkKICAgICAgICAgICAgOwoKICAgICAgICAgICAgCiAgICAgICAgCiAgICAKICAgICAgICAgICAgdmFyIGNpcmNsZV9tYXJrZXJfYzY0NWZlYzQ4MmVkNGNjZjkwYjlkNDM4ZDc5NzhlMzkgPSBMLmNpcmNsZU1hcmtlcigKICAgICAgICAgICAgICAgIFs0LjYxNDksIC03NC4xMjI3XSwKICAgICAgICAgICAgICAgIHsKICAiYnViYmxpbmdNb3VzZUV2ZW50cyI6IHRydWUsCiAgImNvbG9yIjogImJsdWUiLAogICJkYXNoQXJyYXkiOiBudWxsLAogICJkYXNoT2Zmc2V0IjogbnVsbCwKICAiZmlsbCI6IHRydWUsCiAgImZpbGxDb2xvciI6ICIjMzE4NmNjIiwKICAiZmlsbE9wYWNpdHkiOiAwLjcsCiAgImZpbGxSdWxlIjogImV2ZW5vZGQiLAogICJsaW5lQ2FwIjogInJvdW5kIiwKICAibGluZUpvaW4iOiAicm91bmQiLAogICJvcGFjaXR5IjogMS4wLAogICJyYWRpdXMiOiA1LAogICJzdHJva2UiOiB0cnVlLAogICJ3ZWlnaHQiOiAzCn0KICAgICAgICAgICAgICAgICkKICAgICAgICAgICAgICAgIC5hZGRUbyhtYXBfNDZhMDMyODc4ZGY2NDBhZjhmYzJhMzAzYThiMDZjZDYpOwogICAgICAgICAgICAKICAgIAogICAgICAgICAgICB2YXIgcG9wdXBfNGRhZWE3YTJmNmYyNGQ0Nzk5YTkzNTdhYzgzN2IzNmUgPSBMLnBvcHVwKHttYXhXaWR0aDogJzEwMCUnCiAgICAgICAgICAgIAogICAgICAgICAgICB9KTsKCiAgICAgICAgICAgIAogICAgICAgICAgICAgICAgdmFyIGh0bWxfYjdiOGMzNGRiNzZmNDY0MWExZWVlOGMyZGU2ZmM5NjEgPSAkKGA8ZGl2IGlkPSJodG1sX2I3YjhjMzRkYjc2ZjQ2NDFhMWVlZThjMmRlNmZjOTYxIiBzdHlsZT0id2lkdGg6IDEwMC4wJTsgaGVpZ2h0OiAxMDAuMCU7Ij5QVUVOVEUgQVJBTkRBPC9kaXY+YClbMF07CiAgICAgICAgICAgICAgICBwb3B1cF80ZGFlYTdhMmY2ZjI0ZDQ3OTlhOTM1N2FjODM3YjM2ZS5zZXRDb250ZW50KGh0bWxfYjdiOGMzNGRiNzZmNDY0MWExZWVlOGMyZGU2ZmM5NjEpOwogICAgICAgICAgICAKCiAgICAgICAgICAgIGNpcmNsZV9tYXJrZXJfYzY0NWZlYzQ4MmVkNGNjZjkwYjlkNDM4ZDc5NzhlMzkuYmluZFBvcHVwKHBvcHVwXzRkYWVhN2EyZjZmMjRkNDc5OWE5MzU3YWM4MzdiMzZlKQogICAgICAgICAgICA7CgogICAgICAgICAgICAKICAgICAgICAKICAgIAogICAgICAgICAgICB2YXIgY2lyY2xlX21hcmtlcl9jODAxMGY5MjZjYjA0N2Q0ODEzOTM2YTcwNjg0NTU4YSA9IEwuY2lyY2xlTWFya2VyKAogICAgICAgICAgICAgICAgWzQuNzQ4NSwgLTc0LjAzMTJdLAogICAgICAgICAgICAgICAgewogICJidWJibGluZ01vdXNlRXZlbnRzIjogdHJ1ZSwKICAiY29sb3IiOiAiYmx1ZSIsCiAgImRhc2hBcnJheSI6IG51bGwsCiAgImRhc2hPZmZzZXQiOiBudWxsLAogICJmaWxsIjogdHJ1ZSwKICAiZmlsbENvbG9yIjogIiMzMTg2Y2MiLAogICJmaWxsT3BhY2l0eSI6IDAuNywKICAiZmlsbFJ1bGUiOiAiZXZlbm9kZCIsCiAgImxpbmVDYXAiOiAicm91bmQiLAogICJsaW5lSm9pbiI6ICJyb3VuZCIsCiAgIm9wYWNpdHkiOiAxLjAsCiAgInJhZGl1cyI6IDUsCiAgInN0cm9rZSI6IHRydWUsCiAgIndlaWdodCI6IDMKfQogICAgICAgICAgICAgICAgKQogICAgICAgICAgICAgICAgLmFkZFRvKG1hcF80NmEwMzI4NzhkZjY0MGFmOGZjMmEzMDNhOGIwNmNkNik7CiAgICAgICAgICAgIAogICAgCiAgICAgICAgICAgIHZhciBwb3B1cF9mMzA3NDIwYTI1YzE0MjkzYmQwMzMwMjk5ZjlmZjM0ZCA9IEwucG9wdXAoe21heFdpZHRoOiAnMTAwJScKICAgICAgICAgICAgCiAgICAgICAgICAgIH0pOwoKICAgICAgICAgICAgCiAgICAgICAgICAgICAgICB2YXIgaHRtbF85YjlhYjM1YmMwNjc0OTc3OTk4Y2E3NWE2YmEwOTlmMiA9ICQoYDxkaXYgaWQ9Imh0bWxfOWI5YWIzNWJjMDY3NDk3Nzk5OGNhNzVhNmJhMDk5ZjIiIHN0eWxlPSJ3aWR0aDogMTAwLjAlOyBoZWlnaHQ6IDEwMC4wJTsiPlVTQVFVRU48L2Rpdj5gKVswXTsKICAgICAgICAgICAgICAgIHBvcHVwX2YzMDc0MjBhMjVjMTQyOTNiZDAzMzAyOTlmOWZmMzRkLnNldENvbnRlbnQoaHRtbF85YjlhYjM1YmMwNjc0OTc3OTk4Y2E3NWE2YmEwOTlmMik7CiAgICAgICAgICAgIAoKICAgICAgICAgICAgY2lyY2xlX21hcmtlcl9jODAxMGY5MjZjYjA0N2Q0ODEzOTM2YTcwNjg0NTU4YS5iaW5kUG9wdXAocG9wdXBfZjMwNzQyMGEyNWMxNDI5M2JkMDMzMDI5OWY5ZmYzNGQpCiAgICAgICAgICAgIDsKCiAgICAgICAgICAgIAogICAgICAgIAogICAgCiAgICAgICAgICAgIHZhciBjaXJjbGVfbWFya2VyX2Q3NmE5NTRjZjM5ZjQ2MTZiM2Y5YzkwMTEzYzYyODlhID0gTC5jaXJjbGVNYXJrZXIoCiAgICAgICAgICAgICAgICBbNC42MzA1LCAtNzQuMTk0NV0sCiAgICAgICAgICAgICAgICB7CiAgImJ1YmJsaW5nTW91c2VFdmVudHMiOiB0cnVlLAogICJjb2xvciI6ICJibHVlIiwKICAiZGFzaEFycmF5IjogbnVsbCwKICAiZGFzaE9mZnNldCI6IG51bGwsCiAgImZpbGwiOiB0cnVlLAogICJmaWxsQ29sb3IiOiAiIzMxODZjYyIsCiAgImZpbGxPcGFjaXR5IjogMC43LAogICJmaWxsUnVsZSI6ICJldmVub2RkIiwKICAibGluZUNhcCI6ICJyb3VuZCIsCiAgImxpbmVKb2luIjogInJvdW5kIiwKICAib3BhY2l0eSI6IDEuMCwKICAicmFkaXVzIjogNSwKICAic3Ryb2tlIjogdHJ1ZSwKICAid2VpZ2h0IjogMwp9CiAgICAgICAgICAgICAgICApCiAgICAgICAgICAgICAgICAuYWRkVG8obWFwXzQ2YTAzMjg3OGRmNjQwYWY4ZmMyYTMwM2E4YjA2Y2Q2KTsKICAgICAgICAgICAgCiAgICAKICAgICAgICAgICAgdmFyIHBvcHVwXzQyOGI1NjIxZWZkZDRkNTE4ZWM4OGMzMWE4NTEyYmYyID0gTC5wb3B1cCh7bWF4V2lkdGg6ICcxMDAlJwogICAgICAgICAgICAKICAgICAgICAgICAgfSk7CgogICAgICAgICAgICAKICAgICAgICAgICAgICAgIHZhciBodG1sXzE4OGRjMjY3NGY5MTQ5ZTRiZTI5Y2RjNDhhMmE1MmRjID0gJChgPGRpdiBpZD0iaHRtbF8xODhkYzI2NzRmOTE0OWU0YmUyOWNkYzQ4YTJhNTJkYyIgc3R5bGU9IndpZHRoOiAxMDAuMCU7IGhlaWdodDogMTAwLjAlOyI+Qk9TQTwvZGl2PmApWzBdOwogICAgICAgICAgICAgICAgcG9wdXBfNDI4YjU2MjFlZmRkNGQ1MThlYzg4YzMxYTg1MTJiZjIuc2V0Q29udGVudChodG1sXzE4OGRjMjY3NGY5MTQ5ZTRiZTI5Y2RjNDhhMmE1MmRjKTsKICAgICAgICAgICAgCgogICAgICAgICAgICBjaXJjbGVfbWFya2VyX2Q3NmE5NTRjZjM5ZjQ2MTZiM2Y5YzkwMTEzYzYyODlhLmJpbmRQb3B1cChwb3B1cF80MjhiNTYyMWVmZGQ0ZDUxOGVjODhjMzFhODUxMmJmMikKICAgICAgICAgICAgOwoKICAgICAgICAgICAgCiAgICAgICAgCiAgICAKICAgICAgICAgICAgdmFyIGNpcmNsZV9tYXJrZXJfNmRkMjk3M2UxZjAzNDRkZThhZjMwNjdjODU2NmZjYTYgPSBMLmNpcmNsZU1hcmtlcigKICAgICAgICAgICAgICAgIFs0LjUwNjYsIC03NC4xNTM5XSwKICAgICAgICAgICAgICAgIHsKICAiYnViYmxpbmdNb3VzZUV2ZW50cyI6IHRydWUsCiAgImNvbG9yIjogImJsdWUiLAogICJkYXNoQXJyYXkiOiBudWxsLAogICJkYXNoT2Zmc2V0IjogbnVsbCwKICAiZmlsbCI6IHRydWUsCiAgImZpbGxDb2xvciI6ICIjMzE4NmNjIiwKICAiZmlsbE9wYWNpdHkiOiAwLjcsCiAgImZpbGxSdWxlIjogImV2ZW5vZGQiLAogICJsaW5lQ2FwIjogInJvdW5kIiwKICAibGluZUpvaW4iOiAicm91bmQiLAogICJvcGFjaXR5IjogMS4wLAogICJyYWRpdXMiOiA1LAogICJzdHJva2UiOiB0cnVlLAogICJ3ZWlnaHQiOiAzCn0KICAgICAgICAgICAgICAgICkKICAgICAgICAgICAgICAgIC5hZGRUbyhtYXBfNDZhMDMyODc4ZGY2NDBhZjhmYzJhMzAzYThiMDZjZDYpOwogICAgICAgICAgICAKICAgIAogICAgICAgICAgICB2YXIgcG9wdXBfNzFhZTcwYzU3NDEyNGJiYWFlOGVhZjEwOWRlNmRhYzkgPSBMLnBvcHVwKHttYXhXaWR0aDogJzEwMCUnCiAgICAgICAgICAgIAogICAgICAgICAgICB9KTsKCiAgICAgICAgICAgIAogICAgICAgICAgICAgICAgdmFyIGh0bWxfYzAzZjkzNTRjODJiNGE1YmJiZjFkNGY1YWE2YmRlNzEgPSAkKGA8ZGl2IGlkPSJodG1sX2MwM2Y5MzU0YzgyYjRhNWJiYmYxZDRmNWFhNmJkZTcxIiBzdHlsZT0id2lkdGg6IDEwMC4wJTsgaGVpZ2h0OiAxMDAuMCU7Ij5DSVVEQUQgQk9MSVZBUjwvZGl2PmApWzBdOwogICAgICAgICAgICAgICAgcG9wdXBfNzFhZTcwYzU3NDEyNGJiYWFlOGVhZjEwOWRlNmRhYzkuc2V0Q29udGVudChodG1sX2MwM2Y5MzU0YzgyYjRhNWJiYmYxZDRmNWFhNmJkZTcxKTsKICAgICAgICAgICAgCgogICAgICAgICAgICBjaXJjbGVfbWFya2VyXzZkZDI5NzNlMWYwMzQ0ZGU4YWYzMDY3Yzg1NjZmY2E2LmJpbmRQb3B1cChwb3B1cF83MWFlNzBjNTc0MTI0YmJhYWU4ZWFmMTA5ZGU2ZGFjOSkKICAgICAgICAgICAgOwoKICAgICAgICAgICAgCiAgICAgICAgCiAgICAKICAgICAgICAgICAgdmFyIGNpcmNsZV9tYXJrZXJfZjdmYWQzNjM0ZTViNDFkOTk3ZGU3MjY5M2ZjYWVkNTAgPSBMLmNpcmNsZU1hcmtlcigKICAgICAgICAgICAgICAgIFs0LjU2NTMsIC03NC4xMTY0XSwKICAgICAgICAgICAgICAgIHsKICAiYnViYmxpbmdNb3VzZUV2ZW50cyI6IHRydWUsCiAgImNvbG9yIjogImJsdWUiLAogICJkYXNoQXJyYXkiOiBudWxsLAogICJkYXNoT2Zmc2V0IjogbnVsbCwKICAiZmlsbCI6IHRydWUsCiAgImZpbGxDb2xvciI6ICIjMzE4NmNjIiwKICAiZmlsbE9wYWNpdHkiOiAwLjcsCiAgImZpbGxSdWxlIjogImV2ZW5vZGQiLAogICJsaW5lQ2FwIjogInJvdW5kIiwKICAibGluZUpvaW4iOiAicm91bmQiLAogICJvcGFjaXR5IjogMS4wLAogICJyYWRpdXMiOiA1LAogICJzdHJva2UiOiB0cnVlLAogICJ3ZWlnaHQiOiAzCn0KICAgICAgICAgICAgICAgICkKICAgICAgICAgICAgICAgIC5hZGRUbyhtYXBfNDZhMDMyODc4ZGY2NDBhZjhmYzJhMzAzYThiMDZjZDYpOwogICAgICAgICAgICAKICAgIAogICAgICAgICAgICB2YXIgcG9wdXBfZjIzZjkwZjBiMWI0NDI0NDhkMzEyZDRhZDJjNTYxNjcgPSBMLnBvcHVwKHttYXhXaWR0aDogJzEwMCUnCiAgICAgICAgICAgIAogICAgICAgICAgICB9KTsKCiAgICAgICAgICAgIAogICAgICAgICAgICAgICAgdmFyIGh0bWxfNDZjN2E5ZDdjYTNiNDAwMTk3MDUzM2Q5NWJmMDcyOWQgPSAkKGA8ZGl2IGlkPSJodG1sXzQ2YzdhOWQ3Y2EzYjQwMDE5NzA1MzNkOTViZjA3MjlkIiBzdHlsZT0id2lkdGg6IDEwMC4wJTsgaGVpZ2h0OiAxMDAuMCU7Ij5SQUZBRUwgVVJJQkUgVVJJQkU8L2Rpdj5gKVswXTsKICAgICAgICAgICAgICAgIHBvcHVwX2YyM2Y5MGYwYjFiNDQyNDQ4ZDMxMmQ0YWQyYzU2MTY3LnNldENvbnRlbnQoaHRtbF80NmM3YTlkN2NhM2I0MDAxOTcwNTMzZDk1YmYwNzI5ZCk7CiAgICAgICAgICAgIAoKICAgICAgICAgICAgY2lyY2xlX21hcmtlcl9mN2ZhZDM2MzRlNWI0MWQ5OTdkZTcyNjkzZmNhZWQ1MC5iaW5kUG9wdXAocG9wdXBfZjIzZjkwZjBiMWI0NDI0NDhkMzEyZDRhZDJjNTYxNjcpCiAgICAgICAgICAgIDsKCiAgICAgICAgICAgIAogICAgICAgIAogICAgCiAgICAgICAgICAgIHZhciBjaXJjbGVfbWFya2VyX2E0YjU1MTFlZTE3YTRkMzFiOGE3NjAwYTdiYjJmYWJiID0gTC5jaXJjbGVNYXJrZXIoCiAgICAgICAgICAgICAgICBbNC42MjY4LCAtNzQuMTU3M10sCiAgICAgICAgICAgICAgICB7CiAgImJ1YmJsaW5nTW91c2VFdmVudHMiOiB0cnVlLAogICJjb2xvciI6ICJibHVlIiwKICAiZGFzaEFycmF5IjogbnVsbCwKICAiZGFzaE9mZnNldCI6IG51bGwsCiAgImZpbGwiOiB0cnVlLAogICJmaWxsQ29sb3IiOiAiIzMxODZjYyIsCiAgImZpbGxPcGFjaXR5IjogMC43LAogICJmaWxsUnVsZSI6ICJldmVub2RkIiwKICAibGluZUNhcCI6ICJyb3VuZCIsCiAgImxpbmVKb2luIjogInJvdW5kIiwKICAib3BhY2l0eSI6IDEuMCwKICAicmFkaXVzIjogNSwKICAic3Ryb2tlIjogdHJ1ZSwKICAid2VpZ2h0IjogMwp9CiAgICAgICAgICAgICAgICApCiAgICAgICAgICAgICAgICAuYWRkVG8obWFwXzQ2YTAzMjg3OGRmNjQwYWY4ZmMyYTMwM2E4YjA2Y2Q2KTsKICAgICAgICAgICAgCiAgICAKICAgICAgICAgICAgdmFyIHBvcHVwX2NkNGU0MDU4NmZkMTQ1YmY5NWEyMzg4OTBmYjY4NzdiID0gTC5wb3B1cCh7bWF4V2lkdGg6ICcxMDAlJwogICAgICAgICAgICAKICAgICAgICAgICAgfSk7CgogICAgICAgICAgICAKICAgICAgICAgICAgICAgIHZhciBodG1sX2ZiYzhkNWJkYWIzNjQzN2VhZTJhY2NlOGFhMTYzNzIxID0gJChgPGRpdiBpZD0iaHRtbF9mYmM4ZDViZGFiMzY0MzdlYWUyYWNjZThhYTE2MzcyMSIgc3R5bGU9IndpZHRoOiAxMDAuMCU7IGhlaWdodDogMTAwLjAlOyI+S0VOTkVEWTwvZGl2PmApWzBdOwogICAgICAgICAgICAgICAgcG9wdXBfY2Q0ZTQwNTg2ZmQxNDViZjk1YTIzODg5MGZiNjg3N2Iuc2V0Q29udGVudChodG1sX2ZiYzhkNWJkYWIzNjQzN2VhZTJhY2NlOGFhMTYzNzIxKTsKICAgICAgICAgICAgCgogICAgICAgICAgICBjaXJjbGVfbWFya2VyX2E0YjU1MTFlZTE3YTRkMzFiOGE3NjAwYTdiYjJmYWJiLmJpbmRQb3B1cChwb3B1cF9jZDRlNDA1ODZmZDE0NWJmOTVhMjM4ODkwZmI2ODc3YikKICAgICAgICAgICAgOwoKICAgICAgICAgICAgCiAgICAgICAgCiAgICAKICAgICAgICAgICAgdmFyIGNpcmNsZV9tYXJrZXJfMWU3Y2Q4ODZjNWIxNDgzOTljMTEzYjFiMzBiYjNjY2YgPSBMLmNpcmNsZU1hcmtlcigKICAgICAgICAgICAgICAgIFs0LjY1NjksIC03NC4wNDY3XSwKICAgICAgICAgICAgICAgIHsKICAiYnViYmxpbmdNb3VzZUV2ZW50cyI6IHRydWUsCiAgImNvbG9yIjogImJsdWUiLAogICJkYXNoQXJyYXkiOiBudWxsLAogICJkYXNoT2Zmc2V0IjogbnVsbCwKICAiZmlsbCI6IHRydWUsCiAgImZpbGxDb2xvciI6ICIjMzE4NmNjIiwKICAiZmlsbE9wYWNpdHkiOiAwLjcsCiAgImZpbGxSdWxlIjogImV2ZW5vZGQiLAogICJsaW5lQ2FwIjogInJvdW5kIiwKICAibGluZUpvaW4iOiAicm91bmQiLAogICJvcGFjaXR5IjogMS4wLAogICJyYWRpdXMiOiA1LAogICJzdHJva2UiOiB0cnVlLAogICJ3ZWlnaHQiOiAzCn0KICAgICAgICAgICAgICAgICkKICAgICAgICAgICAgICAgIC5hZGRUbyhtYXBfNDZhMDMyODc4ZGY2NDBhZjhmYzJhMzAzYThiMDZjZDYpOwogICAgICAgICAgICAKICAgIAogICAgICAgICAgICB2YXIgcG9wdXBfYTVmOTRjOTkyMGM3NDYxMTlmOGQzYWUzMWUzOTEwZjAgPSBMLnBvcHVwKHttYXhXaWR0aDogJzEwMCUnCiAgICAgICAgICAgIAogICAgICAgICAgICB9KTsKCiAgICAgICAgICAgIAogICAgICAgICAgICAgICAgdmFyIGh0bWxfM2ZlMmEyMjQ3OTczNGIwYjkwMjQ1MjliZWI5ZTY4NGUgPSAkKGA8ZGl2IGlkPSJodG1sXzNmZTJhMjI0Nzk3MzRiMGI5MDI0NTI5YmViOWU2ODRlIiBzdHlsZT0id2lkdGg6IDEwMC4wJTsgaGVpZ2h0OiAxMDAuMCU7Ij5DSEFQSU5FUk88L2Rpdj5gKVswXTsKICAgICAgICAgICAgICAgIHBvcHVwX2E1Zjk0Yzk5MjBjNzQ2MTE5ZjhkM2FlMzFlMzkxMGYwLnNldENvbnRlbnQoaHRtbF8zZmUyYTIyNDc5NzM0YjBiOTAyNDUyOWJlYjllNjg0ZSk7CiAgICAgICAgICAgIAoKICAgICAgICAgICAgY2lyY2xlX21hcmtlcl8xZTdjZDg4NmM1YjE0ODM5OWMxMTNiMWIzMGJiM2NjZi5iaW5kUG9wdXAocG9wdXBfYTVmOTRjOTkyMGM3NDYxMTlmOGQzYWUzMWUzOTEwZjApCiAgICAgICAgICAgIDsKCiAgICAgICAgICAgIAogICAgICAgIAogICAgCiAgICAgICAgICAgIHZhciBjaXJjbGVfbWFya2VyXzNmYzI5M2Q0MDk3ZjQzODNiN2ZjOGU2YTU4ZGQ2Y2QyID0gTC5jaXJjbGVNYXJrZXIoCiAgICAgICAgICAgICAgICBbNC41ODc1LCAtNzQuMTQwN10sCiAgICAgICAgICAgICAgICB7CiAgImJ1YmJsaW5nTW91c2VFdmVudHMiOiB0cnVlLAogICJjb2xvciI6ICJibHVlIiwKICAiZGFzaEFycmF5IjogbnVsbCwKICAiZGFzaE9mZnNldCI6IG51bGwsCiAgImZpbGwiOiB0cnVlLAogICJmaWxsQ29sb3IiOiAiIzMxODZjYyIsCiAgImZpbGxPcGFjaXR5IjogMC43LAogICJmaWxsUnVsZSI6ICJldmVub2RkIiwKICAibGluZUNhcCI6ICJyb3VuZCIsCiAgImxpbmVKb2luIjogInJvdW5kIiwKICAib3BhY2l0eSI6IDEuMCwKICAicmFkaXVzIjogNSwKICAic3Ryb2tlIjogdHJ1ZSwKICAid2VpZ2h0IjogMwp9CiAgICAgICAgICAgICAgICApCiAgICAgICAgICAgICAgICAuYWRkVG8obWFwXzQ2YTAzMjg3OGRmNjQwYWY4ZmMyYTMwM2E4YjA2Y2Q2KTsKICAgICAgICAgICAgCiAgICAKICAgICAgICAgICAgdmFyIHBvcHVwX2IwOGUxZjQ2ZWE5YTQ2MDA5Yjg4MmZhMmZiMTgzZjVkID0gTC5wb3B1cCh7bWF4V2lkdGg6ICcxMDAlJwogICAgICAgICAgICAKICAgICAgICAgICAgfSk7CgogICAgICAgICAgICAKICAgICAgICAgICAgICAgIHZhciBodG1sXzZkYjgwYjllMDViODQ3MDc4YjUyMGM4MDE1OGJjMDNlID0gJChgPGRpdiBpZD0iaHRtbF82ZGI4MGI5ZTA1Yjg0NzA3OGI1MjBjODAxNThiYzAzZSIgc3R5bGU9IndpZHRoOiAxMDAuMCU7IGhlaWdodDogMTAwLjAlOyI+VFVOSlVFTElUTzwvZGl2PmApWzBdOwogICAgICAgICAgICAgICAgcG9wdXBfYjA4ZTFmNDZlYTlhNDYwMDliODgyZmEyZmIxODNmNWQuc2V0Q29udGVudChodG1sXzZkYjgwYjllMDViODQ3MDc4YjUyMGM4MDE1OGJjMDNlKTsKICAgICAgICAgICAgCgogICAgICAgICAgICBjaXJjbGVfbWFya2VyXzNmYzI5M2Q0MDk3ZjQzODNiN2ZjOGU2YTU4ZGQ2Y2QyLmJpbmRQb3B1cChwb3B1cF9iMDhlMWY0NmVhOWE0NjAwOWI4ODJmYTJmYjE4M2Y1ZCkKICAgICAgICAgICAgOwoKICAgICAgICAgICAgCiAgICAgICAgCiAgICAKICAgICAgICAgICAgdmFyIGNpcmNsZV9tYXJrZXJfYjA0ODYyNzZiNjdjNGM1NGEyOTY3YzQyMDE2YTAxMjMgPSBMLmNpcmNsZU1hcmtlcigKICAgICAgICAgICAgICAgIFs0LjU0ODYsIC03NC4xMDA5XSwKICAgICAgICAgICAgICAgIHsKICAiYnViYmxpbmdNb3VzZUV2ZW50cyI6IHRydWUsCiAgImNvbG9yIjogImJsdWUiLAogICJkYXNoQXJyYXkiOiBudWxsLAogICJkYXNoT2Zmc2V0IjogbnVsbCwKICAiZmlsbCI6IHRydWUsCiAgImZpbGxDb2xvciI6ICIjMzE4NmNjIiwKICAiZmlsbE9wYWNpdHkiOiAwLjcsCiAgImZpbGxSdWxlIjogImV2ZW5vZGQiLAogICJsaW5lQ2FwIjogInJvdW5kIiwKICAibGluZUpvaW4iOiAicm91bmQiLAogICJvcGFjaXR5IjogMS4wLAogICJyYWRpdXMiOiA1LAogICJzdHJva2UiOiB0cnVlLAogICJ3ZWlnaHQiOiAzCn0KICAgICAgICAgICAgICAgICkKICAgICAgICAgICAgICAgIC5hZGRUbyhtYXBfNDZhMDMyODc4ZGY2NDBhZjhmYzJhMzAzYThiMDZjZDYpOwogICAgICAgICAgICAKICAgIAogICAgICAgICAgICB2YXIgcG9wdXBfZmZhYzc3OWIxOTE5NGMyZmFjMmJiNWU5MWY4NDcyMTkgPSBMLnBvcHVwKHttYXhXaWR0aDogJzEwMCUnCiAgICAgICAgICAgIAogICAgICAgICAgICB9KTsKCiAgICAgICAgICAgIAogICAgICAgICAgICAgICAgdmFyIGh0bWxfMmE5ZTkxN2MwNTFlNDI2YWE5YWIyMDJiMjdiMjRkZDEgPSAkKGA8ZGl2IGlkPSJodG1sXzJhOWU5MTdjMDUxZTQyNmFhOWFiMjAyYjI3YjI0ZGQxIiBzdHlsZT0id2lkdGg6IDEwMC4wJTsgaGVpZ2h0OiAxMDAuMCU7Ij5BTlRPTklPIE5BUknDkU88L2Rpdj5gKVswXTsKICAgICAgICAgICAgICAgIHBvcHVwX2ZmYWM3NzliMTkxOTRjMmZhYzJiYjVlOTFmODQ3MjE5LnNldENvbnRlbnQoaHRtbF8yYTllOTE3YzA1MWU0MjZhYTlhYjIwMmIyN2IyNGRkMSk7CiAgICAgICAgICAgIAoKICAgICAgICAgICAgY2lyY2xlX21hcmtlcl9iMDQ4NjI3NmI2N2M0YzU0YTI5NjdjNDIwMTZhMDEyMy5iaW5kUG9wdXAocG9wdXBfZmZhYzc3OWIxOTE5NGMyZmFjMmJiNWU5MWY4NDcyMTkpCiAgICAgICAgICAgIDsKCiAgICAgICAgICAgIAogICAgICAgIAo8L3NjcmlwdD4= onload=\"this.contentDocument.open();this.contentDocument.write(atob(this.getAttribute('data-html')));this.contentDocument.close();\" allowfullscreen webkitallowfullscreen mozallowfullscreen></iframe></div></div>"
            ],
            "text/plain": [
              "<folium.folium.Map at 0x7fbfcb05c400>"
            ]
          },
          "metadata": {
            "tags": []
          },
          "execution_count": 80
        }
      ]
    },
    {
      "cell_type": "markdown",
      "metadata": {
        "id": "iqTBjpu4DBq7"
      },
      "source": [
        "Get information about nearby venues for every localidad"
      ]
    },
    {
      "cell_type": "code",
      "metadata": {
        "id": "KUR218_AYPfT",
        "cellView": "both"
      },
      "source": [
        "#@title\n",
        "CLIENT_ID = '' # your Foursquare ID\n",
        "CLIENT_SECRET = '' # your Foursquare Secret\n",
        "VERSION = '20180605' # Foursquare API version"
      ],
      "execution_count": 3,
      "outputs": []
    },
    {
      "cell_type": "code",
      "metadata": {
        "id": "wVYGGDUCl1VM"
      },
      "source": [
        "def getNearbyVenues(names, latitudes, longitudes, radius=1000):\n",
        "    \n",
        "    venues_list=[]\n",
        "    for name, lat, lng in zip(names, latitudes, longitudes):\n",
        "        print(name)\n",
        "            \n",
        "        # create the API request URL\n",
        "        url = 'https://api.foursquare.com/v2/venues/explore?&client_id={}&client_secret={}&v={}&ll={},{}&radius={}&limit={}'.format(\n",
        "            CLIENT_ID, \n",
        "            CLIENT_SECRET, \n",
        "            VERSION, \n",
        "            lat, \n",
        "            lng, \n",
        "            radius, \n",
        "            LIMIT)\n",
        "            \n",
        "        # make the GET request\n",
        "        results = requests.get(url).json()[\"response\"]['groups'][0]['items']\n",
        "        \n",
        "        # return only relevant information for each nearby venue\n",
        "        venues_list.append([(\n",
        "            name, \n",
        "            lat, \n",
        "            lng, \n",
        "            v['venue']['name'], \n",
        "            v['venue']['location']['lat'], \n",
        "            v['venue']['location']['lng'],  \n",
        "            v['venue']['categories'][0]['name']) for v in results])\n",
        "\n",
        "    nearby_venues = pd.DataFrame([item for venue_list in venues_list for item in venue_list])\n",
        "    nearby_venues.columns = ['Localidad', \n",
        "                  'Localidad Latitude', \n",
        "                  'Localidad Longitude', \n",
        "                  'Venue', \n",
        "                  'Venue Latitude', \n",
        "                  'Venue Longitude', \n",
        "                  'Venue Category']\n",
        "    \n",
        "    return(nearby_venues)"
      ],
      "execution_count": null,
      "outputs": []
    },
    {
      "cell_type": "code",
      "metadata": {
        "id": "DVRYhZOImAbK",
        "outputId": "297b420a-1a30-4872-fc7e-61f91d0aa870",
        "colab": {
          "base_uri": "https://localhost:8080/",
          "height": 357
        }
      },
      "source": [
        "LIMIT = 100\n",
        "\n",
        "venues = getNearbyVenues(names=df1['LOCALIDAD'],\n",
        "                          latitudes=df1['LATITUD'],\n",
        "                          longitudes=df1['LONGITUD']\n",
        "                        )"
      ],
      "execution_count": null,
      "outputs": [
        {
          "output_type": "stream",
          "text": [
            "BARRIOS UNIDOS\n",
            "ENGATIVA\n",
            "SUMAPAZ\n",
            "TEUSAQUILLO\n",
            "LA CANDELARIA\n",
            "SANTA FE\n",
            "SUBA\n",
            "FONTIBON\n",
            "LOS MARTIRES\n",
            "SAN CRISTOBAL\n",
            "USME\n",
            "PUENTE ARANDA\n",
            "USAQUEN\n",
            "BOSA\n",
            "CIUDAD BOLIVAR\n",
            "RAFAEL URIBE URIBE\n",
            "KENNEDY\n",
            "CHAPINERO\n",
            "TUNJUELITO\n",
            "ANTONIO NARIÑO\n"
          ],
          "name": "stdout"
        }
      ]
    },
    {
      "cell_type": "code",
      "metadata": {
        "id": "457luMVRwFo-",
        "outputId": "2bfa7be5-8021-4970-caa1-d59840e633fe",
        "colab": {
          "base_uri": "https://localhost:8080/",
          "height": 221
        }
      },
      "source": [
        "print(venues.shape)\n",
        "venues.head()"
      ],
      "execution_count": null,
      "outputs": [
        {
          "output_type": "stream",
          "text": [
            "(468, 7)\n"
          ],
          "name": "stdout"
        },
        {
          "output_type": "execute_result",
          "data": {
            "text/html": [
              "<div>\n",
              "<style scoped>\n",
              "    .dataframe tbody tr th:only-of-type {\n",
              "        vertical-align: middle;\n",
              "    }\n",
              "\n",
              "    .dataframe tbody tr th {\n",
              "        vertical-align: top;\n",
              "    }\n",
              "\n",
              "    .dataframe thead th {\n",
              "        text-align: right;\n",
              "    }\n",
              "</style>\n",
              "<table border=\"1\" class=\"dataframe\">\n",
              "  <thead>\n",
              "    <tr style=\"text-align: right;\">\n",
              "      <th></th>\n",
              "      <th>Localidad</th>\n",
              "      <th>Localidad Latitude</th>\n",
              "      <th>Localidad Longitude</th>\n",
              "      <th>Venue</th>\n",
              "      <th>Venue Latitude</th>\n",
              "      <th>Venue Longitude</th>\n",
              "      <th>Venue Category</th>\n",
              "    </tr>\n",
              "  </thead>\n",
              "  <tbody>\n",
              "    <tr>\n",
              "      <th>0</th>\n",
              "      <td>BARRIOS UNIDOS</td>\n",
              "      <td>4.6664</td>\n",
              "      <td>-74.084</td>\n",
              "      <td>Centro Canino Cruz Roja</td>\n",
              "      <td>4.665530</td>\n",
              "      <td>-74.086151</td>\n",
              "      <td>Dog Run</td>\n",
              "    </tr>\n",
              "    <tr>\n",
              "      <th>1</th>\n",
              "      <td>BARRIOS UNIDOS</td>\n",
              "      <td>4.6664</td>\n",
              "      <td>-74.084</td>\n",
              "      <td>Riquisimo - Postres y Helados Principal</td>\n",
              "      <td>4.668366</td>\n",
              "      <td>-74.083662</td>\n",
              "      <td>Dessert Shop</td>\n",
              "    </tr>\n",
              "    <tr>\n",
              "      <th>2</th>\n",
              "      <td>BARRIOS UNIDOS</td>\n",
              "      <td>4.6664</td>\n",
              "      <td>-74.084</td>\n",
              "      <td>Solo Postres</td>\n",
              "      <td>4.667903</td>\n",
              "      <td>-74.083965</td>\n",
              "      <td>Dessert Shop</td>\n",
              "    </tr>\n",
              "    <tr>\n",
              "      <th>3</th>\n",
              "      <td>BARRIOS UNIDOS</td>\n",
              "      <td>4.6664</td>\n",
              "      <td>-74.084</td>\n",
              "      <td>Campo de Practica Fedegolf</td>\n",
              "      <td>4.663400</td>\n",
              "      <td>-74.084510</td>\n",
              "      <td>Golf Course</td>\n",
              "    </tr>\n",
              "    <tr>\n",
              "      <th>4</th>\n",
              "      <td>BARRIOS UNIDOS</td>\n",
              "      <td>4.6664</td>\n",
              "      <td>-74.084</td>\n",
              "      <td>Postres La Enramada</td>\n",
              "      <td>4.667113</td>\n",
              "      <td>-74.084464</td>\n",
              "      <td>Dessert Shop</td>\n",
              "    </tr>\n",
              "  </tbody>\n",
              "</table>\n",
              "</div>"
            ],
            "text/plain": [
              "        Localidad  Localidad Latitude  ...  Venue Longitude Venue Category\n",
              "0  BARRIOS UNIDOS              4.6664  ...       -74.086151        Dog Run\n",
              "1  BARRIOS UNIDOS              4.6664  ...       -74.083662   Dessert Shop\n",
              "2  BARRIOS UNIDOS              4.6664  ...       -74.083965   Dessert Shop\n",
              "3  BARRIOS UNIDOS              4.6664  ...       -74.084510    Golf Course\n",
              "4  BARRIOS UNIDOS              4.6664  ...       -74.084464   Dessert Shop\n",
              "\n",
              "[5 rows x 7 columns]"
            ]
          },
          "metadata": {
            "tags": []
          },
          "execution_count": 84
        }
      ]
    },
    {
      "cell_type": "code",
      "metadata": {
        "id": "yVRuQFj5xBnp",
        "outputId": "83ae0d12-3697-4ff2-fb66-5ab2af716f7a",
        "colab": {
          "base_uri": "https://localhost:8080/",
          "height": 607
        }
      },
      "source": [
        "venues.groupby('Localidad').count()\n"
      ],
      "execution_count": null,
      "outputs": [
        {
          "output_type": "execute_result",
          "data": {
            "text/html": [
              "<div>\n",
              "<style scoped>\n",
              "    .dataframe tbody tr th:only-of-type {\n",
              "        vertical-align: middle;\n",
              "    }\n",
              "\n",
              "    .dataframe tbody tr th {\n",
              "        vertical-align: top;\n",
              "    }\n",
              "\n",
              "    .dataframe thead th {\n",
              "        text-align: right;\n",
              "    }\n",
              "</style>\n",
              "<table border=\"1\" class=\"dataframe\">\n",
              "  <thead>\n",
              "    <tr style=\"text-align: right;\">\n",
              "      <th></th>\n",
              "      <th>Localidad Latitude</th>\n",
              "      <th>Localidad Longitude</th>\n",
              "      <th>Venue</th>\n",
              "      <th>Venue Latitude</th>\n",
              "      <th>Venue Longitude</th>\n",
              "      <th>Venue Category</th>\n",
              "    </tr>\n",
              "    <tr>\n",
              "      <th>Localidad</th>\n",
              "      <th></th>\n",
              "      <th></th>\n",
              "      <th></th>\n",
              "      <th></th>\n",
              "      <th></th>\n",
              "      <th></th>\n",
              "    </tr>\n",
              "  </thead>\n",
              "  <tbody>\n",
              "    <tr>\n",
              "      <th>ANTONIO NARIÑO</th>\n",
              "      <td>4</td>\n",
              "      <td>4</td>\n",
              "      <td>4</td>\n",
              "      <td>4</td>\n",
              "      <td>4</td>\n",
              "      <td>4</td>\n",
              "    </tr>\n",
              "    <tr>\n",
              "      <th>BARRIOS UNIDOS</th>\n",
              "      <td>48</td>\n",
              "      <td>48</td>\n",
              "      <td>48</td>\n",
              "      <td>48</td>\n",
              "      <td>48</td>\n",
              "      <td>48</td>\n",
              "    </tr>\n",
              "    <tr>\n",
              "      <th>BOSA</th>\n",
              "      <td>6</td>\n",
              "      <td>6</td>\n",
              "      <td>6</td>\n",
              "      <td>6</td>\n",
              "      <td>6</td>\n",
              "      <td>6</td>\n",
              "    </tr>\n",
              "    <tr>\n",
              "      <th>CHAPINERO</th>\n",
              "      <td>71</td>\n",
              "      <td>71</td>\n",
              "      <td>71</td>\n",
              "      <td>71</td>\n",
              "      <td>71</td>\n",
              "      <td>71</td>\n",
              "    </tr>\n",
              "    <tr>\n",
              "      <th>ENGATIVA</th>\n",
              "      <td>31</td>\n",
              "      <td>31</td>\n",
              "      <td>31</td>\n",
              "      <td>31</td>\n",
              "      <td>31</td>\n",
              "      <td>31</td>\n",
              "    </tr>\n",
              "    <tr>\n",
              "      <th>FONTIBON</th>\n",
              "      <td>7</td>\n",
              "      <td>7</td>\n",
              "      <td>7</td>\n",
              "      <td>7</td>\n",
              "      <td>7</td>\n",
              "      <td>7</td>\n",
              "    </tr>\n",
              "    <tr>\n",
              "      <th>KENNEDY</th>\n",
              "      <td>17</td>\n",
              "      <td>17</td>\n",
              "      <td>17</td>\n",
              "      <td>17</td>\n",
              "      <td>17</td>\n",
              "      <td>17</td>\n",
              "    </tr>\n",
              "    <tr>\n",
              "      <th>LA CANDELARIA</th>\n",
              "      <td>98</td>\n",
              "      <td>98</td>\n",
              "      <td>98</td>\n",
              "      <td>98</td>\n",
              "      <td>98</td>\n",
              "      <td>98</td>\n",
              "    </tr>\n",
              "    <tr>\n",
              "      <th>LOS MARTIRES</th>\n",
              "      <td>20</td>\n",
              "      <td>20</td>\n",
              "      <td>20</td>\n",
              "      <td>20</td>\n",
              "      <td>20</td>\n",
              "      <td>20</td>\n",
              "    </tr>\n",
              "    <tr>\n",
              "      <th>PUENTE ARANDA</th>\n",
              "      <td>14</td>\n",
              "      <td>14</td>\n",
              "      <td>14</td>\n",
              "      <td>14</td>\n",
              "      <td>14</td>\n",
              "      <td>14</td>\n",
              "    </tr>\n",
              "    <tr>\n",
              "      <th>RAFAEL URIBE URIBE</th>\n",
              "      <td>2</td>\n",
              "      <td>2</td>\n",
              "      <td>2</td>\n",
              "      <td>2</td>\n",
              "      <td>2</td>\n",
              "      <td>2</td>\n",
              "    </tr>\n",
              "    <tr>\n",
              "      <th>SAN CRISTOBAL</th>\n",
              "      <td>6</td>\n",
              "      <td>6</td>\n",
              "      <td>6</td>\n",
              "      <td>6</td>\n",
              "      <td>6</td>\n",
              "      <td>6</td>\n",
              "    </tr>\n",
              "    <tr>\n",
              "      <th>SUBA</th>\n",
              "      <td>12</td>\n",
              "      <td>12</td>\n",
              "      <td>12</td>\n",
              "      <td>12</td>\n",
              "      <td>12</td>\n",
              "      <td>12</td>\n",
              "    </tr>\n",
              "    <tr>\n",
              "      <th>SUMAPAZ</th>\n",
              "      <td>1</td>\n",
              "      <td>1</td>\n",
              "      <td>1</td>\n",
              "      <td>1</td>\n",
              "      <td>1</td>\n",
              "      <td>1</td>\n",
              "    </tr>\n",
              "    <tr>\n",
              "      <th>TEUSAQUILLO</th>\n",
              "      <td>100</td>\n",
              "      <td>100</td>\n",
              "      <td>100</td>\n",
              "      <td>100</td>\n",
              "      <td>100</td>\n",
              "      <td>100</td>\n",
              "    </tr>\n",
              "    <tr>\n",
              "      <th>TUNJUELITO</th>\n",
              "      <td>8</td>\n",
              "      <td>8</td>\n",
              "      <td>8</td>\n",
              "      <td>8</td>\n",
              "      <td>8</td>\n",
              "      <td>8</td>\n",
              "    </tr>\n",
              "    <tr>\n",
              "      <th>USAQUEN</th>\n",
              "      <td>23</td>\n",
              "      <td>23</td>\n",
              "      <td>23</td>\n",
              "      <td>23</td>\n",
              "      <td>23</td>\n",
              "      <td>23</td>\n",
              "    </tr>\n",
              "  </tbody>\n",
              "</table>\n",
              "</div>"
            ],
            "text/plain": [
              "                    Localidad Latitude  ...  Venue Category\n",
              "Localidad                               ...                \n",
              "ANTONIO NARIÑO                       4  ...               4\n",
              "BARRIOS UNIDOS                      48  ...              48\n",
              "BOSA                                 6  ...               6\n",
              "CHAPINERO                           71  ...              71\n",
              "ENGATIVA                            31  ...              31\n",
              "FONTIBON                             7  ...               7\n",
              "KENNEDY                             17  ...              17\n",
              "LA CANDELARIA                       98  ...              98\n",
              "LOS MARTIRES                        20  ...              20\n",
              "PUENTE ARANDA                       14  ...              14\n",
              "RAFAEL URIBE URIBE                   2  ...               2\n",
              "SAN CRISTOBAL                        6  ...               6\n",
              "SUBA                                12  ...              12\n",
              "SUMAPAZ                              1  ...               1\n",
              "TEUSAQUILLO                        100  ...             100\n",
              "TUNJUELITO                           8  ...               8\n",
              "USAQUEN                             23  ...              23\n",
              "\n",
              "[17 rows x 6 columns]"
            ]
          },
          "metadata": {
            "tags": []
          },
          "execution_count": 85
        }
      ]
    },
    {
      "cell_type": "markdown",
      "metadata": {
        "id": "NuWIlcUFD53V"
      },
      "source": [
        "Classify the venues as opened or closed during the quarantine"
      ]
    },
    {
      "cell_type": "code",
      "metadata": {
        "id": "oipGgjVEt1m8"
      },
      "source": [
        "#iF IT CONTAINS JOINT, RESTAURANT, PLACE, FOOD, BAKERY, BREAKFAST, CAFÉ, COFFEE, CONVENIENCE STORE, DELI, DINNER, GROCERY, SUPERMARKET IS OPEN\n",
        "openv = venues['Venue Category'].str.contains(pat = 'Joint|Restaurant|Place|Food|Bakery|Breakfast|Café|Coffee|Convenience|Deli|Dinner|Grocery|Supermarket')\n",
        "venues['Open'] = openv"
      ],
      "execution_count": null,
      "outputs": []
    },
    {
      "cell_type": "code",
      "metadata": {
        "id": "FxnVzAv4zTnj"
      },
      "source": [
        "openclose = venues.groupby([\"Localidad\", \"Open\"])[\"Venue\"].count().reset_index(name=\"count\")"
      ],
      "execution_count": null,
      "outputs": []
    },
    {
      "cell_type": "code",
      "metadata": {
        "id": "IYVWmzVL60F6"
      },
      "source": [
        "df1 = df1.sort_values(by=['LOCALIDAD']).reset_index(drop=True)\n",
        "df1 = df1[df1['LOCALIDAD'].isin(venues['Localidad'])].reset_index(drop=True)"
      ],
      "execution_count": null,
      "outputs": []
    },
    {
      "cell_type": "code",
      "metadata": {
        "id": "HlTD4Z7iGHJt"
      },
      "source": [
        "numopen = openclose[openclose['Open']==True]\n",
        "numopen = numopen.reset_index(drop = True)\n",
        "numopen.drop(['Open'], axis=1, inplace=True)\n",
        "numopen.rename(columns={'Localidad':'LOCALIDAD',\n",
        "                          'count':'NUMOPEN'}, \n",
        "                 inplace=True)\n",
        "\n",
        "numclose = openclose[openclose['Open']==False]\n",
        "numclose = numclose.reset_index(drop = True)\n",
        "numclose.drop(['Open'], axis=1, inplace=True)\n",
        "numclose.rename(columns={'Localidad':'LOCALIDAD',\n",
        "                          'count':'NUMCLOSE'}, \n",
        "                 inplace=True)"
      ],
      "execution_count": null,
      "outputs": []
    },
    {
      "cell_type": "code",
      "metadata": {
        "id": "-WXu36k435rY",
        "outputId": "53bca239-ddba-43f0-893d-90e16a902f43",
        "colab": {
          "base_uri": "https://localhost:8080/",
          "height": 204
        }
      },
      "source": [
        "df1=df1.merge(numopen, on='LOCALIDAD')\n",
        "df1=df1.merge(numclose, on='LOCALIDAD')\n",
        "df1.head()"
      ],
      "execution_count": null,
      "outputs": [
        {
          "output_type": "execute_result",
          "data": {
            "text/html": [
              "<div>\n",
              "<style scoped>\n",
              "    .dataframe tbody tr th:only-of-type {\n",
              "        vertical-align: middle;\n",
              "    }\n",
              "\n",
              "    .dataframe tbody tr th {\n",
              "        vertical-align: top;\n",
              "    }\n",
              "\n",
              "    .dataframe thead th {\n",
              "        text-align: right;\n",
              "    }\n",
              "</style>\n",
              "<table border=\"1\" class=\"dataframe\">\n",
              "  <thead>\n",
              "    <tr style=\"text-align: right;\">\n",
              "      <th></th>\n",
              "      <th>LOCALIDAD</th>\n",
              "      <th>LONGITUD</th>\n",
              "      <th>LATITUD</th>\n",
              "      <th>CODIGO</th>\n",
              "      <th>NUMOPEN</th>\n",
              "      <th>NUMCLOSE</th>\n",
              "    </tr>\n",
              "  </thead>\n",
              "  <tbody>\n",
              "    <tr>\n",
              "      <th>0</th>\n",
              "      <td>ANTONIO NARIÑO</td>\n",
              "      <td>-74.1009</td>\n",
              "      <td>4.5486</td>\n",
              "      <td>15</td>\n",
              "      <td>2</td>\n",
              "      <td>2</td>\n",
              "    </tr>\n",
              "    <tr>\n",
              "      <th>1</th>\n",
              "      <td>BARRIOS UNIDOS</td>\n",
              "      <td>-74.0840</td>\n",
              "      <td>4.6664</td>\n",
              "      <td>12</td>\n",
              "      <td>16</td>\n",
              "      <td>32</td>\n",
              "    </tr>\n",
              "    <tr>\n",
              "      <th>2</th>\n",
              "      <td>BOSA</td>\n",
              "      <td>-74.1945</td>\n",
              "      <td>4.6305</td>\n",
              "      <td>7</td>\n",
              "      <td>2</td>\n",
              "      <td>4</td>\n",
              "    </tr>\n",
              "    <tr>\n",
              "      <th>3</th>\n",
              "      <td>CHAPINERO</td>\n",
              "      <td>-74.0467</td>\n",
              "      <td>4.6569</td>\n",
              "      <td>2</td>\n",
              "      <td>42</td>\n",
              "      <td>29</td>\n",
              "    </tr>\n",
              "    <tr>\n",
              "      <th>4</th>\n",
              "      <td>ENGATIVA</td>\n",
              "      <td>-74.1072</td>\n",
              "      <td>4.7071</td>\n",
              "      <td>10</td>\n",
              "      <td>20</td>\n",
              "      <td>11</td>\n",
              "    </tr>\n",
              "  </tbody>\n",
              "</table>\n",
              "</div>"
            ],
            "text/plain": [
              "        LOCALIDAD  LONGITUD  LATITUD  CODIGO  NUMOPEN  NUMCLOSE\n",
              "0  ANTONIO NARIÑO  -74.1009   4.5486      15        2         2\n",
              "1  BARRIOS UNIDOS  -74.0840   4.6664      12       16        32\n",
              "2            BOSA  -74.1945   4.6305       7        2         4\n",
              "3       CHAPINERO  -74.0467   4.6569       2       42        29\n",
              "4        ENGATIVA  -74.1072   4.7071      10       20        11"
            ]
          },
          "metadata": {
            "tags": []
          },
          "execution_count": 90
        }
      ]
    },
    {
      "cell_type": "markdown",
      "metadata": {
        "id": "7B1EsUvFFkgo"
      },
      "source": [
        "Import data from COVID.19 confirmed cases"
      ]
    },
    {
      "cell_type": "code",
      "metadata": {
        "id": "mdaAyIF43R53",
        "outputId": "922243f6-d696-4101-ce3f-169c644aee21",
        "colab": {
          "base_uri": "https://localhost:8080/",
          "height": 204
        }
      },
      "source": [
        "df2 = pd.read_excel('covid.xlsm')\n",
        "df2.dropna(inplace=True)\n",
        "df2.reset_index(drop=True)\n",
        "df2.head()"
      ],
      "execution_count": null,
      "outputs": [
        {
          "output_type": "execute_result",
          "data": {
            "text/html": [
              "<div>\n",
              "<style scoped>\n",
              "    .dataframe tbody tr th:only-of-type {\n",
              "        vertical-align: middle;\n",
              "    }\n",
              "\n",
              "    .dataframe tbody tr th {\n",
              "        vertical-align: top;\n",
              "    }\n",
              "\n",
              "    .dataframe thead th {\n",
              "        text-align: right;\n",
              "    }\n",
              "</style>\n",
              "<table border=\"1\" class=\"dataframe\">\n",
              "  <thead>\n",
              "    <tr style=\"text-align: right;\">\n",
              "      <th></th>\n",
              "      <th>ID</th>\n",
              "      <th>DATE</th>\n",
              "      <th>CITY</th>\n",
              "      <th>CODE</th>\n",
              "      <th>LOCALIDAD</th>\n",
              "      <th>AGE</th>\n",
              "      <th>SEX</th>\n",
              "      <th>KIND</th>\n",
              "      <th>LOCATION</th>\n",
              "      <th>STATE</th>\n",
              "    </tr>\n",
              "  </thead>\n",
              "  <tbody>\n",
              "    <tr>\n",
              "      <th>0</th>\n",
              "      <td>1</td>\n",
              "      <td>2020-03-06</td>\n",
              "      <td>Bogota</td>\n",
              "      <td>1.0</td>\n",
              "      <td>Usaquen</td>\n",
              "      <td>19.0</td>\n",
              "      <td>F</td>\n",
              "      <td>Importado</td>\n",
              "      <td>Casa</td>\n",
              "      <td>Moderado</td>\n",
              "    </tr>\n",
              "    <tr>\n",
              "      <th>1</th>\n",
              "      <td>2</td>\n",
              "      <td>2020-03-10</td>\n",
              "      <td>Bogota</td>\n",
              "      <td>10.0</td>\n",
              "      <td>Engativa</td>\n",
              "      <td>22.0</td>\n",
              "      <td>F</td>\n",
              "      <td>Importado</td>\n",
              "      <td>Casa</td>\n",
              "      <td>Moderado</td>\n",
              "    </tr>\n",
              "    <tr>\n",
              "      <th>2</th>\n",
              "      <td>3</td>\n",
              "      <td>2020-03-10</td>\n",
              "      <td>Bogota</td>\n",
              "      <td>10.0</td>\n",
              "      <td>Engativa</td>\n",
              "      <td>28.0</td>\n",
              "      <td>F</td>\n",
              "      <td>Importado</td>\n",
              "      <td>Casa</td>\n",
              "      <td>Moderado</td>\n",
              "    </tr>\n",
              "    <tr>\n",
              "      <th>3</th>\n",
              "      <td>4</td>\n",
              "      <td>2020-03-12</td>\n",
              "      <td>Bogota</td>\n",
              "      <td>9.0</td>\n",
              "      <td>Fontibon</td>\n",
              "      <td>36.0</td>\n",
              "      <td>F</td>\n",
              "      <td>Importado</td>\n",
              "      <td>Casa</td>\n",
              "      <td>Moderado</td>\n",
              "    </tr>\n",
              "    <tr>\n",
              "      <th>4</th>\n",
              "      <td>5</td>\n",
              "      <td>2020-03-12</td>\n",
              "      <td>Bogota</td>\n",
              "      <td>8.0</td>\n",
              "      <td>Kennedy</td>\n",
              "      <td>42.0</td>\n",
              "      <td>F</td>\n",
              "      <td>Importado</td>\n",
              "      <td>Casa</td>\n",
              "      <td>Moderado</td>\n",
              "    </tr>\n",
              "  </tbody>\n",
              "</table>\n",
              "</div>"
            ],
            "text/plain": [
              "  ID       DATE    CITY  CODE LOCALIDAD   AGE SEX       KIND LOCATION     STATE\n",
              "0  1 2020-03-06  Bogota   1.0   Usaquen  19.0   F  Importado     Casa  Moderado\n",
              "1  2 2020-03-10  Bogota  10.0  Engativa  22.0   F  Importado     Casa  Moderado\n",
              "2  3 2020-03-10  Bogota  10.0  Engativa  28.0   F  Importado     Casa  Moderado\n",
              "3  4 2020-03-12  Bogota   9.0  Fontibon  36.0   F  Importado     Casa  Moderado\n",
              "4  5 2020-03-12  Bogota   8.0   Kennedy  42.0   F  Importado     Casa  Moderado"
            ]
          },
          "metadata": {
            "tags": []
          },
          "execution_count": 91
        }
      ]
    },
    {
      "cell_type": "markdown",
      "metadata": {
        "id": "1yEtu6uEF55a"
      },
      "source": [
        "Erase data outside Bogotá"
      ]
    },
    {
      "cell_type": "code",
      "metadata": {
        "id": "WyodZcgYDB8A"
      },
      "source": [
        "df2 = df2[df2['CITY']=='Bogota']\n",
        "df2.drop(['CITY'], axis=1, inplace=True)"
      ],
      "execution_count": null,
      "outputs": []
    },
    {
      "cell_type": "markdown",
      "metadata": {
        "id": "Yoy8ES6iGDaB"
      },
      "source": [
        "Create a summary dataframe of the variables accumulated by localidad"
      ]
    },
    {
      "cell_type": "code",
      "metadata": {
        "id": "NmyH0jqpDWsC"
      },
      "source": [
        "temp = df2['LOCALIDAD'].value_counts().to_frame()\n",
        "temp = temp.reset_index()\n",
        "temp.rename(columns={'LOCALIDAD':'CASES','index':'LOCALIDAD'}, inplace=True)\n",
        "temp['LOCALIDAD'] = temp['LOCALIDAD'].str.upper() \n",
        "temp = temp[temp['LOCALIDAD']!= 'SIN DATO']"
      ],
      "execution_count": null,
      "outputs": []
    },
    {
      "cell_type": "code",
      "metadata": {
        "id": "xq46wsCsFil1"
      },
      "source": [
        "# one hot encoding\n",
        "Dumms = pd.get_dummies(df2[['KIND','LOCATION','SEX']], prefix=\"\", prefix_sep=\"\")\n",
        "Dumms['Relacionado'] = Dumms['Relacionado']+Dumms['relacionado']\n",
        "Dumms.drop(['relacionado'],axis=1,inplace=True)\n",
        "Dumms['LOCALIDAD']=df2['LOCALIDAD']\n",
        "\n",
        "Dumms2 = pd.get_dummies(df2[['STATE']], prefix=\"\", prefix_sep=\"\")\n",
        "Dumms2.drop(['Fallecido'],axis=1,inplace=True)\n",
        "Dumms2['LOCALIDAD']=df2['LOCALIDAD']\n",
        "Dumms = Dumms.merge(Dumms2)\n",
        "\n",
        "Dumms = Dumms.groupby(['LOCALIDAD'],as_index=False).sum()\n",
        "Dumms['LOCALIDAD'] = Dumms['LOCALIDAD'].str.upper() \n",
        "Dumms = Dumms[Dumms['LOCALIDAD']!= 'SIN DATO']\n",
        "\n",
        "df2.groupby(['LOCALIDAD'],as_index=False).sum()\n",
        "Dumms = Dumms.merge(temp[['LOCALIDAD','CASES']], on='LOCALIDAD')"
      ],
      "execution_count": null,
      "outputs": []
    },
    {
      "cell_type": "code",
      "metadata": {
        "id": "BGStNcLQRQYS",
        "outputId": "36d51bf4-b260-489f-80f6-c770809f71dc",
        "colab": {
          "base_uri": "https://localhost:8080/",
          "height": 34
        }
      },
      "source": [
        "Dumms = Dumms[Dumms['LOCALIDAD'].isin(df1['LOCALIDAD'])].reset_index(drop=True)\n",
        "Dumms.shape"
      ],
      "execution_count": null,
      "outputs": [
        {
          "output_type": "execute_result",
          "data": {
            "text/plain": [
              "(14, 15)"
            ]
          },
          "metadata": {
            "tags": []
          },
          "execution_count": 95
        }
      ]
    },
    {
      "cell_type": "markdown",
      "metadata": {
        "id": "ykshx5A6G3a8"
      },
      "source": [
        "Get descriptive statistics"
      ]
    },
    {
      "cell_type": "code",
      "metadata": {
        "id": "BWpDy_lookV8",
        "outputId": "5c0c5ec9-5a17-40e8-bbc9-41dc0e7e6f72",
        "colab": {
          "base_uri": "https://localhost:8080/",
          "height": 334
        }
      },
      "source": [
        "dfsummary = Dumms.merge(df1, on='LOCALIDAD')\n",
        "\n",
        "dfsummary.describe()"
      ],
      "execution_count": null,
      "outputs": [
        {
          "output_type": "execute_result",
          "data": {
            "text/html": [
              "<div>\n",
              "<style scoped>\n",
              "    .dataframe tbody tr th:only-of-type {\n",
              "        vertical-align: middle;\n",
              "    }\n",
              "\n",
              "    .dataframe tbody tr th {\n",
              "        vertical-align: top;\n",
              "    }\n",
              "\n",
              "    .dataframe thead th {\n",
              "        text-align: right;\n",
              "    }\n",
              "</style>\n",
              "<table border=\"1\" class=\"dataframe\">\n",
              "  <thead>\n",
              "    <tr style=\"text-align: right;\">\n",
              "      <th></th>\n",
              "      <th>Desconocido</th>\n",
              "      <th>En estudio</th>\n",
              "      <th>Importado</th>\n",
              "      <th>Relacionado</th>\n",
              "      <th>Casa</th>\n",
              "      <th>Fallecido</th>\n",
              "      <th>Hospital</th>\n",
              "      <th>Hospital UCI</th>\n",
              "      <th>F</th>\n",
              "      <th>M</th>\n",
              "      <th>Critico</th>\n",
              "      <th>Moderado</th>\n",
              "      <th>Severo</th>\n",
              "      <th>CASES</th>\n",
              "      <th>LONGITUD</th>\n",
              "      <th>LATITUD</th>\n",
              "      <th>CODIGO</th>\n",
              "      <th>NUMOPEN</th>\n",
              "      <th>NUMCLOSE</th>\n",
              "    </tr>\n",
              "  </thead>\n",
              "  <tbody>\n",
              "    <tr>\n",
              "      <th>count</th>\n",
              "      <td>14.000000</td>\n",
              "      <td>14.000000</td>\n",
              "      <td>14.000000</td>\n",
              "      <td>14.000000</td>\n",
              "      <td>14.000000</td>\n",
              "      <td>14.000000</td>\n",
              "      <td>14.000000</td>\n",
              "      <td>14.000000</td>\n",
              "      <td>14.000000</td>\n",
              "      <td>14.000000</td>\n",
              "      <td>14.000000</td>\n",
              "      <td>14.000000</td>\n",
              "      <td>14.000000</td>\n",
              "      <td>14.000000</td>\n",
              "      <td>14.000000</td>\n",
              "      <td>14.000000</td>\n",
              "      <td>14.000000</td>\n",
              "      <td>14.000000</td>\n",
              "      <td>14.000000</td>\n",
              "    </tr>\n",
              "    <tr>\n",
              "      <th>mean</th>\n",
              "      <td>1485.142857</td>\n",
              "      <td>10051.928571</td>\n",
              "      <td>3882.142857</td>\n",
              "      <td>3018.000000</td>\n",
              "      <td>16096.785714</td>\n",
              "      <td>838.285714</td>\n",
              "      <td>1023.571429</td>\n",
              "      <td>478.571429</td>\n",
              "      <td>9489.142857</td>\n",
              "      <td>8948.071429</td>\n",
              "      <td>478.571429</td>\n",
              "      <td>16096.785714</td>\n",
              "      <td>1023.571429</td>\n",
              "      <td>108.214286</td>\n",
              "      <td>-74.107114</td>\n",
              "      <td>4.645686</td>\n",
              "      <td>10.357143</td>\n",
              "      <td>17.428571</td>\n",
              "      <td>14.071429</td>\n",
              "    </tr>\n",
              "    <tr>\n",
              "      <th>std</th>\n",
              "      <td>2138.597163</td>\n",
              "      <td>12849.706465</td>\n",
              "      <td>5500.882529</td>\n",
              "      <td>3930.258594</td>\n",
              "      <td>19959.713568</td>\n",
              "      <td>1221.415032</td>\n",
              "      <td>1509.061691</td>\n",
              "      <td>734.325930</td>\n",
              "      <td>11989.810853</td>\n",
              "      <td>11031.448064</td>\n",
              "      <td>734.325930</td>\n",
              "      <td>19959.713568</td>\n",
              "      <td>1509.061691</td>\n",
              "      <td>85.113660</td>\n",
              "      <td>0.043986</td>\n",
              "      <td>0.064497</td>\n",
              "      <td>5.271216</td>\n",
              "      <td>21.664271</td>\n",
              "      <td>13.606923</td>\n",
              "    </tr>\n",
              "    <tr>\n",
              "      <th>min</th>\n",
              "      <td>0.000000</td>\n",
              "      <td>28.000000</td>\n",
              "      <td>0.000000</td>\n",
              "      <td>21.000000</td>\n",
              "      <td>42.000000</td>\n",
              "      <td>0.000000</td>\n",
              "      <td>0.000000</td>\n",
              "      <td>0.000000</td>\n",
              "      <td>28.000000</td>\n",
              "      <td>21.000000</td>\n",
              "      <td>0.000000</td>\n",
              "      <td>42.000000</td>\n",
              "      <td>0.000000</td>\n",
              "      <td>7.000000</td>\n",
              "      <td>-74.194500</td>\n",
              "      <td>4.548600</td>\n",
              "      <td>1.000000</td>\n",
              "      <td>1.000000</td>\n",
              "      <td>1.000000</td>\n",
              "    </tr>\n",
              "    <tr>\n",
              "      <th>25%</th>\n",
              "      <td>117.000000</td>\n",
              "      <td>1150.500000</td>\n",
              "      <td>165.000000</td>\n",
              "      <td>175.500000</td>\n",
              "      <td>1523.250000</td>\n",
              "      <td>81.000000</td>\n",
              "      <td>81.000000</td>\n",
              "      <td>0.000000</td>\n",
              "      <td>861.000000</td>\n",
              "      <td>891.750000</td>\n",
              "      <td>0.000000</td>\n",
              "      <td>1523.250000</td>\n",
              "      <td>81.000000</td>\n",
              "      <td>41.250000</td>\n",
              "      <td>-74.136200</td>\n",
              "      <td>4.599150</td>\n",
              "      <td>7.250000</td>\n",
              "      <td>2.250000</td>\n",
              "      <td>4.250000</td>\n",
              "    </tr>\n",
              "    <tr>\n",
              "      <th>50%</th>\n",
              "      <td>315.000000</td>\n",
              "      <td>3973.500000</td>\n",
              "      <td>1763.000000</td>\n",
              "      <td>1324.000000</td>\n",
              "      <td>7845.000000</td>\n",
              "      <td>175.000000</td>\n",
              "      <td>352.000000</td>\n",
              "      <td>98.500000</td>\n",
              "      <td>4432.500000</td>\n",
              "      <td>4490.000000</td>\n",
              "      <td>98.500000</td>\n",
              "      <td>7845.000000</td>\n",
              "      <td>352.000000</td>\n",
              "      <td>94.500000</td>\n",
              "      <td>-74.104050</td>\n",
              "      <td>4.637650</td>\n",
              "      <td>10.500000</td>\n",
              "      <td>8.500000</td>\n",
              "      <td>9.500000</td>\n",
              "    </tr>\n",
              "    <tr>\n",
              "      <th>75%</th>\n",
              "      <td>2664.000000</td>\n",
              "      <td>18079.500000</td>\n",
              "      <td>4169.500000</td>\n",
              "      <td>4278.000000</td>\n",
              "      <td>30888.000000</td>\n",
              "      <td>1349.000000</td>\n",
              "      <td>1246.500000</td>\n",
              "      <td>697.500000</td>\n",
              "      <td>18987.000000</td>\n",
              "      <td>16689.750000</td>\n",
              "      <td>697.500000</td>\n",
              "      <td>30888.000000</td>\n",
              "      <td>1246.500000</td>\n",
              "      <td>183.750000</td>\n",
              "      <td>-74.082800</td>\n",
              "      <td>4.679000</td>\n",
              "      <td>14.500000</td>\n",
              "      <td>19.000000</td>\n",
              "      <td>24.500000</td>\n",
              "    </tr>\n",
              "    <tr>\n",
              "      <th>max</th>\n",
              "      <td>6604.000000</td>\n",
              "      <td>36740.000000</td>\n",
              "      <td>16002.000000</td>\n",
              "      <td>11500.000000</td>\n",
              "      <td>56642.000000</td>\n",
              "      <td>3740.000000</td>\n",
              "      <td>5060.000000</td>\n",
              "      <td>2032.000000</td>\n",
              "      <td>32766.000000</td>\n",
              "      <td>31750.000000</td>\n",
              "      <td>2032.000000</td>\n",
              "      <td>56642.000000</td>\n",
              "      <td>5060.000000</td>\n",
              "      <td>254.000000</td>\n",
              "      <td>-74.031200</td>\n",
              "      <td>4.765200</td>\n",
              "      <td>18.000000</td>\n",
              "      <td>65.000000</td>\n",
              "      <td>40.000000</td>\n",
              "    </tr>\n",
              "  </tbody>\n",
              "</table>\n",
              "</div>"
            ],
            "text/plain": [
              "       Desconocido    En estudio     Importado  ...     CODIGO    NUMOPEN   NUMCLOSE\n",
              "count    14.000000     14.000000     14.000000  ...  14.000000  14.000000  14.000000\n",
              "mean   1485.142857  10051.928571   3882.142857  ...  10.357143  17.428571  14.071429\n",
              "std    2138.597163  12849.706465   5500.882529  ...   5.271216  21.664271  13.606923\n",
              "min       0.000000     28.000000      0.000000  ...   1.000000   1.000000   1.000000\n",
              "25%     117.000000   1150.500000    165.000000  ...   7.250000   2.250000   4.250000\n",
              "50%     315.000000   3973.500000   1763.000000  ...  10.500000   8.500000   9.500000\n",
              "75%    2664.000000  18079.500000   4169.500000  ...  14.500000  19.000000  24.500000\n",
              "max    6604.000000  36740.000000  16002.000000  ...  18.000000  65.000000  40.000000\n",
              "\n",
              "[8 rows x 19 columns]"
            ]
          },
          "metadata": {
            "tags": []
          },
          "execution_count": 96
        }
      ]
    },
    {
      "cell_type": "code",
      "metadata": {
        "id": "HbjXqXtZoqR9",
        "outputId": "dd8466b0-9c03-499e-b7f6-9bacad572aec",
        "colab": {
          "base_uri": "https://localhost:8080/",
          "height": 675
        }
      },
      "source": [
        "cor = dfsummary.corr()\n",
        "cor"
      ],
      "execution_count": null,
      "outputs": [
        {
          "output_type": "execute_result",
          "data": {
            "text/html": [
              "<div>\n",
              "<style scoped>\n",
              "    .dataframe tbody tr th:only-of-type {\n",
              "        vertical-align: middle;\n",
              "    }\n",
              "\n",
              "    .dataframe tbody tr th {\n",
              "        vertical-align: top;\n",
              "    }\n",
              "\n",
              "    .dataframe thead th {\n",
              "        text-align: right;\n",
              "    }\n",
              "</style>\n",
              "<table border=\"1\" class=\"dataframe\">\n",
              "  <thead>\n",
              "    <tr style=\"text-align: right;\">\n",
              "      <th></th>\n",
              "      <th>Desconocido</th>\n",
              "      <th>En estudio</th>\n",
              "      <th>Importado</th>\n",
              "      <th>Relacionado</th>\n",
              "      <th>Casa</th>\n",
              "      <th>Fallecido</th>\n",
              "      <th>Hospital</th>\n",
              "      <th>Hospital UCI</th>\n",
              "      <th>F</th>\n",
              "      <th>M</th>\n",
              "      <th>Critico</th>\n",
              "      <th>Moderado</th>\n",
              "      <th>Severo</th>\n",
              "      <th>CASES</th>\n",
              "      <th>LONGITUD</th>\n",
              "      <th>LATITUD</th>\n",
              "      <th>CODIGO</th>\n",
              "      <th>NUMOPEN</th>\n",
              "      <th>NUMCLOSE</th>\n",
              "    </tr>\n",
              "  </thead>\n",
              "  <tbody>\n",
              "    <tr>\n",
              "      <th>Desconocido</th>\n",
              "      <td>1.000000</td>\n",
              "      <td>0.917055</td>\n",
              "      <td>0.874892</td>\n",
              "      <td>0.927016</td>\n",
              "      <td>0.975226</td>\n",
              "      <td>0.864588</td>\n",
              "      <td>0.788230</td>\n",
              "      <td>0.909438</td>\n",
              "      <td>0.971463</td>\n",
              "      <td>0.972757</td>\n",
              "      <td>0.909438</td>\n",
              "      <td>0.975226</td>\n",
              "      <td>0.788230</td>\n",
              "      <td>0.927827</td>\n",
              "      <td>0.204603</td>\n",
              "      <td>0.759177</td>\n",
              "      <td>-0.283637</td>\n",
              "      <td>-0.194209</td>\n",
              "      <td>-0.176270</td>\n",
              "    </tr>\n",
              "    <tr>\n",
              "      <th>En estudio</th>\n",
              "      <td>0.917055</td>\n",
              "      <td>1.000000</td>\n",
              "      <td>0.718332</td>\n",
              "      <td>0.831578</td>\n",
              "      <td>0.935164</td>\n",
              "      <td>0.983283</td>\n",
              "      <td>0.959071</td>\n",
              "      <td>0.976134</td>\n",
              "      <td>0.967033</td>\n",
              "      <td>0.946036</td>\n",
              "      <td>0.976134</td>\n",
              "      <td>0.935164</td>\n",
              "      <td>0.959071</td>\n",
              "      <td>0.939073</td>\n",
              "      <td>0.008553</td>\n",
              "      <td>0.619601</td>\n",
              "      <td>-0.338834</td>\n",
              "      <td>-0.217746</td>\n",
              "      <td>-0.210877</td>\n",
              "    </tr>\n",
              "    <tr>\n",
              "      <th>Importado</th>\n",
              "      <td>0.874892</td>\n",
              "      <td>0.718332</td>\n",
              "      <td>1.000000</td>\n",
              "      <td>0.958479</td>\n",
              "      <td>0.913843</td>\n",
              "      <td>0.680910</td>\n",
              "      <td>0.498831</td>\n",
              "      <td>0.741994</td>\n",
              "      <td>0.866932</td>\n",
              "      <td>0.904233</td>\n",
              "      <td>0.741994</td>\n",
              "      <td>0.913843</td>\n",
              "      <td>0.498831</td>\n",
              "      <td>0.857858</td>\n",
              "      <td>0.495760</td>\n",
              "      <td>0.870082</td>\n",
              "      <td>-0.464639</td>\n",
              "      <td>-0.074837</td>\n",
              "      <td>-0.071273</td>\n",
              "    </tr>\n",
              "    <tr>\n",
              "      <th>Relacionado</th>\n",
              "      <td>0.927016</td>\n",
              "      <td>0.831578</td>\n",
              "      <td>0.958479</td>\n",
              "      <td>1.000000</td>\n",
              "      <td>0.969135</td>\n",
              "      <td>0.785698</td>\n",
              "      <td>0.644270</td>\n",
              "      <td>0.810571</td>\n",
              "      <td>0.942937</td>\n",
              "      <td>0.957730</td>\n",
              "      <td>0.810571</td>\n",
              "      <td>0.969135</td>\n",
              "      <td>0.644270</td>\n",
              "      <td>0.931167</td>\n",
              "      <td>0.388200</td>\n",
              "      <td>0.845139</td>\n",
              "      <td>-0.477298</td>\n",
              "      <td>-0.092491</td>\n",
              "      <td>-0.108602</td>\n",
              "    </tr>\n",
              "    <tr>\n",
              "      <th>Casa</th>\n",
              "      <td>0.975226</td>\n",
              "      <td>0.935164</td>\n",
              "      <td>0.913843</td>\n",
              "      <td>0.969135</td>\n",
              "      <td>1.000000</td>\n",
              "      <td>0.898210</td>\n",
              "      <td>0.797591</td>\n",
              "      <td>0.922856</td>\n",
              "      <td>0.994242</td>\n",
              "      <td>0.998719</td>\n",
              "      <td>0.922856</td>\n",
              "      <td>1.000000</td>\n",
              "      <td>0.797591</td>\n",
              "      <td>0.973230</td>\n",
              "      <td>0.251514</td>\n",
              "      <td>0.797974</td>\n",
              "      <td>-0.422446</td>\n",
              "      <td>-0.160401</td>\n",
              "      <td>-0.160264</td>\n",
              "    </tr>\n",
              "    <tr>\n",
              "      <th>Fallecido</th>\n",
              "      <td>0.864588</td>\n",
              "      <td>0.983283</td>\n",
              "      <td>0.680910</td>\n",
              "      <td>0.785698</td>\n",
              "      <td>0.898210</td>\n",
              "      <td>1.000000</td>\n",
              "      <td>0.960365</td>\n",
              "      <td>0.978900</td>\n",
              "      <td>0.936611</td>\n",
              "      <td>0.914451</td>\n",
              "      <td>0.978900</td>\n",
              "      <td>0.898210</td>\n",
              "      <td>0.960365</td>\n",
              "      <td>0.895127</td>\n",
              "      <td>0.017615</td>\n",
              "      <td>0.557187</td>\n",
              "      <td>-0.312448</td>\n",
              "      <td>-0.229120</td>\n",
              "      <td>-0.204578</td>\n",
              "    </tr>\n",
              "    <tr>\n",
              "      <th>Hospital</th>\n",
              "      <td>0.788230</td>\n",
              "      <td>0.959071</td>\n",
              "      <td>0.498831</td>\n",
              "      <td>0.644270</td>\n",
              "      <td>0.797591</td>\n",
              "      <td>0.960365</td>\n",
              "      <td>1.000000</td>\n",
              "      <td>0.931321</td>\n",
              "      <td>0.856137</td>\n",
              "      <td>0.817727</td>\n",
              "      <td>0.931321</td>\n",
              "      <td>0.797591</td>\n",
              "      <td>1.000000</td>\n",
              "      <td>0.826064</td>\n",
              "      <td>-0.181758</td>\n",
              "      <td>0.422829</td>\n",
              "      <td>-0.231428</td>\n",
              "      <td>-0.228692</td>\n",
              "      <td>-0.216086</td>\n",
              "    </tr>\n",
              "    <tr>\n",
              "      <th>Hospital UCI</th>\n",
              "      <td>0.909438</td>\n",
              "      <td>0.976134</td>\n",
              "      <td>0.741994</td>\n",
              "      <td>0.810571</td>\n",
              "      <td>0.922856</td>\n",
              "      <td>0.978900</td>\n",
              "      <td>0.931321</td>\n",
              "      <td>1.000000</td>\n",
              "      <td>0.950265</td>\n",
              "      <td>0.939300</td>\n",
              "      <td>1.000000</td>\n",
              "      <td>0.922856</td>\n",
              "      <td>0.931321</td>\n",
              "      <td>0.904882</td>\n",
              "      <td>0.044855</td>\n",
              "      <td>0.608908</td>\n",
              "      <td>-0.312615</td>\n",
              "      <td>-0.220579</td>\n",
              "      <td>-0.178118</td>\n",
              "    </tr>\n",
              "    <tr>\n",
              "      <th>F</th>\n",
              "      <td>0.971463</td>\n",
              "      <td>0.967033</td>\n",
              "      <td>0.866932</td>\n",
              "      <td>0.942937</td>\n",
              "      <td>0.994242</td>\n",
              "      <td>0.936611</td>\n",
              "      <td>0.856137</td>\n",
              "      <td>0.950265</td>\n",
              "      <td>1.000000</td>\n",
              "      <td>0.996128</td>\n",
              "      <td>0.950265</td>\n",
              "      <td>0.994242</td>\n",
              "      <td>0.856137</td>\n",
              "      <td>0.973753</td>\n",
              "      <td>0.185544</td>\n",
              "      <td>0.752299</td>\n",
              "      <td>-0.398385</td>\n",
              "      <td>-0.179569</td>\n",
              "      <td>-0.177138</td>\n",
              "    </tr>\n",
              "    <tr>\n",
              "      <th>M</th>\n",
              "      <td>0.972757</td>\n",
              "      <td>0.946036</td>\n",
              "      <td>0.904233</td>\n",
              "      <td>0.957730</td>\n",
              "      <td>0.998719</td>\n",
              "      <td>0.914451</td>\n",
              "      <td>0.817727</td>\n",
              "      <td>0.939300</td>\n",
              "      <td>0.996128</td>\n",
              "      <td>1.000000</td>\n",
              "      <td>0.939300</td>\n",
              "      <td>0.998719</td>\n",
              "      <td>0.817727</td>\n",
              "      <td>0.974908</td>\n",
              "      <td>0.233484</td>\n",
              "      <td>0.786223</td>\n",
              "      <td>-0.418419</td>\n",
              "      <td>-0.166388</td>\n",
              "      <td>-0.161514</td>\n",
              "    </tr>\n",
              "    <tr>\n",
              "      <th>Critico</th>\n",
              "      <td>0.909438</td>\n",
              "      <td>0.976134</td>\n",
              "      <td>0.741994</td>\n",
              "      <td>0.810571</td>\n",
              "      <td>0.922856</td>\n",
              "      <td>0.978900</td>\n",
              "      <td>0.931321</td>\n",
              "      <td>1.000000</td>\n",
              "      <td>0.950265</td>\n",
              "      <td>0.939300</td>\n",
              "      <td>1.000000</td>\n",
              "      <td>0.922856</td>\n",
              "      <td>0.931321</td>\n",
              "      <td>0.904882</td>\n",
              "      <td>0.044855</td>\n",
              "      <td>0.608908</td>\n",
              "      <td>-0.312615</td>\n",
              "      <td>-0.220579</td>\n",
              "      <td>-0.178118</td>\n",
              "    </tr>\n",
              "    <tr>\n",
              "      <th>Moderado</th>\n",
              "      <td>0.975226</td>\n",
              "      <td>0.935164</td>\n",
              "      <td>0.913843</td>\n",
              "      <td>0.969135</td>\n",
              "      <td>1.000000</td>\n",
              "      <td>0.898210</td>\n",
              "      <td>0.797591</td>\n",
              "      <td>0.922856</td>\n",
              "      <td>0.994242</td>\n",
              "      <td>0.998719</td>\n",
              "      <td>0.922856</td>\n",
              "      <td>1.000000</td>\n",
              "      <td>0.797591</td>\n",
              "      <td>0.973230</td>\n",
              "      <td>0.251514</td>\n",
              "      <td>0.797974</td>\n",
              "      <td>-0.422446</td>\n",
              "      <td>-0.160401</td>\n",
              "      <td>-0.160264</td>\n",
              "    </tr>\n",
              "    <tr>\n",
              "      <th>Severo</th>\n",
              "      <td>0.788230</td>\n",
              "      <td>0.959071</td>\n",
              "      <td>0.498831</td>\n",
              "      <td>0.644270</td>\n",
              "      <td>0.797591</td>\n",
              "      <td>0.960365</td>\n",
              "      <td>1.000000</td>\n",
              "      <td>0.931321</td>\n",
              "      <td>0.856137</td>\n",
              "      <td>0.817727</td>\n",
              "      <td>0.931321</td>\n",
              "      <td>0.797591</td>\n",
              "      <td>1.000000</td>\n",
              "      <td>0.826064</td>\n",
              "      <td>-0.181758</td>\n",
              "      <td>0.422829</td>\n",
              "      <td>-0.231428</td>\n",
              "      <td>-0.228692</td>\n",
              "      <td>-0.216086</td>\n",
              "    </tr>\n",
              "    <tr>\n",
              "      <th>CASES</th>\n",
              "      <td>0.927827</td>\n",
              "      <td>0.939073</td>\n",
              "      <td>0.857858</td>\n",
              "      <td>0.931167</td>\n",
              "      <td>0.973230</td>\n",
              "      <td>0.895127</td>\n",
              "      <td>0.826064</td>\n",
              "      <td>0.904882</td>\n",
              "      <td>0.973753</td>\n",
              "      <td>0.974908</td>\n",
              "      <td>0.904882</td>\n",
              "      <td>0.973230</td>\n",
              "      <td>0.826064</td>\n",
              "      <td>1.000000</td>\n",
              "      <td>0.141743</td>\n",
              "      <td>0.793683</td>\n",
              "      <td>-0.486598</td>\n",
              "      <td>-0.146647</td>\n",
              "      <td>-0.180211</td>\n",
              "    </tr>\n",
              "    <tr>\n",
              "      <th>LONGITUD</th>\n",
              "      <td>0.204603</td>\n",
              "      <td>0.008553</td>\n",
              "      <td>0.495760</td>\n",
              "      <td>0.388200</td>\n",
              "      <td>0.251514</td>\n",
              "      <td>0.017615</td>\n",
              "      <td>-0.181758</td>\n",
              "      <td>0.044855</td>\n",
              "      <td>0.185544</td>\n",
              "      <td>0.233484</td>\n",
              "      <td>0.044855</td>\n",
              "      <td>0.251514</td>\n",
              "      <td>-0.181758</td>\n",
              "      <td>0.141743</td>\n",
              "      <td>1.000000</td>\n",
              "      <td>0.366038</td>\n",
              "      <td>-0.140080</td>\n",
              "      <td>0.467962</td>\n",
              "      <td>0.524950</td>\n",
              "    </tr>\n",
              "    <tr>\n",
              "      <th>LATITUD</th>\n",
              "      <td>0.759177</td>\n",
              "      <td>0.619601</td>\n",
              "      <td>0.870082</td>\n",
              "      <td>0.845139</td>\n",
              "      <td>0.797974</td>\n",
              "      <td>0.557187</td>\n",
              "      <td>0.422829</td>\n",
              "      <td>0.608908</td>\n",
              "      <td>0.752299</td>\n",
              "      <td>0.786223</td>\n",
              "      <td>0.608908</td>\n",
              "      <td>0.797974</td>\n",
              "      <td>0.422829</td>\n",
              "      <td>0.793683</td>\n",
              "      <td>0.366038</td>\n",
              "      <td>1.000000</td>\n",
              "      <td>-0.509969</td>\n",
              "      <td>-0.013758</td>\n",
              "      <td>0.086284</td>\n",
              "    </tr>\n",
              "    <tr>\n",
              "      <th>CODIGO</th>\n",
              "      <td>-0.283637</td>\n",
              "      <td>-0.338834</td>\n",
              "      <td>-0.464639</td>\n",
              "      <td>-0.477298</td>\n",
              "      <td>-0.422446</td>\n",
              "      <td>-0.312448</td>\n",
              "      <td>-0.231428</td>\n",
              "      <td>-0.312615</td>\n",
              "      <td>-0.398385</td>\n",
              "      <td>-0.418419</td>\n",
              "      <td>-0.312615</td>\n",
              "      <td>-0.422446</td>\n",
              "      <td>-0.231428</td>\n",
              "      <td>-0.486598</td>\n",
              "      <td>-0.140080</td>\n",
              "      <td>-0.509969</td>\n",
              "      <td>1.000000</td>\n",
              "      <td>0.087472</td>\n",
              "      <td>0.065038</td>\n",
              "    </tr>\n",
              "    <tr>\n",
              "      <th>NUMOPEN</th>\n",
              "      <td>-0.194209</td>\n",
              "      <td>-0.217746</td>\n",
              "      <td>-0.074837</td>\n",
              "      <td>-0.092491</td>\n",
              "      <td>-0.160401</td>\n",
              "      <td>-0.229120</td>\n",
              "      <td>-0.228692</td>\n",
              "      <td>-0.220579</td>\n",
              "      <td>-0.179569</td>\n",
              "      <td>-0.166388</td>\n",
              "      <td>-0.220579</td>\n",
              "      <td>-0.160401</td>\n",
              "      <td>-0.228692</td>\n",
              "      <td>-0.146647</td>\n",
              "      <td>0.467962</td>\n",
              "      <td>-0.013758</td>\n",
              "      <td>0.087472</td>\n",
              "      <td>1.000000</td>\n",
              "      <td>0.892067</td>\n",
              "    </tr>\n",
              "    <tr>\n",
              "      <th>NUMCLOSE</th>\n",
              "      <td>-0.176270</td>\n",
              "      <td>-0.210877</td>\n",
              "      <td>-0.071273</td>\n",
              "      <td>-0.108602</td>\n",
              "      <td>-0.160264</td>\n",
              "      <td>-0.204578</td>\n",
              "      <td>-0.216086</td>\n",
              "      <td>-0.178118</td>\n",
              "      <td>-0.177138</td>\n",
              "      <td>-0.161514</td>\n",
              "      <td>-0.178118</td>\n",
              "      <td>-0.160264</td>\n",
              "      <td>-0.216086</td>\n",
              "      <td>-0.180211</td>\n",
              "      <td>0.524950</td>\n",
              "      <td>0.086284</td>\n",
              "      <td>0.065038</td>\n",
              "      <td>0.892067</td>\n",
              "      <td>1.000000</td>\n",
              "    </tr>\n",
              "  </tbody>\n",
              "</table>\n",
              "</div>"
            ],
            "text/plain": [
              "              Desconocido  En estudio  Importado  ...    CODIGO   NUMOPEN  NUMCLOSE\n",
              "Desconocido      1.000000    0.917055   0.874892  ... -0.283637 -0.194209 -0.176270\n",
              "En estudio       0.917055    1.000000   0.718332  ... -0.338834 -0.217746 -0.210877\n",
              "Importado        0.874892    0.718332   1.000000  ... -0.464639 -0.074837 -0.071273\n",
              "Relacionado      0.927016    0.831578   0.958479  ... -0.477298 -0.092491 -0.108602\n",
              "Casa             0.975226    0.935164   0.913843  ... -0.422446 -0.160401 -0.160264\n",
              "Fallecido        0.864588    0.983283   0.680910  ... -0.312448 -0.229120 -0.204578\n",
              "Hospital         0.788230    0.959071   0.498831  ... -0.231428 -0.228692 -0.216086\n",
              "Hospital UCI     0.909438    0.976134   0.741994  ... -0.312615 -0.220579 -0.178118\n",
              "F                0.971463    0.967033   0.866932  ... -0.398385 -0.179569 -0.177138\n",
              "M                0.972757    0.946036   0.904233  ... -0.418419 -0.166388 -0.161514\n",
              "Critico          0.909438    0.976134   0.741994  ... -0.312615 -0.220579 -0.178118\n",
              "Moderado         0.975226    0.935164   0.913843  ... -0.422446 -0.160401 -0.160264\n",
              "Severo           0.788230    0.959071   0.498831  ... -0.231428 -0.228692 -0.216086\n",
              "CASES            0.927827    0.939073   0.857858  ... -0.486598 -0.146647 -0.180211\n",
              "LONGITUD         0.204603    0.008553   0.495760  ... -0.140080  0.467962  0.524950\n",
              "LATITUD          0.759177    0.619601   0.870082  ... -0.509969 -0.013758  0.086284\n",
              "CODIGO          -0.283637   -0.338834  -0.464639  ...  1.000000  0.087472  0.065038\n",
              "NUMOPEN         -0.194209   -0.217746  -0.074837  ...  0.087472  1.000000  0.892067\n",
              "NUMCLOSE        -0.176270   -0.210877  -0.071273  ...  0.065038  0.892067  1.000000\n",
              "\n",
              "[19 rows x 19 columns]"
            ]
          },
          "metadata": {
            "tags": []
          },
          "execution_count": 97
        }
      ]
    },
    {
      "cell_type": "markdown",
      "metadata": {
        "id": "OaIYKdoARE4O"
      },
      "source": [
        "Create map with cases"
      ]
    },
    {
      "cell_type": "code",
      "metadata": {
        "id": "b9Gbc-upElA3",
        "outputId": "f0967778-c7ae-488e-de6c-0c3df61ef740",
        "colab": {
          "base_uri": "https://localhost:8080/",
          "height": 808
        }
      },
      "source": [
        "map_bog = folium.Map(location=[boglat, boglong], zoom_start=11)\n",
        "\n",
        "for lat, lon, local, cases in zip(dfsummary['LATITUD'], dfsummary['LONGITUD'], dfsummary['LOCALIDAD'], dfsummary['CASES']):\n",
        "    folium.CircleMarker(\n",
        "        [lat, lon],\n",
        "        popup = ('Localidad: ' + str(local).capitalize()),\n",
        "        radius=.15*cases,\n",
        "        color='b',\n",
        "        threshold_scale=[0,1,2,3],\n",
        "        fill_color='yellow',\n",
        "        fill=True,\n",
        "        fill_opacity=0.7\n",
        "        ).add_to(map_bog)\n",
        "map_bog\n"
      ],
      "execution_count": null,
      "outputs": [
        {
          "output_type": "execute_result",
          "data": {
            "text/html": [
              "<div style=\"width:100%;\"><div style=\"position:relative;width:100%;height:0;padding-bottom:60%;\"><iframe src=\"about:blank\" style=\"position:absolute;width:100%;height:100%;left:0;top:0;border:none !important;\" data-html=PCFET0NUWVBFIGh0bWw+CjxoZWFkPiAgICAKICAgIDxtZXRhIGh0dHAtZXF1aXY9ImNvbnRlbnQtdHlwZSIgY29udGVudD0idGV4dC9odG1sOyBjaGFyc2V0PVVURi04IiAvPgogICAgPHNjcmlwdD5MX1BSRUZFUl9DQU5WQVM9ZmFsc2U7IExfTk9fVE9VQ0g9ZmFsc2U7IExfRElTQUJMRV8zRD1mYWxzZTs8L3NjcmlwdD4KICAgIDxzY3JpcHQgc3JjPSJodHRwczovL2Nkbi5qc2RlbGl2ci5uZXQvbnBtL2xlYWZsZXRAMS40LjAvZGlzdC9sZWFmbGV0LmpzIj48L3NjcmlwdD4KICAgIDxzY3JpcHQgc3JjPSJodHRwczovL2NvZGUuanF1ZXJ5LmNvbS9qcXVlcnktMS4xMi40Lm1pbi5qcyI+PC9zY3JpcHQ+CiAgICA8c2NyaXB0IHNyYz0iaHR0cHM6Ly9tYXhjZG4uYm9vdHN0cmFwY2RuLmNvbS9ib290c3RyYXAvMy4yLjAvanMvYm9vdHN0cmFwLm1pbi5qcyI+PC9zY3JpcHQ+CiAgICA8c2NyaXB0IHNyYz0iaHR0cHM6Ly9jZG5qcy5jbG91ZGZsYXJlLmNvbS9hamF4L2xpYnMvTGVhZmxldC5hd2Vzb21lLW1hcmtlcnMvMi4wLjIvbGVhZmxldC5hd2Vzb21lLW1hcmtlcnMuanMiPjwvc2NyaXB0PgogICAgPGxpbmsgcmVsPSJzdHlsZXNoZWV0IiBocmVmPSJodHRwczovL2Nkbi5qc2RlbGl2ci5uZXQvbnBtL2xlYWZsZXRAMS40LjAvZGlzdC9sZWFmbGV0LmNzcyIvPgogICAgPGxpbmsgcmVsPSJzdHlsZXNoZWV0IiBocmVmPSJodHRwczovL21heGNkbi5ib290c3RyYXBjZG4uY29tL2Jvb3RzdHJhcC8zLjIuMC9jc3MvYm9vdHN0cmFwLm1pbi5jc3MiLz4KICAgIDxsaW5rIHJlbD0ic3R5bGVzaGVldCIgaHJlZj0iaHR0cHM6Ly9tYXhjZG4uYm9vdHN0cmFwY2RuLmNvbS9ib290c3RyYXAvMy4yLjAvY3NzL2Jvb3RzdHJhcC10aGVtZS5taW4uY3NzIi8+CiAgICA8bGluayByZWw9InN0eWxlc2hlZXQiIGhyZWY9Imh0dHBzOi8vbWF4Y2RuLmJvb3RzdHJhcGNkbi5jb20vZm9udC1hd2Vzb21lLzQuNi4zL2Nzcy9mb250LWF3ZXNvbWUubWluLmNzcyIvPgogICAgPGxpbmsgcmVsPSJzdHlsZXNoZWV0IiBocmVmPSJodHRwczovL2NkbmpzLmNsb3VkZmxhcmUuY29tL2FqYXgvbGlicy9MZWFmbGV0LmF3ZXNvbWUtbWFya2Vycy8yLjAuMi9sZWFmbGV0LmF3ZXNvbWUtbWFya2Vycy5jc3MiLz4KICAgIDxsaW5rIHJlbD0ic3R5bGVzaGVldCIgaHJlZj0iaHR0cHM6Ly9yYXdjZG4uZ2l0aGFjay5jb20vcHl0aG9uLXZpc3VhbGl6YXRpb24vZm9saXVtL21hc3Rlci9mb2xpdW0vdGVtcGxhdGVzL2xlYWZsZXQuYXdlc29tZS5yb3RhdGUuY3NzIi8+CiAgICA8c3R5bGU+aHRtbCwgYm9keSB7d2lkdGg6IDEwMCU7aGVpZ2h0OiAxMDAlO21hcmdpbjogMDtwYWRkaW5nOiAwO308L3N0eWxlPgogICAgPHN0eWxlPiNtYXAge3Bvc2l0aW9uOmFic29sdXRlO3RvcDowO2JvdHRvbTowO3JpZ2h0OjA7bGVmdDowO308L3N0eWxlPgogICAgCiAgICA8bWV0YSBuYW1lPSJ2aWV3cG9ydCIgY29udGVudD0id2lkdGg9ZGV2aWNlLXdpZHRoLAogICAgICAgIGluaXRpYWwtc2NhbGU9MS4wLCBtYXhpbXVtLXNjYWxlPTEuMCwgdXNlci1zY2FsYWJsZT1ubyIgLz4KICAgIDxzdHlsZT4jbWFwXzRlMTNjYzY4YmM3OTRkMmJiMzYxNWNiZjFmNjEwNjNkIHsKICAgICAgICBwb3NpdGlvbjogcmVsYXRpdmU7CiAgICAgICAgd2lkdGg6IDEwMC4wJTsKICAgICAgICBoZWlnaHQ6IDEwMC4wJTsKICAgICAgICBsZWZ0OiAwLjAlOwogICAgICAgIHRvcDogMC4wJTsKICAgICAgICB9CiAgICA8L3N0eWxlPgo8L2hlYWQ+Cjxib2R5PiAgICAKICAgIAogICAgPGRpdiBjbGFzcz0iZm9saXVtLW1hcCIgaWQ9Im1hcF80ZTEzY2M2OGJjNzk0ZDJiYjM2MTVjYmYxZjYxMDYzZCIgPjwvZGl2Pgo8L2JvZHk+CjxzY3JpcHQ+ICAgIAogICAgCiAgICAKICAgICAgICB2YXIgYm91bmRzID0gbnVsbDsKICAgIAoKICAgIHZhciBtYXBfNGUxM2NjNjhiYzc5NGQyYmIzNjE1Y2JmMWY2MTA2M2QgPSBMLm1hcCgKICAgICAgICAnbWFwXzRlMTNjYzY4YmM3OTRkMmJiMzYxNWNiZjFmNjEwNjNkJywgewogICAgICAgIGNlbnRlcjogWzQuNjI0MzM1LCAtNzQuMDYzNjQ0XSwKICAgICAgICB6b29tOiAxMSwKICAgICAgICBtYXhCb3VuZHM6IGJvdW5kcywKICAgICAgICBsYXllcnM6IFtdLAogICAgICAgIHdvcmxkQ29weUp1bXA6IGZhbHNlLAogICAgICAgIGNyczogTC5DUlMuRVBTRzM4NTcsCiAgICAgICAgem9vbUNvbnRyb2w6IHRydWUsCiAgICAgICAgfSk7CgoKICAgIAogICAgdmFyIHRpbGVfbGF5ZXJfNjFlZTkyNWI0Nzk3NGViMGIwNDE3ZjBiN2IxMmJiZjEgPSBMLnRpbGVMYXllcigKICAgICAgICAnaHR0cHM6Ly97c30udGlsZS5vcGVuc3RyZWV0bWFwLm9yZy97en0ve3h9L3t5fS5wbmcnLAogICAgICAgIHsKICAgICAgICAiYXR0cmlidXRpb24iOiBudWxsLAogICAgICAgICJkZXRlY3RSZXRpbmEiOiBmYWxzZSwKICAgICAgICAibWF4TmF0aXZlWm9vbSI6IDE4LAogICAgICAgICJtYXhab29tIjogMTgsCiAgICAgICAgIm1pblpvb20iOiAwLAogICAgICAgICJub1dyYXAiOiBmYWxzZSwKICAgICAgICAib3BhY2l0eSI6IDEsCiAgICAgICAgInN1YmRvbWFpbnMiOiAiYWJjIiwKICAgICAgICAidG1zIjogZmFsc2UKfSkuYWRkVG8obWFwXzRlMTNjYzY4YmM3OTRkMmJiMzYxNWNiZjFmNjEwNjNkKTsKICAgIAogICAgICAgICAgICB2YXIgY2lyY2xlX21hcmtlcl8wNzZiOWViOWIwZWI0ZGRhYWU5Y2M5ZDA3Mjk0MGNiYSA9IEwuY2lyY2xlTWFya2VyKAogICAgICAgICAgICAgICAgWzQuNTQ4NiwgLTc0LjEwMDldLAogICAgICAgICAgICAgICAgewogICJidWJibGluZ01vdXNlRXZlbnRzIjogdHJ1ZSwKICAiY29sb3IiOiAiYiIsCiAgImRhc2hBcnJheSI6IG51bGwsCiAgImRhc2hPZmZzZXQiOiBudWxsLAogICJmaWxsIjogdHJ1ZSwKICAiZmlsbENvbG9yIjogInllbGxvdyIsCiAgImZpbGxPcGFjaXR5IjogMC43LAogICJmaWxsUnVsZSI6ICJldmVub2RkIiwKICAibGluZUNhcCI6ICJyb3VuZCIsCiAgImxpbmVKb2luIjogInJvdW5kIiwKICAib3BhY2l0eSI6IDEuMCwKICAicmFkaXVzIjogMi41NSwKICAic3Ryb2tlIjogdHJ1ZSwKICAid2VpZ2h0IjogMwp9CiAgICAgICAgICAgICAgICApCiAgICAgICAgICAgICAgICAuYWRkVG8obWFwXzRlMTNjYzY4YmM3OTRkMmJiMzYxNWNiZjFmNjEwNjNkKTsKICAgICAgICAgICAgCiAgICAKICAgICAgICAgICAgdmFyIHBvcHVwX2Y1YTc3ZjljYjM4MDRhMzdiMDEyNzc5NGVjNTQ5Nzk3ID0gTC5wb3B1cCh7bWF4V2lkdGg6ICcxMDAlJwogICAgICAgICAgICAKICAgICAgICAgICAgfSk7CgogICAgICAgICAgICAKICAgICAgICAgICAgICAgIHZhciBodG1sX2I0OGU5NzBkNDkyMzRlMjU4Y2FjMWJlMzVlNmM1OTUxID0gJChgPGRpdiBpZD0iaHRtbF9iNDhlOTcwZDQ5MjM0ZTI1OGNhYzFiZTM1ZTZjNTk1MSIgc3R5bGU9IndpZHRoOiAxMDAuMCU7IGhlaWdodDogMTAwLjAlOyI+TG9jYWxpZGFkOiBBbnRvbmlvIG5hcmnDsW88L2Rpdj5gKVswXTsKICAgICAgICAgICAgICAgIHBvcHVwX2Y1YTc3ZjljYjM4MDRhMzdiMDEyNzc5NGVjNTQ5Nzk3LnNldENvbnRlbnQoaHRtbF9iNDhlOTcwZDQ5MjM0ZTI1OGNhYzFiZTM1ZTZjNTk1MSk7CiAgICAgICAgICAgIAoKICAgICAgICAgICAgY2lyY2xlX21hcmtlcl8wNzZiOWViOWIwZWI0ZGRhYWU5Y2M5ZDA3Mjk0MGNiYS5iaW5kUG9wdXAocG9wdXBfZjVhNzdmOWNiMzgwNGEzN2IwMTI3Nzk0ZWM1NDk3OTcpCiAgICAgICAgICAgIDsKCiAgICAgICAgICAgIAogICAgICAgIAogICAgCiAgICAgICAgICAgIHZhciBjaXJjbGVfbWFya2VyXzdiZDRmYWJkOWYwNzQyMDc4MDk2NGYyNTkyYTlmNTM1ID0gTC5jaXJjbGVNYXJrZXIoCiAgICAgICAgICAgICAgICBbNC42NjY0LCAtNzQuMDg0XSwKICAgICAgICAgICAgICAgIHsKICAiYnViYmxpbmdNb3VzZUV2ZW50cyI6IHRydWUsCiAgImNvbG9yIjogImIiLAogICJkYXNoQXJyYXkiOiBudWxsLAogICJkYXNoT2Zmc2V0IjogbnVsbCwKICAiZmlsbCI6IHRydWUsCiAgImZpbGxDb2xvciI6ICJ5ZWxsb3ciLAogICJmaWxsT3BhY2l0eSI6IDAuNywKICAiZmlsbFJ1bGUiOiAiZXZlbm9kZCIsCiAgImxpbmVDYXAiOiAicm91bmQiLAogICJsaW5lSm9pbiI6ICJyb3VuZCIsCiAgIm9wYWNpdHkiOiAxLjAsCiAgInJhZGl1cyI6IDUuNTUsCiAgInN0cm9rZSI6IHRydWUsCiAgIndlaWdodCI6IDMKfQogICAgICAgICAgICAgICAgKQogICAgICAgICAgICAgICAgLmFkZFRvKG1hcF80ZTEzY2M2OGJjNzk0ZDJiYjM2MTVjYmYxZjYxMDYzZCk7CiAgICAgICAgICAgIAogICAgCiAgICAgICAgICAgIHZhciBwb3B1cF9iNjFjYmUwN2JiODE0MDJiODM2ZDdlMWJjZDMzNGE5MCA9IEwucG9wdXAoe21heFdpZHRoOiAnMTAwJScKICAgICAgICAgICAgCiAgICAgICAgICAgIH0pOwoKICAgICAgICAgICAgCiAgICAgICAgICAgICAgICB2YXIgaHRtbF85YjI0ZDQxNWNiZGM0ZDVjOTkyY2IxZjkzNTNhMzViYSA9ICQoYDxkaXYgaWQ9Imh0bWxfOWIyNGQ0MTVjYmRjNGQ1Yzk5MmNiMWY5MzUzYTM1YmEiIHN0eWxlPSJ3aWR0aDogMTAwLjAlOyBoZWlnaHQ6IDEwMC4wJTsiPkxvY2FsaWRhZDogQmFycmlvcyB1bmlkb3M8L2Rpdj5gKVswXTsKICAgICAgICAgICAgICAgIHBvcHVwX2I2MWNiZTA3YmI4MTQwMmI4MzZkN2UxYmNkMzM0YTkwLnNldENvbnRlbnQoaHRtbF85YjI0ZDQxNWNiZGM0ZDVjOTkyY2IxZjkzNTNhMzViYSk7CiAgICAgICAgICAgIAoKICAgICAgICAgICAgY2lyY2xlX21hcmtlcl83YmQ0ZmFiZDlmMDc0MjA3ODA5NjRmMjU5MmE5ZjUzNS5iaW5kUG9wdXAocG9wdXBfYjYxY2JlMDdiYjgxNDAyYjgzNmQ3ZTFiY2QzMzRhOTApCiAgICAgICAgICAgIDsKCiAgICAgICAgICAgIAogICAgICAgIAogICAgCiAgICAgICAgICAgIHZhciBjaXJjbGVfbWFya2VyXzIxMjcwZGEwZWI1YjRlN2RhMDNjNjNiMjUyODQ4MWM0ID0gTC5jaXJjbGVNYXJrZXIoCiAgICAgICAgICAgICAgICBbNC42MzA1LCAtNzQuMTk0NV0sCiAgICAgICAgICAgICAgICB7CiAgImJ1YmJsaW5nTW91c2VFdmVudHMiOiB0cnVlLAogICJjb2xvciI6ICJiIiwKICAiZGFzaEFycmF5IjogbnVsbCwKICAiZGFzaE9mZnNldCI6IG51bGwsCiAgImZpbGwiOiB0cnVlLAogICJmaWxsQ29sb3IiOiAieWVsbG93IiwKICAiZmlsbE9wYWNpdHkiOiAwLjcsCiAgImZpbGxSdWxlIjogImV2ZW5vZGQiLAogICJsaW5lQ2FwIjogInJvdW5kIiwKICAibGluZUpvaW4iOiAicm91bmQiLAogICJvcGFjaXR5IjogMS4wLAogICJyYWRpdXMiOiAxNC4xLAogICJzdHJva2UiOiB0cnVlLAogICJ3ZWlnaHQiOiAzCn0KICAgICAgICAgICAgICAgICkKICAgICAgICAgICAgICAgIC5hZGRUbyhtYXBfNGUxM2NjNjhiYzc5NGQyYmIzNjE1Y2JmMWY2MTA2M2QpOwogICAgICAgICAgICAKICAgIAogICAgICAgICAgICB2YXIgcG9wdXBfYzMzMjc4NDE2MzA0NDYxZWI0NmZmNmU4ZDdiODBiNTUgPSBMLnBvcHVwKHttYXhXaWR0aDogJzEwMCUnCiAgICAgICAgICAgIAogICAgICAgICAgICB9KTsKCiAgICAgICAgICAgIAogICAgICAgICAgICAgICAgdmFyIGh0bWxfZWMzNmMyMDIyOTFiNGVhYThlYWU2ZmY4YWE3MjI1MWUgPSAkKGA8ZGl2IGlkPSJodG1sX2VjMzZjMjAyMjkxYjRlYWE4ZWFlNmZmOGFhNzIyNTFlIiBzdHlsZT0id2lkdGg6IDEwMC4wJTsgaGVpZ2h0OiAxMDAuMCU7Ij5Mb2NhbGlkYWQ6IEJvc2E8L2Rpdj5gKVswXTsKICAgICAgICAgICAgICAgIHBvcHVwX2MzMzI3ODQxNjMwNDQ2MWViNDZmZjZlOGQ3YjgwYjU1LnNldENvbnRlbnQoaHRtbF9lYzM2YzIwMjI5MWI0ZWFhOGVhZTZmZjhhYTcyMjUxZSk7CiAgICAgICAgICAgIAoKICAgICAgICAgICAgY2lyY2xlX21hcmtlcl8yMTI3MGRhMGViNWI0ZTdkYTAzYzYzYjI1Mjg0ODFjNC5iaW5kUG9wdXAocG9wdXBfYzMzMjc4NDE2MzA0NDYxZWI0NmZmNmU4ZDdiODBiNTUpCiAgICAgICAgICAgIDsKCiAgICAgICAgICAgIAogICAgICAgIAogICAgCiAgICAgICAgICAgIHZhciBjaXJjbGVfbWFya2VyXzgyMDVmY2Q2MmU1ZTQ4MGU4ZTM0YjFmZDM2ZGU1ZDY1ID0gTC5jaXJjbGVNYXJrZXIoCiAgICAgICAgICAgICAgICBbNC42NTY5LCAtNzQuMDQ2N10sCiAgICAgICAgICAgICAgICB7CiAgImJ1YmJsaW5nTW91c2VFdmVudHMiOiB0cnVlLAogICJjb2xvciI6ICJiIiwKICAiZGFzaEFycmF5IjogbnVsbCwKICAiZGFzaE9mZnNldCI6IG51bGwsCiAgImZpbGwiOiB0cnVlLAogICJmaWxsQ29sb3IiOiAieWVsbG93IiwKICAiZmlsbE9wYWNpdHkiOiAwLjcsCiAgImZpbGxSdWxlIjogImV2ZW5vZGQiLAogICJsaW5lQ2FwIjogInJvdW5kIiwKICAibGluZUpvaW4iOiAicm91bmQiLAogICJvcGFjaXR5IjogMS4wLAogICJyYWRpdXMiOiAxNS4yOTk5OTk5OTk5OTk5OTksCiAgInN0cm9rZSI6IHRydWUsCiAgIndlaWdodCI6IDMKfQogICAgICAgICAgICAgICAgKQogICAgICAgICAgICAgICAgLmFkZFRvKG1hcF80ZTEzY2M2OGJjNzk0ZDJiYjM2MTVjYmYxZjYxMDYzZCk7CiAgICAgICAgICAgIAogICAgCiAgICAgICAgICAgIHZhciBwb3B1cF85ZTAzYjA1ZjhkMWE0Yzg0OThjMDY3ZTYwNzYxNjIzMyA9IEwucG9wdXAoe21heFdpZHRoOiAnMTAwJScKICAgICAgICAgICAgCiAgICAgICAgICAgIH0pOwoKICAgICAgICAgICAgCiAgICAgICAgICAgICAgICB2YXIgaHRtbF9kNTc3YWFmZDEwNmY0NzJjOTQzMDkyZGFiMTFmNzM0MyA9ICQoYDxkaXYgaWQ9Imh0bWxfZDU3N2FhZmQxMDZmNDcyYzk0MzA5MmRhYjExZjczNDMiIHN0eWxlPSJ3aWR0aDogMTAwLjAlOyBoZWlnaHQ6IDEwMC4wJTsiPkxvY2FsaWRhZDogQ2hhcGluZXJvPC9kaXY+YClbMF07CiAgICAgICAgICAgICAgICBwb3B1cF85ZTAzYjA1ZjhkMWE0Yzg0OThjMDY3ZTYwNzYxNjIzMy5zZXRDb250ZW50KGh0bWxfZDU3N2FhZmQxMDZmNDcyYzk0MzA5MmRhYjExZjczNDMpOwogICAgICAgICAgICAKCiAgICAgICAgICAgIGNpcmNsZV9tYXJrZXJfODIwNWZjZDYyZTVlNDgwZThlMzRiMWZkMzZkZTVkNjUuYmluZFBvcHVwKHBvcHVwXzllMDNiMDVmOGQxYTRjODQ5OGMwNjdlNjA3NjE2MjMzKQogICAgICAgICAgICA7CgogICAgICAgICAgICAKICAgICAgICAKICAgIAogICAgICAgICAgICB2YXIgY2lyY2xlX21hcmtlcl9mZDNhM2MzOWQwN2Y0MzhhODEyY2IyNDdmNzZlYzM3MCA9IEwuY2lyY2xlTWFya2VyKAogICAgICAgICAgICAgICAgWzQuNzA3MTAwMDAwMDAwMDAwNSwgLTc0LjEwNzJdLAogICAgICAgICAgICAgICAgewogICJidWJibGluZ01vdXNlRXZlbnRzIjogdHJ1ZSwKICAiY29sb3IiOiAiYiIsCiAgImRhc2hBcnJheSI6IG51bGwsCiAgImRhc2hPZmZzZXQiOiBudWxsLAogICJmaWxsIjogdHJ1ZSwKICAiZmlsbENvbG9yIjogInllbGxvdyIsCiAgImZpbGxPcGFjaXR5IjogMC43LAogICJmaWxsUnVsZSI6ICJldmVub2RkIiwKICAibGluZUNhcCI6ICJyb3VuZCIsCiAgImxpbmVKb2luIjogInJvdW5kIiwKICAib3BhY2l0eSI6IDEuMCwKICAicmFkaXVzIjogMzEuMzQ5OTk5OTk5OTk5OTk4LAogICJzdHJva2UiOiB0cnVlLAogICJ3ZWlnaHQiOiAzCn0KICAgICAgICAgICAgICAgICkKICAgICAgICAgICAgICAgIC5hZGRUbyhtYXBfNGUxM2NjNjhiYzc5NGQyYmIzNjE1Y2JmMWY2MTA2M2QpOwogICAgICAgICAgICAKICAgIAogICAgICAgICAgICB2YXIgcG9wdXBfMzc0NzNmMzAxMjc3NGU2Y2E4YTQ3MjdkNmE1NTI4Y2QgPSBMLnBvcHVwKHttYXhXaWR0aDogJzEwMCUnCiAgICAgICAgICAgIAogICAgICAgICAgICB9KTsKCiAgICAgICAgICAgIAogICAgICAgICAgICAgICAgdmFyIGh0bWxfOWQwYTU2YTU0YjFjNDYzYzljMDRiY2EyODU2ZDdiYTAgPSAkKGA8ZGl2IGlkPSJodG1sXzlkMGE1NmE1NGIxYzQ2M2M5YzA0YmNhMjg1NmQ3YmEwIiBzdHlsZT0id2lkdGg6IDEwMC4wJTsgaGVpZ2h0OiAxMDAuMCU7Ij5Mb2NhbGlkYWQ6IEVuZ2F0aXZhPC9kaXY+YClbMF07CiAgICAgICAgICAgICAgICBwb3B1cF8zNzQ3M2YzMDEyNzc0ZTZjYThhNDcyN2Q2YTU1MjhjZC5zZXRDb250ZW50KGh0bWxfOWQwYTU2YTU0YjFjNDYzYzljMDRiY2EyODU2ZDdiYTApOwogICAgICAgICAgICAKCiAgICAgICAgICAgIGNpcmNsZV9tYXJrZXJfZmQzYTNjMzlkMDdmNDM4YTgxMmNiMjQ3Zjc2ZWMzNzAuYmluZFBvcHVwKHBvcHVwXzM3NDczZjMwMTI3NzRlNmNhOGE0NzI3ZDZhNTUyOGNkKQogICAgICAgICAgICA7CgogICAgICAgICAgICAKICAgICAgICAKICAgIAogICAgICAgICAgICB2YXIgY2lyY2xlX21hcmtlcl84MTM5YmZjNjU3MTI0M2I0OGJlYjM4NTZlODA1ZWYxZCA9IEwuY2lyY2xlTWFya2VyKAogICAgICAgICAgICAgICAgWzQuNjgzMiwgLTc0LjE0NzldLAogICAgICAgICAgICAgICAgewogICJidWJibGluZ01vdXNlRXZlbnRzIjogdHJ1ZSwKICAiY29sb3IiOiAiYiIsCiAgImRhc2hBcnJheSI6IG51bGwsCiAgImRhc2hPZmZzZXQiOiBudWxsLAogICJmaWxsIjogdHJ1ZSwKICAiZmlsbENvbG9yIjogInllbGxvdyIsCiAgImZpbGxPcGFjaXR5IjogMC43LAogICJmaWxsUnVsZSI6ICJldmVub2RkIiwKICAibGluZUNhcCI6ICJyb3VuZCIsCiAgImxpbmVKb2luIjogInJvdW5kIiwKICAib3BhY2l0eSI6IDEuMCwKICAicmFkaXVzIjogMTQuMjUsCiAgInN0cm9rZSI6IHRydWUsCiAgIndlaWdodCI6IDMKfQogICAgICAgICAgICAgICAgKQogICAgICAgICAgICAgICAgLmFkZFRvKG1hcF80ZTEzY2M2OGJjNzk0ZDJiYjM2MTVjYmYxZjYxMDYzZCk7CiAgICAgICAgICAgIAogICAgCiAgICAgICAgICAgIHZhciBwb3B1cF81M2I3OGNjOGFlMWU0MzZhOWY4YTgzYmYzOTUzNDk0OSA9IEwucG9wdXAoe21heFdpZHRoOiAnMTAwJScKICAgICAgICAgICAgCiAgICAgICAgICAgIH0pOwoKICAgICAgICAgICAgCiAgICAgICAgICAgICAgICB2YXIgaHRtbF9hNmMzOWE0NWZlMTA0NmNjYWZiYTJiOGE1MmFiYmQ5OCA9ICQoYDxkaXYgaWQ9Imh0bWxfYTZjMzlhNDVmZTEwNDZjY2FmYmEyYjhhNTJhYmJkOTgiIHN0eWxlPSJ3aWR0aDogMTAwLjAlOyBoZWlnaHQ6IDEwMC4wJTsiPkxvY2FsaWRhZDogRm9udGlib248L2Rpdj5gKVswXTsKICAgICAgICAgICAgICAgIHBvcHVwXzUzYjc4Y2M4YWUxZTQzNmE5ZjhhODNiZjM5NTM0OTQ5LnNldENvbnRlbnQoaHRtbF9hNmMzOWE0NWZlMTA0NmNjYWZiYTJiOGE1MmFiYmQ5OCk7CiAgICAgICAgICAgIAoKICAgICAgICAgICAgY2lyY2xlX21hcmtlcl84MTM5YmZjNjU3MTI0M2I0OGJlYjM4NTZlODA1ZWYxZC5iaW5kUG9wdXAocG9wdXBfNTNiNzhjYzhhZTFlNDM2YTlmOGE4M2JmMzk1MzQ5NDkpCiAgICAgICAgICAgIDsKCiAgICAgICAgICAgIAogICAgICAgIAogICAgCiAgICAgICAgICAgIHZhciBjaXJjbGVfbWFya2VyXzNmYWIzYWM5OWVhZTQwNDJhNjBkYTI4MTFiMWJiZWJkID0gTC5jaXJjbGVNYXJrZXIoCiAgICAgICAgICAgICAgICBbNC42MjY4LCAtNzQuMTU3M10sCiAgICAgICAgICAgICAgICB7CiAgImJ1YmJsaW5nTW91c2VFdmVudHMiOiB0cnVlLAogICJjb2xvciI6ICJiIiwKICAiZGFzaEFycmF5IjogbnVsbCwKICAiZGFzaE9mZnNldCI6IG51bGwsCiAgImZpbGwiOiB0cnVlLAogICJmaWxsQ29sb3IiOiAieWVsbG93IiwKICAiZmlsbE9wYWNpdHkiOiAwLjcsCiAgImZpbGxSdWxlIjogImV2ZW5vZGQiLAogICJsaW5lQ2FwIjogInJvdW5kIiwKICAibGluZUpvaW4iOiAicm91bmQiLAogICJvcGFjaXR5IjogMS4wLAogICJyYWRpdXMiOiAzMy4wLAogICJzdHJva2UiOiB0cnVlLAogICJ3ZWlnaHQiOiAzCn0KICAgICAgICAgICAgICAgICkKICAgICAgICAgICAgICAgIC5hZGRUbyhtYXBfNGUxM2NjNjhiYzc5NGQyYmIzNjE1Y2JmMWY2MTA2M2QpOwogICAgICAgICAgICAKICAgIAogICAgICAgICAgICB2YXIgcG9wdXBfYjkxMDg0NzIyOTg4NGI2MmFiZDkyYzExMzhjNmQyNTYgPSBMLnBvcHVwKHttYXhXaWR0aDogJzEwMCUnCiAgICAgICAgICAgIAogICAgICAgICAgICB9KTsKCiAgICAgICAgICAgIAogICAgICAgICAgICAgICAgdmFyIGh0bWxfMTE3ZmQ5MTg5NWM0NDE0MmJkMmFmZGIyMjNjYWFlMTggPSAkKGA8ZGl2IGlkPSJodG1sXzExN2ZkOTE4OTVjNDQxNDJiZDJhZmRiMjIzY2FhZTE4IiBzdHlsZT0id2lkdGg6IDEwMC4wJTsgaGVpZ2h0OiAxMDAuMCU7Ij5Mb2NhbGlkYWQ6IEtlbm5lZHk8L2Rpdj5gKVswXTsKICAgICAgICAgICAgICAgIHBvcHVwX2I5MTA4NDcyMjk4ODRiNjJhYmQ5MmMxMTM4YzZkMjU2LnNldENvbnRlbnQoaHRtbF8xMTdmZDkxODk1YzQ0MTQyYmQyYWZkYjIyM2NhYWUxOCk7CiAgICAgICAgICAgIAoKICAgICAgICAgICAgY2lyY2xlX21hcmtlcl8zZmFiM2FjOTllYWU0MDQyYTYwZGEyODExYjFiYmViZC5iaW5kUG9wdXAocG9wdXBfYjkxMDg0NzIyOTg4NGI2MmFiZDkyYzExMzhjNmQyNTYpCiAgICAgICAgICAgIDsKCiAgICAgICAgICAgIAogICAgICAgIAogICAgCiAgICAgICAgICAgIHZhciBjaXJjbGVfbWFya2VyX2FkNmNlM2VlZGRhYjQ3NGRhM2YxZGEzNzBiM2YwZGMzID0gTC5jaXJjbGVNYXJrZXIoCiAgICAgICAgICAgICAgICBbNC41OTM5LCAtNzQuMDczOV0sCiAgICAgICAgICAgICAgICB7CiAgImJ1YmJsaW5nTW91c2VFdmVudHMiOiB0cnVlLAogICJjb2xvciI6ICJiIiwKICAiZGFzaEFycmF5IjogbnVsbCwKICAiZGFzaE9mZnNldCI6IG51bGwsCiAgImZpbGwiOiB0cnVlLAogICJmaWxsQ29sb3IiOiAieWVsbG93IiwKICAiZmlsbE9wYWNpdHkiOiAwLjcsCiAgImZpbGxSdWxlIjogImV2ZW5vZGQiLAogICJsaW5lQ2FwIjogInJvdW5kIiwKICAibGluZUpvaW4iOiAicm91bmQiLAogICJvcGFjaXR5IjogMS4wLAogICJyYWRpdXMiOiAxLjA1LAogICJzdHJva2UiOiB0cnVlLAogICJ3ZWlnaHQiOiAzCn0KICAgICAgICAgICAgICAgICkKICAgICAgICAgICAgICAgIC5hZGRUbyhtYXBfNGUxM2NjNjhiYzc5NGQyYmIzNjE1Y2JmMWY2MTA2M2QpOwogICAgICAgICAgICAKICAgIAogICAgICAgICAgICB2YXIgcG9wdXBfZjhiNTc1NjNiZjdlNGQyMTkzZTZlYTNhYmE0YTJmOTYgPSBMLnBvcHVwKHttYXhXaWR0aDogJzEwMCUnCiAgICAgICAgICAgIAogICAgICAgICAgICB9KTsKCiAgICAgICAgICAgIAogICAgICAgICAgICAgICAgdmFyIGh0bWxfYWZkNzVkMmU0MGI2NDliODhlNDVhYmM1YWVkNGVhYzUgPSAkKGA8ZGl2IGlkPSJodG1sX2FmZDc1ZDJlNDBiNjQ5Yjg4ZTQ1YWJjNWFlZDRlYWM1IiBzdHlsZT0id2lkdGg6IDEwMC4wJTsgaGVpZ2h0OiAxMDAuMCU7Ij5Mb2NhbGlkYWQ6IExhIGNhbmRlbGFyaWE8L2Rpdj5gKVswXTsKICAgICAgICAgICAgICAgIHBvcHVwX2Y4YjU3NTYzYmY3ZTRkMjE5M2U2ZWEzYWJhNGEyZjk2LnNldENvbnRlbnQoaHRtbF9hZmQ3NWQyZTQwYjY0OWI4OGU0NWFiYzVhZWQ0ZWFjNSk7CiAgICAgICAgICAgIAoKICAgICAgICAgICAgY2lyY2xlX21hcmtlcl9hZDZjZTNlZWRkYWI0NzRkYTNmMWRhMzcwYjNmMGRjMy5iaW5kUG9wdXAocG9wdXBfZjhiNTc1NjNiZjdlNGQyMTkzZTZlYTNhYmE0YTJmOTYpCiAgICAgICAgICAgIDsKCiAgICAgICAgICAgIAogICAgICAgIAogICAgCiAgICAgICAgICAgIHZhciBjaXJjbGVfbWFya2VyXzBkZGUwMTBmM2YxYjRhMmY4OGQ5N2NmNDMzYWIxNmQ3ID0gTC5jaXJjbGVNYXJrZXIoCiAgICAgICAgICAgICAgICBbNC42MTQ5LCAtNzQuMTIyN10sCiAgICAgICAgICAgICAgICB7CiAgImJ1YmJsaW5nTW91c2VFdmVudHMiOiB0cnVlLAogICJjb2xvciI6ICJiIiwKICAiZGFzaEFycmF5IjogbnVsbCwKICAiZGFzaE9mZnNldCI6IG51bGwsCiAgImZpbGwiOiB0cnVlLAogICJmaWxsQ29sb3IiOiAieWVsbG93IiwKICAiZmlsbE9wYWNpdHkiOiAwLjcsCiAgImZpbGxSdWxlIjogImV2ZW5vZGQiLAogICJsaW5lQ2FwIjogInJvdW5kIiwKICAibGluZUpvaW4iOiAicm91bmQiLAogICJvcGFjaXR5IjogMS4wLAogICJyYWRpdXMiOiA4LjEsCiAgInN0cm9rZSI6IHRydWUsCiAgIndlaWdodCI6IDMKfQogICAgICAgICAgICAgICAgKQogICAgICAgICAgICAgICAgLmFkZFRvKG1hcF80ZTEzY2M2OGJjNzk0ZDJiYjM2MTVjYmYxZjYxMDYzZCk7CiAgICAgICAgICAgIAogICAgCiAgICAgICAgICAgIHZhciBwb3B1cF8zYmM3NWNkNmYzY2Y0MDlkOWMyZDU3YzAwYmZhMzQ3YSA9IEwucG9wdXAoe21heFdpZHRoOiAnMTAwJScKICAgICAgICAgICAgCiAgICAgICAgICAgIH0pOwoKICAgICAgICAgICAgCiAgICAgICAgICAgICAgICB2YXIgaHRtbF8yNjkwMmZhOWVmYzc0YzZmOGJiMzgzZDU3ODdmYjMxNSA9ICQoYDxkaXYgaWQ9Imh0bWxfMjY5MDJmYTllZmM3NGM2ZjhiYjM4M2Q1Nzg3ZmIzMTUiIHN0eWxlPSJ3aWR0aDogMTAwLjAlOyBoZWlnaHQ6IDEwMC4wJTsiPkxvY2FsaWRhZDogUHVlbnRlIGFyYW5kYTwvZGl2PmApWzBdOwogICAgICAgICAgICAgICAgcG9wdXBfM2JjNzVjZDZmM2NmNDA5ZDljMmQ1N2MwMGJmYTM0N2Euc2V0Q29udGVudChodG1sXzI2OTAyZmE5ZWZjNzRjNmY4YmIzODNkNTc4N2ZiMzE1KTsKICAgICAgICAgICAgCgogICAgICAgICAgICBjaXJjbGVfbWFya2VyXzBkZGUwMTBmM2YxYjRhMmY4OGQ5N2NmNDMzYWIxNmQ3LmJpbmRQb3B1cChwb3B1cF8zYmM3NWNkNmYzY2Y0MDlkOWMyZDU3YzAwYmZhMzQ3YSkKICAgICAgICAgICAgOwoKICAgICAgICAgICAgCiAgICAgICAgCiAgICAKICAgICAgICAgICAgdmFyIGNpcmNsZV9tYXJrZXJfY2M5NjE5N2ZhNDdjNGVhMjkzNDkxYmYxZDA3NDA2YjcgPSBMLmNpcmNsZU1hcmtlcigKICAgICAgICAgICAgICAgIFs0LjU2NTMsIC03NC4xMTY0XSwKICAgICAgICAgICAgICAgIHsKICAiYnViYmxpbmdNb3VzZUV2ZW50cyI6IHRydWUsCiAgImNvbG9yIjogImIiLAogICJkYXNoQXJyYXkiOiBudWxsLAogICJkYXNoT2Zmc2V0IjogbnVsbCwKICAiZmlsbCI6IHRydWUsCiAgImZpbGxDb2xvciI6ICJ5ZWxsb3ciLAogICJmaWxsT3BhY2l0eSI6IDAuNywKICAiZmlsbFJ1bGUiOiAiZXZlbm9kZCIsCiAgImxpbmVDYXAiOiAicm91bmQiLAogICJsaW5lSm9pbiI6ICJyb3VuZCIsCiAgIm9wYWNpdHkiOiAxLjAsCiAgInJhZGl1cyI6IDguMSwKICAic3Ryb2tlIjogdHJ1ZSwKICAid2VpZ2h0IjogMwp9CiAgICAgICAgICAgICAgICApCiAgICAgICAgICAgICAgICAuYWRkVG8obWFwXzRlMTNjYzY4YmM3OTRkMmJiMzYxNWNiZjFmNjEwNjNkKTsKICAgICAgICAgICAgCiAgICAKICAgICAgICAgICAgdmFyIHBvcHVwXzYzMWFlZTRkNjIzZTQ4MzRiOWM3MWUyNmZkM2NlNWFjID0gTC5wb3B1cCh7bWF4V2lkdGg6ICcxMDAlJwogICAgICAgICAgICAKICAgICAgICAgICAgfSk7CgogICAgICAgICAgICAKICAgICAgICAgICAgICAgIHZhciBodG1sX2VjZWI5NmEwMzhhMTQyYmI4MDI1MTM1ZTc2NDIxYzk1ID0gJChgPGRpdiBpZD0iaHRtbF9lY2ViOTZhMDM4YTE0MmJiODAyNTEzNWU3NjQyMWM5NSIgc3R5bGU9IndpZHRoOiAxMDAuMCU7IGhlaWdodDogMTAwLjAlOyI+TG9jYWxpZGFkOiBSYWZhZWwgdXJpYmUgdXJpYmU8L2Rpdj5gKVswXTsKICAgICAgICAgICAgICAgIHBvcHVwXzYzMWFlZTRkNjIzZTQ4MzRiOWM3MWUyNmZkM2NlNWFjLnNldENvbnRlbnQoaHRtbF9lY2ViOTZhMDM4YTE0MmJiODAyNTEzNWU3NjQyMWM5NSk7CiAgICAgICAgICAgIAoKICAgICAgICAgICAgY2lyY2xlX21hcmtlcl9jYzk2MTk3ZmE0N2M0ZWEyOTM0OTFiZjFkMDc0MDZiNy5iaW5kUG9wdXAocG9wdXBfNjMxYWVlNGQ2MjNlNDgzNGI5YzcxZTI2ZmQzY2U1YWMpCiAgICAgICAgICAgIDsKCiAgICAgICAgICAgIAogICAgICAgIAogICAgCiAgICAgICAgICAgIHZhciBjaXJjbGVfbWFya2VyXzQ4MGRjZTU3ZWE5NjRmN2JiNzExMTFmM2E2NzlmYjhmID0gTC5jaXJjbGVNYXJrZXIoCiAgICAgICAgICAgICAgICBbNC43NjUyLCAtNzQuMDgyNF0sCiAgICAgICAgICAgICAgICB7CiAgImJ1YmJsaW5nTW91c2VFdmVudHMiOiB0cnVlLAogICJjb2xvciI6ICJiIiwKICAiZGFzaEFycmF5IjogbnVsbCwKICAiZGFzaE9mZnNldCI6IG51bGwsCiAgImZpbGwiOiB0cnVlLAogICJmaWxsQ29sb3IiOiAieWVsbG93IiwKICAiZmlsbE9wYWNpdHkiOiAwLjcsCiAgImZpbGxSdWxlIjogImV2ZW5vZGQiLAogICJsaW5lQ2FwIjogInJvdW5kIiwKICAibGluZUpvaW4iOiAicm91bmQiLAogICJvcGFjaXR5IjogMS4wLAogICJyYWRpdXMiOiAzOC4xLAogICJzdHJva2UiOiB0cnVlLAogICJ3ZWlnaHQiOiAzCn0KICAgICAgICAgICAgICAgICkKICAgICAgICAgICAgICAgIC5hZGRUbyhtYXBfNGUxM2NjNjhiYzc5NGQyYmIzNjE1Y2JmMWY2MTA2M2QpOwogICAgICAgICAgICAKICAgIAogICAgICAgICAgICB2YXIgcG9wdXBfMmE5ZTMwMGRiZWFjNDYzOTgwODA1ZjBmYjk2Yzc3MWEgPSBMLnBvcHVwKHttYXhXaWR0aDogJzEwMCUnCiAgICAgICAgICAgIAogICAgICAgICAgICB9KTsKCiAgICAgICAgICAgIAogICAgICAgICAgICAgICAgdmFyIGh0bWxfMWIwMzdmOWNlN2IzNDk1YWE1ODhkMDRkYmMxYzIwZGQgPSAkKGA8ZGl2IGlkPSJodG1sXzFiMDM3ZjljZTdiMzQ5NWFhNTg4ZDA0ZGJjMWMyMGRkIiBzdHlsZT0id2lkdGg6IDEwMC4wJTsgaGVpZ2h0OiAxMDAuMCU7Ij5Mb2NhbGlkYWQ6IFN1YmE8L2Rpdj5gKVswXTsKICAgICAgICAgICAgICAgIHBvcHVwXzJhOWUzMDBkYmVhYzQ2Mzk4MDgwNWYwZmI5NmM3NzFhLnNldENvbnRlbnQoaHRtbF8xYjAzN2Y5Y2U3YjM0OTVhYTU4OGQwNGRiYzFjMjBkZCk7CiAgICAgICAgICAgIAoKICAgICAgICAgICAgY2lyY2xlX21hcmtlcl80ODBkY2U1N2VhOTY0ZjdiYjcxMTExZjNhNjc5ZmI4Zi5iaW5kUG9wdXAocG9wdXBfMmE5ZTMwMGRiZWFjNDYzOTgwODA1ZjBmYjk2Yzc3MWEpCiAgICAgICAgICAgIDsKCiAgICAgICAgICAgIAogICAgICAgIAogICAgCiAgICAgICAgICAgIHZhciBjaXJjbGVfbWFya2VyXzM1YmVlYTRhMGRkNTRhNDJiYTUxZDJmNDJmMWQ1Zjk1ID0gTC5jaXJjbGVNYXJrZXIoCiAgICAgICAgICAgICAgICBbNC42NDQ4LCAtNzQuMDkzOF0sCiAgICAgICAgICAgICAgICB7CiAgImJ1YmJsaW5nTW91c2VFdmVudHMiOiB0cnVlLAogICJjb2xvciI6ICJiIiwKICAiZGFzaEFycmF5IjogbnVsbCwKICAiZGFzaE9mZnNldCI6IG51bGwsCiAgImZpbGwiOiB0cnVlLAogICJmaWxsQ29sb3IiOiAieWVsbG93IiwKICAiZmlsbE9wYWNpdHkiOiAwLjcsCiAgImZpbGxSdWxlIjogImV2ZW5vZGQiLAogICJsaW5lQ2FwIjogInJvdW5kIiwKICAibGluZUpvaW4iOiAicm91bmQiLAogICJvcGFjaXR5IjogMS4wLAogICJyYWRpdXMiOiAxNi4yLAogICJzdHJva2UiOiB0cnVlLAogICJ3ZWlnaHQiOiAzCn0KICAgICAgICAgICAgICAgICkKICAgICAgICAgICAgICAgIC5hZGRUbyhtYXBfNGUxM2NjNjhiYzc5NGQyYmIzNjE1Y2JmMWY2MTA2M2QpOwogICAgICAgICAgICAKICAgIAogICAgICAgICAgICB2YXIgcG9wdXBfMTRlZjAzZTZmMTEwNDdkMGE4MWMwZjlhNTVhZjkxZGUgPSBMLnBvcHVwKHttYXhXaWR0aDogJzEwMCUnCiAgICAgICAgICAgIAogICAgICAgICAgICB9KTsKCiAgICAgICAgICAgIAogICAgICAgICAgICAgICAgdmFyIGh0bWxfZDQ1NjZkNjQ0YTI2NDYxODgzMGZkNGZiYmRjZDQ3YzcgPSAkKGA8ZGl2IGlkPSJodG1sX2Q0NTY2ZDY0NGEyNjQ2MTg4MzBmZDRmYmJkY2Q0N2M3IiBzdHlsZT0id2lkdGg6IDEwMC4wJTsgaGVpZ2h0OiAxMDAuMCU7Ij5Mb2NhbGlkYWQ6IFRldXNhcXVpbGxvPC9kaXY+YClbMF07CiAgICAgICAgICAgICAgICBwb3B1cF8xNGVmMDNlNmYxMTA0N2QwYTgxYzBmOWE1NWFmOTFkZS5zZXRDb250ZW50KGh0bWxfZDQ1NjZkNjQ0YTI2NDYxODgzMGZkNGZiYmRjZDQ3YzcpOwogICAgICAgICAgICAKCiAgICAgICAgICAgIGNpcmNsZV9tYXJrZXJfMzViZWVhNGEwZGQ1NGE0MmJhNTFkMmY0MmYxZDVmOTUuYmluZFBvcHVwKHBvcHVwXzE0ZWYwM2U2ZjExMDQ3ZDBhODFjMGY5YTU1YWY5MWRlKQogICAgICAgICAgICA7CgogICAgICAgICAgICAKICAgICAgICAKICAgIAogICAgICAgICAgICB2YXIgY2lyY2xlX21hcmtlcl9kMGY1ODM5Njc5NGE0YzUzYjg0ZmNiYjUyMDNmNmJiOSA9IEwuY2lyY2xlTWFya2VyKAogICAgICAgICAgICAgICAgWzQuNTg3NSwgLTc0LjE0MDddLAogICAgICAgICAgICAgICAgewogICJidWJibGluZ01vdXNlRXZlbnRzIjogdHJ1ZSwKICAiY29sb3IiOiAiYiIsCiAgImRhc2hBcnJheSI6IG51bGwsCiAgImRhc2hPZmZzZXQiOiBudWxsLAogICJmaWxsIjogdHJ1ZSwKICAiZmlsbENvbG9yIjogInllbGxvdyIsCiAgImZpbGxPcGFjaXR5IjogMC43LAogICJmaWxsUnVsZSI6ICJldmVub2RkIiwKICAibGluZUNhcCI6ICJyb3VuZCIsCiAgImxpbmVKb2luIjogInJvdW5kIiwKICAib3BhY2l0eSI6IDEuMCwKICAicmFkaXVzIjogNS4xLAogICJzdHJva2UiOiB0cnVlLAogICJ3ZWlnaHQiOiAzCn0KICAgICAgICAgICAgICAgICkKICAgICAgICAgICAgICAgIC5hZGRUbyhtYXBfNGUxM2NjNjhiYzc5NGQyYmIzNjE1Y2JmMWY2MTA2M2QpOwogICAgICAgICAgICAKICAgIAogICAgICAgICAgICB2YXIgcG9wdXBfODAzZWE5NDdmMGNlNDkxMWFjN2I4NjAxNjUwZDhjM2EgPSBMLnBvcHVwKHttYXhXaWR0aDogJzEwMCUnCiAgICAgICAgICAgIAogICAgICAgICAgICB9KTsKCiAgICAgICAgICAgIAogICAgICAgICAgICAgICAgdmFyIGh0bWxfNTNlZmJiYWRmNzgzNDc5Y2JkZmU4YWNjMmJlNzNiYzAgPSAkKGA8ZGl2IGlkPSJodG1sXzUzZWZiYmFkZjc4MzQ3OWNiZGZlOGFjYzJiZTczYmMwIiBzdHlsZT0id2lkdGg6IDEwMC4wJTsgaGVpZ2h0OiAxMDAuMCU7Ij5Mb2NhbGlkYWQ6IFR1bmp1ZWxpdG88L2Rpdj5gKVswXTsKICAgICAgICAgICAgICAgIHBvcHVwXzgwM2VhOTQ3ZjBjZTQ5MTFhYzdiODYwMTY1MGQ4YzNhLnNldENvbnRlbnQoaHRtbF81M2VmYmJhZGY3ODM0NzljYmRmZThhY2MyYmU3M2JjMCk7CiAgICAgICAgICAgIAoKICAgICAgICAgICAgY2lyY2xlX21hcmtlcl9kMGY1ODM5Njc5NGE0YzUzYjg0ZmNiYjUyMDNmNmJiOS5iaW5kUG9wdXAocG9wdXBfODAzZWE5NDdmMGNlNDkxMWFjN2I4NjAxNjUwZDhjM2EpCiAgICAgICAgICAgIDsKCiAgICAgICAgICAgIAogICAgICAgIAogICAgCiAgICAgICAgICAgIHZhciBjaXJjbGVfbWFya2VyX2QzMDhlODNmMjNlYzRmZmE5NmU4ODU3NDhhM2ZmZThjID0gTC5jaXJjbGVNYXJrZXIoCiAgICAgICAgICAgICAgICBbNC43NDg1LCAtNzQuMDMxMl0sCiAgICAgICAgICAgICAgICB7CiAgImJ1YmJsaW5nTW91c2VFdmVudHMiOiB0cnVlLAogICJjb2xvciI6ICJiIiwKICAiZGFzaEFycmF5IjogbnVsbCwKICAiZGFzaE9mZnNldCI6IG51bGwsCiAgImZpbGwiOiB0cnVlLAogICJmaWxsQ29sb3IiOiAieWVsbG93IiwKICAiZmlsbE9wYWNpdHkiOiAwLjcsCiAgImZpbGxSdWxlIjogImV2ZW5vZGQiLAogICJsaW5lQ2FwIjogInJvdW5kIiwKICAibGluZUpvaW4iOiAicm91bmQiLAogICJvcGFjaXR5IjogMS4wLAogICJyYWRpdXMiOiAzNC41LAogICJzdHJva2UiOiB0cnVlLAogICJ3ZWlnaHQiOiAzCn0KICAgICAgICAgICAgICAgICkKICAgICAgICAgICAgICAgIC5hZGRUbyhtYXBfNGUxM2NjNjhiYzc5NGQyYmIzNjE1Y2JmMWY2MTA2M2QpOwogICAgICAgICAgICAKICAgIAogICAgICAgICAgICB2YXIgcG9wdXBfODg1ZmQ5ZTY3MzI4NDI0YjlhMDZlY2QxZDZlNDk5MWYgPSBMLnBvcHVwKHttYXhXaWR0aDogJzEwMCUnCiAgICAgICAgICAgIAogICAgICAgICAgICB9KTsKCiAgICAgICAgICAgIAogICAgICAgICAgICAgICAgdmFyIGh0bWxfMDk5NGQyY2JhYTVjNDg3MTg5MGQ3ZTA0NjIxYWFjMzUgPSAkKGA8ZGl2IGlkPSJodG1sXzA5OTRkMmNiYWE1YzQ4NzE4OTBkN2UwNDYyMWFhYzM1IiBzdHlsZT0id2lkdGg6IDEwMC4wJTsgaGVpZ2h0OiAxMDAuMCU7Ij5Mb2NhbGlkYWQ6IFVzYXF1ZW48L2Rpdj5gKVswXTsKICAgICAgICAgICAgICAgIHBvcHVwXzg4NWZkOWU2NzMyODQyNGI5YTA2ZWNkMWQ2ZTQ5OTFmLnNldENvbnRlbnQoaHRtbF8wOTk0ZDJjYmFhNWM0ODcxODkwZDdlMDQ2MjFhYWMzNSk7CiAgICAgICAgICAgIAoKICAgICAgICAgICAgY2lyY2xlX21hcmtlcl9kMzA4ZTgzZjIzZWM0ZmZhOTZlODg1NzQ4YTNmZmU4Yy5iaW5kUG9wdXAocG9wdXBfODg1ZmQ5ZTY3MzI4NDI0YjlhMDZlY2QxZDZlNDk5MWYpCiAgICAgICAgICAgIDsKCiAgICAgICAgICAgIAogICAgICAgIAo8L3NjcmlwdD4= onload=\"this.contentDocument.open();this.contentDocument.write(atob(this.getAttribute('data-html')));this.contentDocument.close();\" allowfullscreen webkitallowfullscreen mozallowfullscreen></iframe></div></div>"
            ],
            "text/plain": [
              "<folium.folium.Map at 0x7fbfd0f36588>"
            ]
          },
          "metadata": {
            "tags": []
          },
          "execution_count": 98
        }
      ]
    },
    {
      "cell_type": "markdown",
      "metadata": {
        "id": "3QvjoeP2RH36"
      },
      "source": [
        "Create map with deaths"
      ]
    },
    {
      "cell_type": "code",
      "metadata": {
        "id": "Yl6mFcUXKDgb",
        "outputId": "544e0cae-df96-4ffe-ae59-7f5489e17890",
        "colab": {
          "base_uri": "https://localhost:8080/",
          "height": 808
        }
      },
      "source": [
        "map_bog = folium.Map(location=[boglat, boglong], zoom_start=11)\n",
        "\n",
        "for lat, lon, local, death in zip(dfsummary['LATITUD'], dfsummary['LONGITUD'], dfsummary['LOCALIDAD'], dfsummary['Fallecido']):\n",
        "    folium.CircleMarker(\n",
        "        [lat, lon],\n",
        "        popup = ('Localidad: ' + str(local).capitalize()),\n",
        "        radius=.01*death,\n",
        "        color='b',\n",
        "        threshold_scale=[0,1,2,3],\n",
        "        fill_color='red',\n",
        "        fill=True,\n",
        "        fill_opacity=0.7\n",
        "        ).add_to(map_bog)\n",
        "map_bog"
      ],
      "execution_count": null,
      "outputs": [
        {
          "output_type": "execute_result",
          "data": {
            "text/html": [
              "<div style=\"width:100%;\"><div style=\"position:relative;width:100%;height:0;padding-bottom:60%;\"><iframe src=\"about:blank\" style=\"position:absolute;width:100%;height:100%;left:0;top:0;border:none !important;\" data-html=PCFET0NUWVBFIGh0bWw+CjxoZWFkPiAgICAKICAgIDxtZXRhIGh0dHAtZXF1aXY9ImNvbnRlbnQtdHlwZSIgY29udGVudD0idGV4dC9odG1sOyBjaGFyc2V0PVVURi04IiAvPgogICAgPHNjcmlwdD5MX1BSRUZFUl9DQU5WQVM9ZmFsc2U7IExfTk9fVE9VQ0g9ZmFsc2U7IExfRElTQUJMRV8zRD1mYWxzZTs8L3NjcmlwdD4KICAgIDxzY3JpcHQgc3JjPSJodHRwczovL2Nkbi5qc2RlbGl2ci5uZXQvbnBtL2xlYWZsZXRAMS40LjAvZGlzdC9sZWFmbGV0LmpzIj48L3NjcmlwdD4KICAgIDxzY3JpcHQgc3JjPSJodHRwczovL2NvZGUuanF1ZXJ5LmNvbS9qcXVlcnktMS4xMi40Lm1pbi5qcyI+PC9zY3JpcHQ+CiAgICA8c2NyaXB0IHNyYz0iaHR0cHM6Ly9tYXhjZG4uYm9vdHN0cmFwY2RuLmNvbS9ib290c3RyYXAvMy4yLjAvanMvYm9vdHN0cmFwLm1pbi5qcyI+PC9zY3JpcHQ+CiAgICA8c2NyaXB0IHNyYz0iaHR0cHM6Ly9jZG5qcy5jbG91ZGZsYXJlLmNvbS9hamF4L2xpYnMvTGVhZmxldC5hd2Vzb21lLW1hcmtlcnMvMi4wLjIvbGVhZmxldC5hd2Vzb21lLW1hcmtlcnMuanMiPjwvc2NyaXB0PgogICAgPGxpbmsgcmVsPSJzdHlsZXNoZWV0IiBocmVmPSJodHRwczovL2Nkbi5qc2RlbGl2ci5uZXQvbnBtL2xlYWZsZXRAMS40LjAvZGlzdC9sZWFmbGV0LmNzcyIvPgogICAgPGxpbmsgcmVsPSJzdHlsZXNoZWV0IiBocmVmPSJodHRwczovL21heGNkbi5ib290c3RyYXBjZG4uY29tL2Jvb3RzdHJhcC8zLjIuMC9jc3MvYm9vdHN0cmFwLm1pbi5jc3MiLz4KICAgIDxsaW5rIHJlbD0ic3R5bGVzaGVldCIgaHJlZj0iaHR0cHM6Ly9tYXhjZG4uYm9vdHN0cmFwY2RuLmNvbS9ib290c3RyYXAvMy4yLjAvY3NzL2Jvb3RzdHJhcC10aGVtZS5taW4uY3NzIi8+CiAgICA8bGluayByZWw9InN0eWxlc2hlZXQiIGhyZWY9Imh0dHBzOi8vbWF4Y2RuLmJvb3RzdHJhcGNkbi5jb20vZm9udC1hd2Vzb21lLzQuNi4zL2Nzcy9mb250LWF3ZXNvbWUubWluLmNzcyIvPgogICAgPGxpbmsgcmVsPSJzdHlsZXNoZWV0IiBocmVmPSJodHRwczovL2NkbmpzLmNsb3VkZmxhcmUuY29tL2FqYXgvbGlicy9MZWFmbGV0LmF3ZXNvbWUtbWFya2Vycy8yLjAuMi9sZWFmbGV0LmF3ZXNvbWUtbWFya2Vycy5jc3MiLz4KICAgIDxsaW5rIHJlbD0ic3R5bGVzaGVldCIgaHJlZj0iaHR0cHM6Ly9yYXdjZG4uZ2l0aGFjay5jb20vcHl0aG9uLXZpc3VhbGl6YXRpb24vZm9saXVtL21hc3Rlci9mb2xpdW0vdGVtcGxhdGVzL2xlYWZsZXQuYXdlc29tZS5yb3RhdGUuY3NzIi8+CiAgICA8c3R5bGU+aHRtbCwgYm9keSB7d2lkdGg6IDEwMCU7aGVpZ2h0OiAxMDAlO21hcmdpbjogMDtwYWRkaW5nOiAwO308L3N0eWxlPgogICAgPHN0eWxlPiNtYXAge3Bvc2l0aW9uOmFic29sdXRlO3RvcDowO2JvdHRvbTowO3JpZ2h0OjA7bGVmdDowO308L3N0eWxlPgogICAgCiAgICA8bWV0YSBuYW1lPSJ2aWV3cG9ydCIgY29udGVudD0id2lkdGg9ZGV2aWNlLXdpZHRoLAogICAgICAgIGluaXRpYWwtc2NhbGU9MS4wLCBtYXhpbXVtLXNjYWxlPTEuMCwgdXNlci1zY2FsYWJsZT1ubyIgLz4KICAgIDxzdHlsZT4jbWFwXzRlYmY3M2ZiNjZiNjQ1ZThiMTY2YWM1NmU2N2EyNzMwIHsKICAgICAgICBwb3NpdGlvbjogcmVsYXRpdmU7CiAgICAgICAgd2lkdGg6IDEwMC4wJTsKICAgICAgICBoZWlnaHQ6IDEwMC4wJTsKICAgICAgICBsZWZ0OiAwLjAlOwogICAgICAgIHRvcDogMC4wJTsKICAgICAgICB9CiAgICA8L3N0eWxlPgo8L2hlYWQ+Cjxib2R5PiAgICAKICAgIAogICAgPGRpdiBjbGFzcz0iZm9saXVtLW1hcCIgaWQ9Im1hcF80ZWJmNzNmYjY2YjY0NWU4YjE2NmFjNTZlNjdhMjczMCIgPjwvZGl2Pgo8L2JvZHk+CjxzY3JpcHQ+ICAgIAogICAgCiAgICAKICAgICAgICB2YXIgYm91bmRzID0gbnVsbDsKICAgIAoKICAgIHZhciBtYXBfNGViZjczZmI2NmI2NDVlOGIxNjZhYzU2ZTY3YTI3MzAgPSBMLm1hcCgKICAgICAgICAnbWFwXzRlYmY3M2ZiNjZiNjQ1ZThiMTY2YWM1NmU2N2EyNzMwJywgewogICAgICAgIGNlbnRlcjogWzQuNjI0MzM1LCAtNzQuMDYzNjQ0XSwKICAgICAgICB6b29tOiAxMSwKICAgICAgICBtYXhCb3VuZHM6IGJvdW5kcywKICAgICAgICBsYXllcnM6IFtdLAogICAgICAgIHdvcmxkQ29weUp1bXA6IGZhbHNlLAogICAgICAgIGNyczogTC5DUlMuRVBTRzM4NTcsCiAgICAgICAgem9vbUNvbnRyb2w6IHRydWUsCiAgICAgICAgfSk7CgoKICAgIAogICAgdmFyIHRpbGVfbGF5ZXJfYWY3MWZlNGZmNDJjNDZjYjhkMTc5ZDc4N2Y2ZjZkODUgPSBMLnRpbGVMYXllcigKICAgICAgICAnaHR0cHM6Ly97c30udGlsZS5vcGVuc3RyZWV0bWFwLm9yZy97en0ve3h9L3t5fS5wbmcnLAogICAgICAgIHsKICAgICAgICAiYXR0cmlidXRpb24iOiBudWxsLAogICAgICAgICJkZXRlY3RSZXRpbmEiOiBmYWxzZSwKICAgICAgICAibWF4TmF0aXZlWm9vbSI6IDE4LAogICAgICAgICJtYXhab29tIjogMTgsCiAgICAgICAgIm1pblpvb20iOiAwLAogICAgICAgICJub1dyYXAiOiBmYWxzZSwKICAgICAgICAib3BhY2l0eSI6IDEsCiAgICAgICAgInN1YmRvbWFpbnMiOiAiYWJjIiwKICAgICAgICAidG1zIjogZmFsc2UKfSkuYWRkVG8obWFwXzRlYmY3M2ZiNjZiNjQ1ZThiMTY2YWM1NmU2N2EyNzMwKTsKICAgIAogICAgICAgICAgICB2YXIgY2lyY2xlX21hcmtlcl9kZDU0ZGQxMmVmZjY0Y2M5YTlmMGE3Y2JlNGRkNzQyMCA9IEwuY2lyY2xlTWFya2VyKAogICAgICAgICAgICAgICAgWzQuNTQ4NiwgLTc0LjEwMDldLAogICAgICAgICAgICAgICAgewogICJidWJibGluZ01vdXNlRXZlbnRzIjogdHJ1ZSwKICAiY29sb3IiOiAiYiIsCiAgImRhc2hBcnJheSI6IG51bGwsCiAgImRhc2hPZmZzZXQiOiBudWxsLAogICJmaWxsIjogdHJ1ZSwKICAiZmlsbENvbG9yIjogInJlZCIsCiAgImZpbGxPcGFjaXR5IjogMC43LAogICJmaWxsUnVsZSI6ICJldmVub2RkIiwKICAibGluZUNhcCI6ICJyb3VuZCIsCiAgImxpbmVKb2luIjogInJvdW5kIiwKICAib3BhY2l0eSI6IDEuMCwKICAic3Ryb2tlIjogdHJ1ZSwKICAid2VpZ2h0IjogMwp9CiAgICAgICAgICAgICAgICApCiAgICAgICAgICAgICAgICAuYWRkVG8obWFwXzRlYmY3M2ZiNjZiNjQ1ZThiMTY2YWM1NmU2N2EyNzMwKTsKICAgICAgICAgICAgCiAgICAKICAgICAgICAgICAgdmFyIHBvcHVwX2QwMWJjOTQ5ZDZjZjQ1N2ZiMDE2YzViM2YyOGJhYjAzID0gTC5wb3B1cCh7bWF4V2lkdGg6ICcxMDAlJwogICAgICAgICAgICAKICAgICAgICAgICAgfSk7CgogICAgICAgICAgICAKICAgICAgICAgICAgICAgIHZhciBodG1sX2VlNjU5ZmM4ZmM1ODQ4OGFiYjAwMTMyZWJlMDQyZDRlID0gJChgPGRpdiBpZD0iaHRtbF9lZTY1OWZjOGZjNTg0ODhhYmIwMDEzMmViZTA0MmQ0ZSIgc3R5bGU9IndpZHRoOiAxMDAuMCU7IGhlaWdodDogMTAwLjAlOyI+TG9jYWxpZGFkOiBBbnRvbmlvIG5hcmnDsW88L2Rpdj5gKVswXTsKICAgICAgICAgICAgICAgIHBvcHVwX2QwMWJjOTQ5ZDZjZjQ1N2ZiMDE2YzViM2YyOGJhYjAzLnNldENvbnRlbnQoaHRtbF9lZTY1OWZjOGZjNTg0ODhhYmIwMDEzMmViZTA0MmQ0ZSk7CiAgICAgICAgICAgIAoKICAgICAgICAgICAgY2lyY2xlX21hcmtlcl9kZDU0ZGQxMmVmZjY0Y2M5YTlmMGE3Y2JlNGRkNzQyMC5iaW5kUG9wdXAocG9wdXBfZDAxYmM5NDlkNmNmNDU3ZmIwMTZjNWIzZjI4YmFiMDMpCiAgICAgICAgICAgIDsKCiAgICAgICAgICAgIAogICAgICAgIAogICAgCiAgICAgICAgICAgIHZhciBjaXJjbGVfbWFya2VyX2ZkNmNmNWNhNjM5NTQ2ZTZhNzk1NDUwYmJiMjQ2MWRmID0gTC5jaXJjbGVNYXJrZXIoCiAgICAgICAgICAgICAgICBbNC42NjY0LCAtNzQuMDg0XSwKICAgICAgICAgICAgICAgIHsKICAiYnViYmxpbmdNb3VzZUV2ZW50cyI6IHRydWUsCiAgImNvbG9yIjogImIiLAogICJkYXNoQXJyYXkiOiBudWxsLAogICJkYXNoT2Zmc2V0IjogbnVsbCwKICAiZmlsbCI6IHRydWUsCiAgImZpbGxDb2xvciI6ICJyZWQiLAogICJmaWxsT3BhY2l0eSI6IDAuNywKICAiZmlsbFJ1bGUiOiAiZXZlbm9kZCIsCiAgImxpbmVDYXAiOiAicm91bmQiLAogICJsaW5lSm9pbiI6ICJyb3VuZCIsCiAgIm9wYWNpdHkiOiAxLjAsCiAgInJhZGl1cyI6IDAuNzQsCiAgInN0cm9rZSI6IHRydWUsCiAgIndlaWdodCI6IDMKfQogICAgICAgICAgICAgICAgKQogICAgICAgICAgICAgICAgLmFkZFRvKG1hcF80ZWJmNzNmYjY2YjY0NWU4YjE2NmFjNTZlNjdhMjczMCk7CiAgICAgICAgICAgIAogICAgCiAgICAgICAgICAgIHZhciBwb3B1cF9jNGUxMGFiNjkyYmY0ZmExOTE1NzY4ZDkwOWIwM2ZmOCA9IEwucG9wdXAoe21heFdpZHRoOiAnMTAwJScKICAgICAgICAgICAgCiAgICAgICAgICAgIH0pOwoKICAgICAgICAgICAgCiAgICAgICAgICAgICAgICB2YXIgaHRtbF84MzFjZGJlMWJmOGE0OGQwYTdiNTMxYzRhNmQ1ZjAyOCA9ICQoYDxkaXYgaWQ9Imh0bWxfODMxY2RiZTFiZjhhNDhkMGE3YjUzMWM0YTZkNWYwMjgiIHN0eWxlPSJ3aWR0aDogMTAwLjAlOyBoZWlnaHQ6IDEwMC4wJTsiPkxvY2FsaWRhZDogQmFycmlvcyB1bmlkb3M8L2Rpdj5gKVswXTsKICAgICAgICAgICAgICAgIHBvcHVwX2M0ZTEwYWI2OTJiZjRmYTE5MTU3NjhkOTA5YjAzZmY4LnNldENvbnRlbnQoaHRtbF84MzFjZGJlMWJmOGE0OGQwYTdiNTMxYzRhNmQ1ZjAyOCk7CiAgICAgICAgICAgIAoKICAgICAgICAgICAgY2lyY2xlX21hcmtlcl9mZDZjZjVjYTYzOTU0NmU2YTc5NTQ1MGJiYjI0NjFkZi5iaW5kUG9wdXAocG9wdXBfYzRlMTBhYjY5MmJmNGZhMTkxNTc2OGQ5MDliMDNmZjgpCiAgICAgICAgICAgIDsKCiAgICAgICAgICAgIAogICAgICAgIAogICAgCiAgICAgICAgICAgIHZhciBjaXJjbGVfbWFya2VyX2U3MmQ5ZDQ0OWZiOTRmNTE5ZTllNzVhMjc0YTE4OWJjID0gTC5jaXJjbGVNYXJrZXIoCiAgICAgICAgICAgICAgICBbNC42MzA1LCAtNzQuMTk0NV0sCiAgICAgICAgICAgICAgICB7CiAgImJ1YmJsaW5nTW91c2VFdmVudHMiOiB0cnVlLAogICJjb2xvciI6ICJiIiwKICAiZGFzaEFycmF5IjogbnVsbCwKICAiZGFzaE9mZnNldCI6IG51bGwsCiAgImZpbGwiOiB0cnVlLAogICJmaWxsQ29sb3IiOiAicmVkIiwKICAiZmlsbE9wYWNpdHkiOiAwLjcsCiAgImZpbGxSdWxlIjogImV2ZW5vZGQiLAogICJsaW5lQ2FwIjogInJvdW5kIiwKICAibGluZUpvaW4iOiAicm91bmQiLAogICJvcGFjaXR5IjogMS4wLAogICJyYWRpdXMiOiAxLjg4MDAwMDAwMDAwMDAwMDEsCiAgInN0cm9rZSI6IHRydWUsCiAgIndlaWdodCI6IDMKfQogICAgICAgICAgICAgICAgKQogICAgICAgICAgICAgICAgLmFkZFRvKG1hcF80ZWJmNzNmYjY2YjY0NWU4YjE2NmFjNTZlNjdhMjczMCk7CiAgICAgICAgICAgIAogICAgCiAgICAgICAgICAgIHZhciBwb3B1cF8zODIxN2JmMmY4NTA0NjA0ODBlMDU4YWE3YzlmOWUyMyA9IEwucG9wdXAoe21heFdpZHRoOiAnMTAwJScKICAgICAgICAgICAgCiAgICAgICAgICAgIH0pOwoKICAgICAgICAgICAgCiAgICAgICAgICAgICAgICB2YXIgaHRtbF8xZThkZTdhYTg1ZGQ0MzdmODQ5NjViM2Y0M2IyYjY0YSA9ICQoYDxkaXYgaWQ9Imh0bWxfMWU4ZGU3YWE4NWRkNDM3Zjg0OTY1YjNmNDNiMmI2NGEiIHN0eWxlPSJ3aWR0aDogMTAwLjAlOyBoZWlnaHQ6IDEwMC4wJTsiPkxvY2FsaWRhZDogQm9zYTwvZGl2PmApWzBdOwogICAgICAgICAgICAgICAgcG9wdXBfMzgyMTdiZjJmODUwNDYwNDgwZTA1OGFhN2M5ZjllMjMuc2V0Q29udGVudChodG1sXzFlOGRlN2FhODVkZDQzN2Y4NDk2NWIzZjQzYjJiNjRhKTsKICAgICAgICAgICAgCgogICAgICAgICAgICBjaXJjbGVfbWFya2VyX2U3MmQ5ZDQ0OWZiOTRmNTE5ZTllNzVhMjc0YTE4OWJjLmJpbmRQb3B1cChwb3B1cF8zODIxN2JmMmY4NTA0NjA0ODBlMDU4YWE3YzlmOWUyMykKICAgICAgICAgICAgOwoKICAgICAgICAgICAgCiAgICAgICAgCiAgICAKICAgICAgICAgICAgdmFyIGNpcmNsZV9tYXJrZXJfYTI5MDk3ZWIxZTI0NDU1MWJjNjRlN2NiODllODdiMjcgPSBMLmNpcmNsZU1hcmtlcigKICAgICAgICAgICAgICAgIFs0LjY1NjksIC03NC4wNDY3XSwKICAgICAgICAgICAgICAgIHsKICAiYnViYmxpbmdNb3VzZUV2ZW50cyI6IHRydWUsCiAgImNvbG9yIjogImIiLAogICJkYXNoQXJyYXkiOiBudWxsLAogICJkYXNoT2Zmc2V0IjogbnVsbCwKICAiZmlsbCI6IHRydWUsCiAgImZpbGxDb2xvciI6ICJyZWQiLAogICJmaWxsT3BhY2l0eSI6IDAuNywKICAiZmlsbFJ1bGUiOiAiZXZlbm9kZCIsCiAgImxpbmVDYXAiOiAicm91bmQiLAogICJsaW5lSm9pbiI6ICJyb3VuZCIsCiAgIm9wYWNpdHkiOiAxLjAsCiAgInJhZGl1cyI6IDEuMDIsCiAgInN0cm9rZSI6IHRydWUsCiAgIndlaWdodCI6IDMKfQogICAgICAgICAgICAgICAgKQogICAgICAgICAgICAgICAgLmFkZFRvKG1hcF80ZWJmNzNmYjY2YjY0NWU4YjE2NmFjNTZlNjdhMjczMCk7CiAgICAgICAgICAgIAogICAgCiAgICAgICAgICAgIHZhciBwb3B1cF9jYzZiZTYyNDU0Mjg0N2NkYmU0NTZhMWFhZTdhNmJlMCA9IEwucG9wdXAoe21heFdpZHRoOiAnMTAwJScKICAgICAgICAgICAgCiAgICAgICAgICAgIH0pOwoKICAgICAgICAgICAgCiAgICAgICAgICAgICAgICB2YXIgaHRtbF80NWNkN2IxOGRiZWI0MjE4OTg1ZjcwNWVkZjIzNzU4NyA9ICQoYDxkaXYgaWQ9Imh0bWxfNDVjZDdiMThkYmViNDIxODk4NWY3MDVlZGYyMzc1ODciIHN0eWxlPSJ3aWR0aDogMTAwLjAlOyBoZWlnaHQ6IDEwMC4wJTsiPkxvY2FsaWRhZDogQ2hhcGluZXJvPC9kaXY+YClbMF07CiAgICAgICAgICAgICAgICBwb3B1cF9jYzZiZTYyNDU0Mjg0N2NkYmU0NTZhMWFhZTdhNmJlMC5zZXRDb250ZW50KGh0bWxfNDVjZDdiMThkYmViNDIxODk4NWY3MDVlZGYyMzc1ODcpOwogICAgICAgICAgICAKCiAgICAgICAgICAgIGNpcmNsZV9tYXJrZXJfYTI5MDk3ZWIxZTI0NDU1MWJjNjRlN2NiODllODdiMjcuYmluZFBvcHVwKHBvcHVwX2NjNmJlNjI0NTQyODQ3Y2RiZTQ1NmExYWFlN2E2YmUwKQogICAgICAgICAgICA7CgogICAgICAgICAgICAKICAgICAgICAKICAgIAogICAgICAgICAgICB2YXIgY2lyY2xlX21hcmtlcl9kMGQxYzYxZmYwZGU0YzZlYmYzZGEwNDdmOTAzMGI4NCA9IEwuY2lyY2xlTWFya2VyKAogICAgICAgICAgICAgICAgWzQuNzA3MTAwMDAwMDAwMDAwNSwgLTc0LjEwNzJdLAogICAgICAgICAgICAgICAgewogICJidWJibGluZ01vdXNlRXZlbnRzIjogdHJ1ZSwKICAiY29sb3IiOiAiYiIsCiAgImRhc2hBcnJheSI6IG51bGwsCiAgImRhc2hPZmZzZXQiOiBudWxsLAogICJmaWxsIjogdHJ1ZSwKICAiZmlsbENvbG9yIjogInJlZCIsCiAgImZpbGxPcGFjaXR5IjogMC43LAogICJmaWxsUnVsZSI6ICJldmVub2RkIiwKICAibGluZUNhcCI6ICJyb3VuZCIsCiAgImxpbmVKb2luIjogInJvdW5kIiwKICAib3BhY2l0eSI6IDEuMCwKICAicmFkaXVzIjogMTYuNzIsCiAgInN0cm9rZSI6IHRydWUsCiAgIndlaWdodCI6IDMKfQogICAgICAgICAgICAgICAgKQogICAgICAgICAgICAgICAgLmFkZFRvKG1hcF80ZWJmNzNmYjY2YjY0NWU4YjE2NmFjNTZlNjdhMjczMCk7CiAgICAgICAgICAgIAogICAgCiAgICAgICAgICAgIHZhciBwb3B1cF82ZWVjMGU4NWJhZTc0OWQwYjJhZWQzMDJiZTczYmIwNyA9IEwucG9wdXAoe21heFdpZHRoOiAnMTAwJScKICAgICAgICAgICAgCiAgICAgICAgICAgIH0pOwoKICAgICAgICAgICAgCiAgICAgICAgICAgICAgICB2YXIgaHRtbF85MmM3NmRmNzI1OWM0ZTJlOGVhZmUyNDNiMGU1ZWY2NiA9ICQoYDxkaXYgaWQ9Imh0bWxfOTJjNzZkZjcyNTljNGUyZThlYWZlMjQzYjBlNWVmNjYiIHN0eWxlPSJ3aWR0aDogMTAwLjAlOyBoZWlnaHQ6IDEwMC4wJTsiPkxvY2FsaWRhZDogRW5nYXRpdmE8L2Rpdj5gKVswXTsKICAgICAgICAgICAgICAgIHBvcHVwXzZlZWMwZTg1YmFlNzQ5ZDBiMmFlZDMwMmJlNzNiYjA3LnNldENvbnRlbnQoaHRtbF85MmM3NmRmNzI1OWM0ZTJlOGVhZmUyNDNiMGU1ZWY2Nik7CiAgICAgICAgICAgIAoKICAgICAgICAgICAgY2lyY2xlX21hcmtlcl9kMGQxYzYxZmYwZGU0YzZlYmYzZGEwNDdmOTAzMGI4NC5iaW5kUG9wdXAocG9wdXBfNmVlYzBlODViYWU3NDlkMGIyYWVkMzAyYmU3M2JiMDcpCiAgICAgICAgICAgIDsKCiAgICAgICAgICAgIAogICAgICAgIAogICAgCiAgICAgICAgICAgIHZhciBjaXJjbGVfbWFya2VyX2JkYmYzNTkzNThjNzRmZTQ5ZWI3MjQ0MGU5MWM0MmM5ID0gTC5jaXJjbGVNYXJrZXIoCiAgICAgICAgICAgICAgICBbNC42ODMyLCAtNzQuMTQ3OV0sCiAgICAgICAgICAgICAgICB7CiAgImJ1YmJsaW5nTW91c2VFdmVudHMiOiB0cnVlLAogICJjb2xvciI6ICJiIiwKICAiZGFzaEFycmF5IjogbnVsbCwKICAiZGFzaE9mZnNldCI6IG51bGwsCiAgImZpbGwiOiB0cnVlLAogICJmaWxsQ29sb3IiOiAicmVkIiwKICAiZmlsbE9wYWNpdHkiOiAwLjcsCiAgImZpbGxSdWxlIjogImV2ZW5vZGQiLAogICJsaW5lQ2FwIjogInJvdW5kIiwKICAibGluZUpvaW4iOiAicm91bmQiLAogICJvcGFjaXR5IjogMS4wLAogICJyYWRpdXMiOiAzLjgwMDAwMDAwMDAwMDAwMDMsCiAgInN0cm9rZSI6IHRydWUsCiAgIndlaWdodCI6IDMKfQogICAgICAgICAgICAgICAgKQogICAgICAgICAgICAgICAgLmFkZFRvKG1hcF80ZWJmNzNmYjY2YjY0NWU4YjE2NmFjNTZlNjdhMjczMCk7CiAgICAgICAgICAgIAogICAgCiAgICAgICAgICAgIHZhciBwb3B1cF84ZTczZjdlMmY2ZmI0NGQyYjFlNmZiZTE0MTkxZjAwZiA9IEwucG9wdXAoe21heFdpZHRoOiAnMTAwJScKICAgICAgICAgICAgCiAgICAgICAgICAgIH0pOwoKICAgICAgICAgICAgCiAgICAgICAgICAgICAgICB2YXIgaHRtbF82M2IwOTFhNzE1YjE0NTkwOTYwM2ExNThiN2FhNzU1NiA9ICQoYDxkaXYgaWQ9Imh0bWxfNjNiMDkxYTcxNWIxNDU5MDk2MDNhMTU4YjdhYTc1NTYiIHN0eWxlPSJ3aWR0aDogMTAwLjAlOyBoZWlnaHQ6IDEwMC4wJTsiPkxvY2FsaWRhZDogRm9udGlib248L2Rpdj5gKVswXTsKICAgICAgICAgICAgICAgIHBvcHVwXzhlNzNmN2UyZjZmYjQ0ZDJiMWU2ZmJlMTQxOTFmMDBmLnNldENvbnRlbnQoaHRtbF82M2IwOTFhNzE1YjE0NTkwOTYwM2ExNThiN2FhNzU1Nik7CiAgICAgICAgICAgIAoKICAgICAgICAgICAgY2lyY2xlX21hcmtlcl9iZGJmMzU5MzU4Yzc0ZmU0OWViNzI0NDBlOTFjNDJjOS5iaW5kUG9wdXAocG9wdXBfOGU3M2Y3ZTJmNmZiNDRkMmIxZTZmYmUxNDE5MWYwMGYpCiAgICAgICAgICAgIDsKCiAgICAgICAgICAgIAogICAgICAgIAogICAgCiAgICAgICAgICAgIHZhciBjaXJjbGVfbWFya2VyXzBiZjU2MDgxYTFmYTQxOTlhNGFjZWIwNmQ4NTFlYjQyID0gTC5jaXJjbGVNYXJrZXIoCiAgICAgICAgICAgICAgICBbNC42MjY4LCAtNzQuMTU3M10sCiAgICAgICAgICAgICAgICB7CiAgImJ1YmJsaW5nTW91c2VFdmVudHMiOiB0cnVlLAogICJjb2xvciI6ICJiIiwKICAiZGFzaEFycmF5IjogbnVsbCwKICAiZGFzaE9mZnNldCI6IG51bGwsCiAgImZpbGwiOiB0cnVlLAogICJmaWxsQ29sb3IiOiAicmVkIiwKICAiZmlsbE9wYWNpdHkiOiAwLjcsCiAgImZpbGxSdWxlIjogImV2ZW5vZGQiLAogICJsaW5lQ2FwIjogInJvdW5kIiwKICAibGluZUpvaW4iOiAicm91bmQiLAogICJvcGFjaXR5IjogMS4wLAogICJyYWRpdXMiOiAzNy40LAogICJzdHJva2UiOiB0cnVlLAogICJ3ZWlnaHQiOiAzCn0KICAgICAgICAgICAgICAgICkKICAgICAgICAgICAgICAgIC5hZGRUbyhtYXBfNGViZjczZmI2NmI2NDVlOGIxNjZhYzU2ZTY3YTI3MzApOwogICAgICAgICAgICAKICAgIAogICAgICAgICAgICB2YXIgcG9wdXBfZGQyOTNhMGE0OTBjNDllYTk5YzJlZjZjNWYxYmU2YzcgPSBMLnBvcHVwKHttYXhXaWR0aDogJzEwMCUnCiAgICAgICAgICAgIAogICAgICAgICAgICB9KTsKCiAgICAgICAgICAgIAogICAgICAgICAgICAgICAgdmFyIGh0bWxfMzZhMWViZTM0YTg3NDFjZTg4ZTAxMjUzOGZkYTIwZWQgPSAkKGA8ZGl2IGlkPSJodG1sXzM2YTFlYmUzNGE4NzQxY2U4OGUwMTI1MzhmZGEyMGVkIiBzdHlsZT0id2lkdGg6IDEwMC4wJTsgaGVpZ2h0OiAxMDAuMCU7Ij5Mb2NhbGlkYWQ6IEtlbm5lZHk8L2Rpdj5gKVswXTsKICAgICAgICAgICAgICAgIHBvcHVwX2RkMjkzYTBhNDkwYzQ5ZWE5OWMyZWY2YzVmMWJlNmM3LnNldENvbnRlbnQoaHRtbF8zNmExZWJlMzRhODc0MWNlODhlMDEyNTM4ZmRhMjBlZCk7CiAgICAgICAgICAgIAoKICAgICAgICAgICAgY2lyY2xlX21hcmtlcl8wYmY1NjA4MWExZmE0MTk5YTRhY2ViMDZkODUxZWI0Mi5iaW5kUG9wdXAocG9wdXBfZGQyOTNhMGE0OTBjNDllYTk5YzJlZjZjNWYxYmU2YzcpCiAgICAgICAgICAgIDsKCiAgICAgICAgICAgIAogICAgICAgIAogICAgCiAgICAgICAgICAgIHZhciBjaXJjbGVfbWFya2VyXzViMWY3OTllOTNhYzRlNDY5NjdmN2FkZmQxMGM3ZDdmID0gTC5jaXJjbGVNYXJrZXIoCiAgICAgICAgICAgICAgICBbNC41OTM5LCAtNzQuMDczOV0sCiAgICAgICAgICAgICAgICB7CiAgImJ1YmJsaW5nTW91c2VFdmVudHMiOiB0cnVlLAogICJjb2xvciI6ICJiIiwKICAiZGFzaEFycmF5IjogbnVsbCwKICAiZGFzaE9mZnNldCI6IG51bGwsCiAgImZpbGwiOiB0cnVlLAogICJmaWxsQ29sb3IiOiAicmVkIiwKICAiZmlsbE9wYWNpdHkiOiAwLjcsCiAgImZpbGxSdWxlIjogImV2ZW5vZGQiLAogICJsaW5lQ2FwIjogInJvdW5kIiwKICAibGluZUpvaW4iOiAicm91bmQiLAogICJvcGFjaXR5IjogMS4wLAogICJzdHJva2UiOiB0cnVlLAogICJ3ZWlnaHQiOiAzCn0KICAgICAgICAgICAgICAgICkKICAgICAgICAgICAgICAgIC5hZGRUbyhtYXBfNGViZjczZmI2NmI2NDVlOGIxNjZhYzU2ZTY3YTI3MzApOwogICAgICAgICAgICAKICAgIAogICAgICAgICAgICB2YXIgcG9wdXBfNTZiMGU3MTIzODczNDMwMzk5ODU5YTVhMmFlNzE0OGYgPSBMLnBvcHVwKHttYXhXaWR0aDogJzEwMCUnCiAgICAgICAgICAgIAogICAgICAgICAgICB9KTsKCiAgICAgICAgICAgIAogICAgICAgICAgICAgICAgdmFyIGh0bWxfMjM3ZGU1ZDEyY2ZiNDM1OTk3YWM1ODUwMjE1ODliNzkgPSAkKGA8ZGl2IGlkPSJodG1sXzIzN2RlNWQxMmNmYjQzNTk5N2FjNTg1MDIxNTg5Yjc5IiBzdHlsZT0id2lkdGg6IDEwMC4wJTsgaGVpZ2h0OiAxMDAuMCU7Ij5Mb2NhbGlkYWQ6IExhIGNhbmRlbGFyaWE8L2Rpdj5gKVswXTsKICAgICAgICAgICAgICAgIHBvcHVwXzU2YjBlNzEyMzg3MzQzMDM5OTg1OWE1YTJhZTcxNDhmLnNldENvbnRlbnQoaHRtbF8yMzdkZTVkMTJjZmI0MzU5OTdhYzU4NTAyMTU4OWI3OSk7CiAgICAgICAgICAgIAoKICAgICAgICAgICAgY2lyY2xlX21hcmtlcl81YjFmNzk5ZTkzYWM0ZTQ2OTY3ZjdhZGZkMTBjN2Q3Zi5iaW5kUG9wdXAocG9wdXBfNTZiMGU3MTIzODczNDMwMzk5ODU5YTVhMmFlNzE0OGYpCiAgICAgICAgICAgIDsKCiAgICAgICAgICAgIAogICAgICAgIAogICAgCiAgICAgICAgICAgIHZhciBjaXJjbGVfbWFya2VyX2U4OWRjYTdlMzMxNTQ1YjhhOWY2MWJkNGQwMjZlYTlmID0gTC5jaXJjbGVNYXJrZXIoCiAgICAgICAgICAgICAgICBbNC42MTQ5LCAtNzQuMTIyN10sCiAgICAgICAgICAgICAgICB7CiAgImJ1YmJsaW5nTW91c2VFdmVudHMiOiB0cnVlLAogICJjb2xvciI6ICJiIiwKICAiZGFzaEFycmF5IjogbnVsbCwKICAiZGFzaE9mZnNldCI6IG51bGwsCiAgImZpbGwiOiB0cnVlLAogICJmaWxsQ29sb3IiOiAicmVkIiwKICAiZmlsbE9wYWNpdHkiOiAwLjcsCiAgImZpbGxSdWxlIjogImV2ZW5vZGQiLAogICJsaW5lQ2FwIjogInJvdW5kIiwKICAibGluZUpvaW4iOiAicm91bmQiLAogICJvcGFjaXR5IjogMS4wLAogICJyYWRpdXMiOiAxLjYyLAogICJzdHJva2UiOiB0cnVlLAogICJ3ZWlnaHQiOiAzCn0KICAgICAgICAgICAgICAgICkKICAgICAgICAgICAgICAgIC5hZGRUbyhtYXBfNGViZjczZmI2NmI2NDVlOGIxNjZhYzU2ZTY3YTI3MzApOwogICAgICAgICAgICAKICAgIAogICAgICAgICAgICB2YXIgcG9wdXBfYjg5MmEwMWUxMzQwNDIxY2I2YWE4NTNjNmQyMGRmMTUgPSBMLnBvcHVwKHttYXhXaWR0aDogJzEwMCUnCiAgICAgICAgICAgIAogICAgICAgICAgICB9KTsKCiAgICAgICAgICAgIAogICAgICAgICAgICAgICAgdmFyIGh0bWxfYjE2NzU5ZTRhNGUzNDZhMWE3MmIwZTRmY2JiMjc2NDQgPSAkKGA8ZGl2IGlkPSJodG1sX2IxNjc1OWU0YTRlMzQ2YTFhNzJiMGU0ZmNiYjI3NjQ0IiBzdHlsZT0id2lkdGg6IDEwMC4wJTsgaGVpZ2h0OiAxMDAuMCU7Ij5Mb2NhbGlkYWQ6IFB1ZW50ZSBhcmFuZGE8L2Rpdj5gKVswXTsKICAgICAgICAgICAgICAgIHBvcHVwX2I4OTJhMDFlMTM0MDQyMWNiNmFhODUzYzZkMjBkZjE1LnNldENvbnRlbnQoaHRtbF9iMTY3NTllNGE0ZTM0NmExYTcyYjBlNGZjYmIyNzY0NCk7CiAgICAgICAgICAgIAoKICAgICAgICAgICAgY2lyY2xlX21hcmtlcl9lODlkY2E3ZTMzMTU0NWI4YTlmNjFiZDRkMDI2ZWE5Zi5iaW5kUG9wdXAocG9wdXBfYjg5MmEwMWUxMzQwNDIxY2I2YWE4NTNjNmQyMGRmMTUpCiAgICAgICAgICAgIDsKCiAgICAgICAgICAgIAogICAgICAgIAogICAgCiAgICAgICAgICAgIHZhciBjaXJjbGVfbWFya2VyX2UzOTRkMTc4YTRmZTRjYjA4NDkyNDMwNTc0ZWM0MWM1ID0gTC5jaXJjbGVNYXJrZXIoCiAgICAgICAgICAgICAgICBbNC41NjUzLCAtNzQuMTE2NF0sCiAgICAgICAgICAgICAgICB7CiAgImJ1YmJsaW5nTW91c2VFdmVudHMiOiB0cnVlLAogICJjb2xvciI6ICJiIiwKICAiZGFzaEFycmF5IjogbnVsbCwKICAiZGFzaE9mZnNldCI6IG51bGwsCiAgImZpbGwiOiB0cnVlLAogICJmaWxsQ29sb3IiOiAicmVkIiwKICAiZmlsbE9wYWNpdHkiOiAwLjcsCiAgImZpbGxSdWxlIjogImV2ZW5vZGQiLAogICJsaW5lQ2FwIjogInJvdW5kIiwKICAibGluZUpvaW4iOiAicm91bmQiLAogICJvcGFjaXR5IjogMS4wLAogICJyYWRpdXMiOiAxLjYyLAogICJzdHJva2UiOiB0cnVlLAogICJ3ZWlnaHQiOiAzCn0KICAgICAgICAgICAgICAgICkKICAgICAgICAgICAgICAgIC5hZGRUbyhtYXBfNGViZjczZmI2NmI2NDVlOGIxNjZhYzU2ZTY3YTI3MzApOwogICAgICAgICAgICAKICAgIAogICAgICAgICAgICB2YXIgcG9wdXBfMDlmMTNhMThmMjVlNGUxYmE5M2U2ZGMxMjVlNDNjMzMgPSBMLnBvcHVwKHttYXhXaWR0aDogJzEwMCUnCiAgICAgICAgICAgIAogICAgICAgICAgICB9KTsKCiAgICAgICAgICAgIAogICAgICAgICAgICAgICAgdmFyIGh0bWxfY2FmZGE0MjRiNTcyNGJmNjg2OTQzMzExNWY2ZmVlMzMgPSAkKGA8ZGl2IGlkPSJodG1sX2NhZmRhNDI0YjU3MjRiZjY4Njk0MzMxMTVmNmZlZTMzIiBzdHlsZT0id2lkdGg6IDEwMC4wJTsgaGVpZ2h0OiAxMDAuMCU7Ij5Mb2NhbGlkYWQ6IFJhZmFlbCB1cmliZSB1cmliZTwvZGl2PmApWzBdOwogICAgICAgICAgICAgICAgcG9wdXBfMDlmMTNhMThmMjVlNGUxYmE5M2U2ZGMxMjVlNDNjMzMuc2V0Q29udGVudChodG1sX2NhZmRhNDI0YjU3MjRiZjY4Njk0MzMxMTVmNmZlZTMzKTsKICAgICAgICAgICAgCgogICAgICAgICAgICBjaXJjbGVfbWFya2VyX2UzOTRkMTc4YTRmZTRjYjA4NDkyNDMwNTc0ZWM0MWM1LmJpbmRQb3B1cChwb3B1cF8wOWYxM2ExOGYyNWU0ZTFiYTkzZTZkYzEyNWU0M2MzMykKICAgICAgICAgICAgOwoKICAgICAgICAgICAgCiAgICAgICAgCiAgICAKICAgICAgICAgICAgdmFyIGNpcmNsZV9tYXJrZXJfNzliYTMyOTlmZDNkNDU3OGEyNGRlMWQ2NTRjZjliOTggPSBMLmNpcmNsZU1hcmtlcigKICAgICAgICAgICAgICAgIFs0Ljc2NTIsIC03NC4wODI0XSwKICAgICAgICAgICAgICAgIHsKICAiYnViYmxpbmdNb3VzZUV2ZW50cyI6IHRydWUsCiAgImNvbG9yIjogImIiLAogICJkYXNoQXJyYXkiOiBudWxsLAogICJkYXNoT2Zmc2V0IjogbnVsbCwKICAiZmlsbCI6IHRydWUsCiAgImZpbGxDb2xvciI6ICJyZWQiLAogICJmaWxsT3BhY2l0eSI6IDAuNywKICAiZmlsbFJ1bGUiOiAiZXZlbm9kZCIsCiAgImxpbmVDYXAiOiAicm91bmQiLAogICJsaW5lSm9pbiI6ICJyb3VuZCIsCiAgIm9wYWNpdHkiOiAxLjAsCiAgInJhZGl1cyI6IDI3Ljk0LAogICJzdHJva2UiOiB0cnVlLAogICJ3ZWlnaHQiOiAzCn0KICAgICAgICAgICAgICAgICkKICAgICAgICAgICAgICAgIC5hZGRUbyhtYXBfNGViZjczZmI2NmI2NDVlOGIxNjZhYzU2ZTY3YTI3MzApOwogICAgICAgICAgICAKICAgIAogICAgICAgICAgICB2YXIgcG9wdXBfNzQ0NzVmM2ViNjRhNDhjMDgxM2Q0YjdlM2NlNjBhZWIgPSBMLnBvcHVwKHttYXhXaWR0aDogJzEwMCUnCiAgICAgICAgICAgIAogICAgICAgICAgICB9KTsKCiAgICAgICAgICAgIAogICAgICAgICAgICAgICAgdmFyIGh0bWxfMmJjMWY5Y2E0Y2JiNGRjMzhiMjliOTgyMjZmM2U5ZGUgPSAkKGA8ZGl2IGlkPSJodG1sXzJiYzFmOWNhNGNiYjRkYzM4YjI5Yjk4MjI2ZjNlOWRlIiBzdHlsZT0id2lkdGg6IDEwMC4wJTsgaGVpZ2h0OiAxMDAuMCU7Ij5Mb2NhbGlkYWQ6IFN1YmE8L2Rpdj5gKVswXTsKICAgICAgICAgICAgICAgIHBvcHVwXzc0NDc1ZjNlYjY0YTQ4YzA4MTNkNGI3ZTNjZTYwYWViLnNldENvbnRlbnQoaHRtbF8yYmMxZjljYTRjYmI0ZGMzOGIyOWI5ODIyNmYzZTlkZSk7CiAgICAgICAgICAgIAoKICAgICAgICAgICAgY2lyY2xlX21hcmtlcl83OWJhMzI5OWZkM2Q0NTc4YTI0ZGUxZDY1NGNmOWI5OC5iaW5kUG9wdXAocG9wdXBfNzQ0NzVmM2ViNjRhNDhjMDgxM2Q0YjdlM2NlNjBhZWIpCiAgICAgICAgICAgIDsKCiAgICAgICAgICAgIAogICAgICAgIAogICAgCiAgICAgICAgICAgIHZhciBjaXJjbGVfbWFya2VyXzZlZmNlZTIyZjY4YTQzN2RiNjU2NWI0MTBhNGU4MDM0ID0gTC5jaXJjbGVNYXJrZXIoCiAgICAgICAgICAgICAgICBbNC42NDQ4LCAtNzQuMDkzOF0sCiAgICAgICAgICAgICAgICB7CiAgImJ1YmJsaW5nTW91c2VFdmVudHMiOiB0cnVlLAogICJjb2xvciI6ICJiIiwKICAiZGFzaEFycmF5IjogbnVsbCwKICAiZGFzaE9mZnNldCI6IG51bGwsCiAgImZpbGwiOiB0cnVlLAogICJmaWxsQ29sb3IiOiAicmVkIiwKICAiZmlsbE9wYWNpdHkiOiAwLjcsCiAgImZpbGxSdWxlIjogImV2ZW5vZGQiLAogICJsaW5lQ2FwIjogInJvdW5kIiwKICAibGluZUpvaW4iOiAicm91bmQiLAogICJvcGFjaXR5IjogMS4wLAogICJyYWRpdXMiOiAzLjI0LAogICJzdHJva2UiOiB0cnVlLAogICJ3ZWlnaHQiOiAzCn0KICAgICAgICAgICAgICAgICkKICAgICAgICAgICAgICAgIC5hZGRUbyhtYXBfNGViZjczZmI2NmI2NDVlOGIxNjZhYzU2ZTY3YTI3MzApOwogICAgICAgICAgICAKICAgIAogICAgICAgICAgICB2YXIgcG9wdXBfYWEyNzZmMTRjNjFiNGU2OTgyYmRkMWM0MDhiNjljOGYgPSBMLnBvcHVwKHttYXhXaWR0aDogJzEwMCUnCiAgICAgICAgICAgIAogICAgICAgICAgICB9KTsKCiAgICAgICAgICAgIAogICAgICAgICAgICAgICAgdmFyIGh0bWxfYWMxMDk0MThiZTQ0NDUyY2E0ZTUyZDhmOGUwNDUyNzUgPSAkKGA8ZGl2IGlkPSJodG1sX2FjMTA5NDE4YmU0NDQ1MmNhNGU1MmQ4ZjhlMDQ1Mjc1IiBzdHlsZT0id2lkdGg6IDEwMC4wJTsgaGVpZ2h0OiAxMDAuMCU7Ij5Mb2NhbGlkYWQ6IFRldXNhcXVpbGxvPC9kaXY+YClbMF07CiAgICAgICAgICAgICAgICBwb3B1cF9hYTI3NmYxNGM2MWI0ZTY5ODJiZGQxYzQwOGI2OWM4Zi5zZXRDb250ZW50KGh0bWxfYWMxMDk0MThiZTQ0NDUyY2E0ZTUyZDhmOGUwNDUyNzUpOwogICAgICAgICAgICAKCiAgICAgICAgICAgIGNpcmNsZV9tYXJrZXJfNmVmY2VlMjJmNjhhNDM3ZGI2NTY1YjQxMGE0ZTgwMzQuYmluZFBvcHVwKHBvcHVwX2FhMjc2ZjE0YzYxYjRlNjk4MmJkZDFjNDA4YjY5YzhmKQogICAgICAgICAgICA7CgogICAgICAgICAgICAKICAgICAgICAKICAgIAogICAgICAgICAgICB2YXIgY2lyY2xlX21hcmtlcl85NGIyYzI3NjRhNGM0MDEzOTNmMWFkMzYxMWMzZjJiNyA9IEwuY2lyY2xlTWFya2VyKAogICAgICAgICAgICAgICAgWzQuNTg3NSwgLTc0LjE0MDddLAogICAgICAgICAgICAgICAgewogICJidWJibGluZ01vdXNlRXZlbnRzIjogdHJ1ZSwKICAiY29sb3IiOiAiYiIsCiAgImRhc2hBcnJheSI6IG51bGwsCiAgImRhc2hPZmZzZXQiOiBudWxsLAogICJmaWxsIjogdHJ1ZSwKICAiZmlsbENvbG9yIjogInJlZCIsCiAgImZpbGxPcGFjaXR5IjogMC43LAogICJmaWxsUnVsZSI6ICJldmVub2RkIiwKICAibGluZUNhcCI6ICJyb3VuZCIsCiAgImxpbmVKb2luIjogInJvdW5kIiwKICAib3BhY2l0eSI6IDEuMCwKICAicmFkaXVzIjogMC42OCwKICAic3Ryb2tlIjogdHJ1ZSwKICAid2VpZ2h0IjogMwp9CiAgICAgICAgICAgICAgICApCiAgICAgICAgICAgICAgICAuYWRkVG8obWFwXzRlYmY3M2ZiNjZiNjQ1ZThiMTY2YWM1NmU2N2EyNzMwKTsKICAgICAgICAgICAgCiAgICAKICAgICAgICAgICAgdmFyIHBvcHVwXzUxODMzZjU5ZGMwZTRlOTQ5ZDE4YjdhYmI0NGM5YWQ1ID0gTC5wb3B1cCh7bWF4V2lkdGg6ICcxMDAlJwogICAgICAgICAgICAKICAgICAgICAgICAgfSk7CgogICAgICAgICAgICAKICAgICAgICAgICAgICAgIHZhciBodG1sXzU1ZWZhNWEyMDE0ODQwOTY5MDRhNWYyNmYyMDhlYzA4ID0gJChgPGRpdiBpZD0iaHRtbF81NWVmYTVhMjAxNDg0MDk2OTA0YTVmMjZmMjA4ZWMwOCIgc3R5bGU9IndpZHRoOiAxMDAuMCU7IGhlaWdodDogMTAwLjAlOyI+TG9jYWxpZGFkOiBUdW5qdWVsaXRvPC9kaXY+YClbMF07CiAgICAgICAgICAgICAgICBwb3B1cF81MTgzM2Y1OWRjMGU0ZTk0OWQxOGI3YWJiNDRjOWFkNS5zZXRDb250ZW50KGh0bWxfNTVlZmE1YTIwMTQ4NDA5NjkwNGE1ZjI2ZjIwOGVjMDgpOwogICAgICAgICAgICAKCiAgICAgICAgICAgIGNpcmNsZV9tYXJrZXJfOTRiMmMyNzY0YTRjNDAxMzkzZjFhZDM2MTFjM2YyYjcuYmluZFBvcHVwKHBvcHVwXzUxODMzZjU5ZGMwZTRlOTQ5ZDE4YjdhYmI0NGM5YWQ1KQogICAgICAgICAgICA7CgogICAgICAgICAgICAKICAgICAgICAKICAgIAogICAgICAgICAgICB2YXIgY2lyY2xlX21hcmtlcl9mNDQ4N2M1NDM3MzY0Mjk1YTNhODdiY2UxY2Q0MDc0MSA9IEwuY2lyY2xlTWFya2VyKAogICAgICAgICAgICAgICAgWzQuNzQ4NSwgLTc0LjAzMTJdLAogICAgICAgICAgICAgICAgewogICJidWJibGluZ01vdXNlRXZlbnRzIjogdHJ1ZSwKICAiY29sb3IiOiAiYiIsCiAgImRhc2hBcnJheSI6IG51bGwsCiAgImRhc2hPZmZzZXQiOiBudWxsLAogICJmaWxsIjogdHJ1ZSwKICAiZmlsbENvbG9yIjogInJlZCIsCiAgImZpbGxPcGFjaXR5IjogMC43LAogICJmaWxsUnVsZSI6ICJldmVub2RkIiwKICAibGluZUNhcCI6ICJyb3VuZCIsCiAgImxpbmVKb2luIjogInJvdW5kIiwKICAib3BhY2l0eSI6IDEuMCwKICAicmFkaXVzIjogMjAuNywKICAic3Ryb2tlIjogdHJ1ZSwKICAid2VpZ2h0IjogMwp9CiAgICAgICAgICAgICAgICApCiAgICAgICAgICAgICAgICAuYWRkVG8obWFwXzRlYmY3M2ZiNjZiNjQ1ZThiMTY2YWM1NmU2N2EyNzMwKTsKICAgICAgICAgICAgCiAgICAKICAgICAgICAgICAgdmFyIHBvcHVwXzIxMjQ3MWY2YTA3NDQ5NWI5NmQxZGI0ZjJjOGNkMzhiID0gTC5wb3B1cCh7bWF4V2lkdGg6ICcxMDAlJwogICAgICAgICAgICAKICAgICAgICAgICAgfSk7CgogICAgICAgICAgICAKICAgICAgICAgICAgICAgIHZhciBodG1sXzRiZmU0MDFjZjJiMTQyZjg5MWY0MTFkZTI2NjdkMWI5ID0gJChgPGRpdiBpZD0iaHRtbF80YmZlNDAxY2YyYjE0MmY4OTFmNDExZGUyNjY3ZDFiOSIgc3R5bGU9IndpZHRoOiAxMDAuMCU7IGhlaWdodDogMTAwLjAlOyI+TG9jYWxpZGFkOiBVc2FxdWVuPC9kaXY+YClbMF07CiAgICAgICAgICAgICAgICBwb3B1cF8yMTI0NzFmNmEwNzQ0OTViOTZkMWRiNGYyYzhjZDM4Yi5zZXRDb250ZW50KGh0bWxfNGJmZTQwMWNmMmIxNDJmODkxZjQxMWRlMjY2N2QxYjkpOwogICAgICAgICAgICAKCiAgICAgICAgICAgIGNpcmNsZV9tYXJrZXJfZjQ0ODdjNTQzNzM2NDI5NWEzYTg3YmNlMWNkNDA3NDEuYmluZFBvcHVwKHBvcHVwXzIxMjQ3MWY2YTA3NDQ5NWI5NmQxZGI0ZjJjOGNkMzhiKQogICAgICAgICAgICA7CgogICAgICAgICAgICAKICAgICAgICAKPC9zY3JpcHQ+ onload=\"this.contentDocument.open();this.contentDocument.write(atob(this.getAttribute('data-html')));this.contentDocument.close();\" allowfullscreen webkitallowfullscreen mozallowfullscreen></iframe></div></div>"
            ],
            "text/plain": [
              "<folium.folium.Map at 0x7fbfcaf9ecf8>"
            ]
          },
          "metadata": {
            "tags": []
          },
          "execution_count": 99
        }
      ]
    },
    {
      "cell_type": "markdown",
      "metadata": {
        "id": "alscWOh8RVj2"
      },
      "source": [
        "Merge information into one dataframe"
      ]
    },
    {
      "cell_type": "code",
      "metadata": {
        "id": "5e1dnMr9WNLS"
      },
      "source": [
        "df = df2\n",
        "df['LOCALIDAD'] = df['LOCALIDAD'].str.upper() \n",
        "df = df[df['LOCALIDAD'].isin(df1['LOCALIDAD'])].reset_index(drop=True)\n",
        "df1 = df1[df1['LOCALIDAD'].isin(df['LOCALIDAD'])].reset_index(drop=True)\n"
      ],
      "execution_count": null,
      "outputs": []
    },
    {
      "cell_type": "code",
      "metadata": {
        "id": "xLzHb5mKRuQU"
      },
      "source": [
        "codes = df['CODE']\n",
        "codes = codes-1\n",
        "codes = codes.tolist()\n"
      ],
      "execution_count": null,
      "outputs": []
    },
    {
      "cell_type": "code",
      "metadata": {
        "id": "238G1BjusIkY",
        "outputId": "6921b6f6-33b5-404d-82ef-1519087ae08a",
        "colab": {
          "base_uri": "https://localhost:8080/",
          "height": 204
        }
      },
      "source": [
        "ndf1 =  df1.reindex(codes).reset_index(drop=True)\n",
        "df['LATITUDE']=ndf1['LATITUD']\n",
        "df['LONGITUDE']=ndf1['LONGITUD']\n",
        "df['NUMOPEN']=ndf1['NUMOPEN']\n",
        "df['NUMCLOSE']=ndf1['NUMCLOSE']\n",
        "df['KIND'].replace('relacionado', 'Relacionado', inplace=True)\n",
        "\n",
        "df.head()"
      ],
      "execution_count": null,
      "outputs": [
        {
          "output_type": "execute_result",
          "data": {
            "text/html": [
              "<div>\n",
              "<style scoped>\n",
              "    .dataframe tbody tr th:only-of-type {\n",
              "        vertical-align: middle;\n",
              "    }\n",
              "\n",
              "    .dataframe tbody tr th {\n",
              "        vertical-align: top;\n",
              "    }\n",
              "\n",
              "    .dataframe thead th {\n",
              "        text-align: right;\n",
              "    }\n",
              "</style>\n",
              "<table border=\"1\" class=\"dataframe\">\n",
              "  <thead>\n",
              "    <tr style=\"text-align: right;\">\n",
              "      <th></th>\n",
              "      <th>ID</th>\n",
              "      <th>DATE</th>\n",
              "      <th>CODE</th>\n",
              "      <th>LOCALIDAD</th>\n",
              "      <th>AGE</th>\n",
              "      <th>SEX</th>\n",
              "      <th>KIND</th>\n",
              "      <th>LOCATION</th>\n",
              "      <th>STATE</th>\n",
              "      <th>LATITUDE</th>\n",
              "      <th>LONGITUDE</th>\n",
              "      <th>NUMOPEN</th>\n",
              "      <th>NUMCLOSE</th>\n",
              "    </tr>\n",
              "  </thead>\n",
              "  <tbody>\n",
              "    <tr>\n",
              "      <th>0</th>\n",
              "      <td>1</td>\n",
              "      <td>2020-03-06</td>\n",
              "      <td>1.0</td>\n",
              "      <td>USAQUEN</td>\n",
              "      <td>19.0</td>\n",
              "      <td>F</td>\n",
              "      <td>Importado</td>\n",
              "      <td>Casa</td>\n",
              "      <td>Moderado</td>\n",
              "      <td>4.5486</td>\n",
              "      <td>-74.1009</td>\n",
              "      <td>2.0</td>\n",
              "      <td>2.0</td>\n",
              "    </tr>\n",
              "    <tr>\n",
              "      <th>1</th>\n",
              "      <td>2</td>\n",
              "      <td>2020-03-10</td>\n",
              "      <td>10.0</td>\n",
              "      <td>ENGATIVA</td>\n",
              "      <td>22.0</td>\n",
              "      <td>F</td>\n",
              "      <td>Importado</td>\n",
              "      <td>Casa</td>\n",
              "      <td>Moderado</td>\n",
              "      <td>4.5653</td>\n",
              "      <td>-74.1164</td>\n",
              "      <td>1.0</td>\n",
              "      <td>1.0</td>\n",
              "    </tr>\n",
              "    <tr>\n",
              "      <th>2</th>\n",
              "      <td>3</td>\n",
              "      <td>2020-03-10</td>\n",
              "      <td>10.0</td>\n",
              "      <td>ENGATIVA</td>\n",
              "      <td>28.0</td>\n",
              "      <td>F</td>\n",
              "      <td>Importado</td>\n",
              "      <td>Casa</td>\n",
              "      <td>Moderado</td>\n",
              "      <td>4.5653</td>\n",
              "      <td>-74.1164</td>\n",
              "      <td>1.0</td>\n",
              "      <td>1.0</td>\n",
              "    </tr>\n",
              "    <tr>\n",
              "      <th>3</th>\n",
              "      <td>4</td>\n",
              "      <td>2020-03-12</td>\n",
              "      <td>9.0</td>\n",
              "      <td>FONTIBON</td>\n",
              "      <td>36.0</td>\n",
              "      <td>F</td>\n",
              "      <td>Importado</td>\n",
              "      <td>Casa</td>\n",
              "      <td>Moderado</td>\n",
              "      <td>4.6149</td>\n",
              "      <td>-74.1227</td>\n",
              "      <td>9.0</td>\n",
              "      <td>5.0</td>\n",
              "    </tr>\n",
              "    <tr>\n",
              "      <th>4</th>\n",
              "      <td>5</td>\n",
              "      <td>2020-03-12</td>\n",
              "      <td>8.0</td>\n",
              "      <td>KENNEDY</td>\n",
              "      <td>42.0</td>\n",
              "      <td>F</td>\n",
              "      <td>Importado</td>\n",
              "      <td>Casa</td>\n",
              "      <td>Moderado</td>\n",
              "      <td>4.5939</td>\n",
              "      <td>-74.0739</td>\n",
              "      <td>58.0</td>\n",
              "      <td>40.0</td>\n",
              "    </tr>\n",
              "  </tbody>\n",
              "</table>\n",
              "</div>"
            ],
            "text/plain": [
              "  ID       DATE  CODE LOCALIDAD  ...  LATITUDE LONGITUDE NUMOPEN NUMCLOSE\n",
              "0  1 2020-03-06   1.0   USAQUEN  ...    4.5486  -74.1009     2.0      2.0\n",
              "1  2 2020-03-10  10.0  ENGATIVA  ...    4.5653  -74.1164     1.0      1.0\n",
              "2  3 2020-03-10  10.0  ENGATIVA  ...    4.5653  -74.1164     1.0      1.0\n",
              "3  4 2020-03-12   9.0  FONTIBON  ...    4.6149  -74.1227     9.0      5.0\n",
              "4  5 2020-03-12   8.0   KENNEDY  ...    4.5939  -74.0739    58.0     40.0\n",
              "\n",
              "[5 rows x 13 columns]"
            ]
          },
          "metadata": {
            "tags": []
          },
          "execution_count": 102
        }
      ]
    },
    {
      "cell_type": "markdown",
      "metadata": {
        "id": "RvOIkNSJRsSR"
      },
      "source": [
        "Generate bar plots of different interesting variables"
      ]
    },
    {
      "cell_type": "code",
      "metadata": {
        "id": "GilrBF4JIPEz",
        "outputId": "eafa26d7-814a-492d-dcc3-51b97727adc2",
        "colab": {
          "base_uri": "https://localhost:8080/",
          "height": 376
        }
      },
      "source": [
        "df['LOCALIDAD'].value_counts().plot(kind='bar')"
      ],
      "execution_count": null,
      "outputs": [
        {
          "output_type": "execute_result",
          "data": {
            "text/plain": [
              "<matplotlib.axes._subplots.AxesSubplot at 0x7fbfcaf5e940>"
            ]
          },
          "metadata": {
            "tags": []
          },
          "execution_count": 103
        },
        {
          "output_type": "display_data",
          "data": {
            "image/png": "[encoded data removed]",
            "text/plain": [
              "<Figure size 432x288 with 1 Axes>"
            ]
          },
          "metadata": {
            "tags": [],
            "needs_background": "light"
          }
        }
      ]
    },
    {
      "cell_type": "code",
      "metadata": {
        "id": "v5pl7gIwMA8n",
        "outputId": "f257c12d-4f3a-4f58-ae57-2b5a843e7528",
        "colab": {
          "base_uri": "https://localhost:8080/",
          "height": 376
        }
      },
      "source": [
        "df['LOCALIDAD'][df['STATE']=='Fallecido'].value_counts().plot(kind='bar')"
      ],
      "execution_count": null,
      "outputs": [
        {
          "output_type": "execute_result",
          "data": {
            "text/plain": [
              "<matplotlib.axes._subplots.AxesSubplot at 0x7fbfcae62dd8>"
            ]
          },
          "metadata": {
            "tags": []
          },
          "execution_count": 104
        },
        {
          "output_type": "display_data",
          "data": {
            "image/png": "[encoded data removed]",
            "text/plain": [
              "<Figure size 432x288 with 1 Axes>"
            ]
          },
          "metadata": {
            "tags": [],
            "needs_background": "light"
          }
        }
      ]
    },
    {
      "cell_type": "code",
      "metadata": {
        "id": "uAJtAWcStELb"
      },
      "source": [
        "df.drop(['DATE','CODE','LOCALIDAD'], axis=1, inplace=True)"
      ],
      "execution_count": null,
      "outputs": []
    },
    {
      "cell_type": "code",
      "metadata": {
        "id": "YyKSgQxvOrEt",
        "outputId": "e3e8e26c-d702-40f1-8250-c53581cc06d3",
        "colab": {
          "base_uri": "https://localhost:8080/",
          "height": 333
        }
      },
      "source": [
        "df['LOCATION'].value_counts().plot(kind='bar')"
      ],
      "execution_count": null,
      "outputs": [
        {
          "output_type": "execute_result",
          "data": {
            "text/plain": [
              "<matplotlib.axes._subplots.AxesSubplot at 0x7fbfd0960c50>"
            ]
          },
          "metadata": {
            "tags": []
          },
          "execution_count": 106
        },
        {
          "output_type": "display_data",
          "data": {
            "image/png": "[encoded data removed]",
            "text/plain": [
              "<Figure size 432x288 with 1 Axes>"
            ]
          },
          "metadata": {
            "tags": [],
            "needs_background": "light"
          }
        }
      ]
    },
    {
      "cell_type": "code",
      "metadata": {
        "id": "96IXXbpMG2LR",
        "outputId": "7d29132b-a297-4aa5-8ad7-dfeed011fa33",
        "colab": {
          "base_uri": "https://localhost:8080/",
          "height": 322
        }
      },
      "source": [
        "df['STATE'].value_counts().plot(kind='bar')"
      ],
      "execution_count": null,
      "outputs": [
        {
          "output_type": "execute_result",
          "data": {
            "text/plain": [
              "<matplotlib.axes._subplots.AxesSubplot at 0x7fbfcae18c88>"
            ]
          },
          "metadata": {
            "tags": []
          },
          "execution_count": 107
        },
        {
          "output_type": "display_data",
          "data": {
            "image/png": "[encoded data removed]",
            "text/plain": [
              "<Figure size 432x288 with 1 Axes>"
            ]
          },
          "metadata": {
            "tags": [],
            "needs_background": "light"
          }
        }
      ]
    },
    {
      "cell_type": "code",
      "metadata": {
        "id": "Zc-YgRQzGte3",
        "outputId": "5aecd636-f939-457a-de2f-083d9bfda44c",
        "colab": {
          "base_uri": "https://localhost:8080/",
          "height": 336
        }
      },
      "source": [
        "df['KIND'].value_counts().plot(kind='bar')"
      ],
      "execution_count": null,
      "outputs": [
        {
          "output_type": "execute_result",
          "data": {
            "text/plain": [
              "<matplotlib.axes._subplots.AxesSubplot at 0x7fbfcade9128>"
            ]
          },
          "metadata": {
            "tags": []
          },
          "execution_count": 108
        },
        {
          "output_type": "display_data",
          "data": {
            "image/png": "[encoded data removed]",
            "text/plain": [
              "<Figure size 432x288 with 1 Axes>"
            ]
          },
          "metadata": {
            "tags": [],
            "needs_background": "light"
          }
        }
      ]
    },
    {
      "cell_type": "markdown",
      "metadata": {
        "id": "efnRIhzRRzUv"
      },
      "source": [
        "Organize data to create a model"
      ]
    },
    {
      "cell_type": "code",
      "metadata": {
        "id": "6TLRLvU116aX",
        "outputId": "982b6d05-aa20-43db-a644-1213c5b7639c",
        "colab": {
          "base_uri": "https://localhost:8080/",
          "height": 204
        }
      },
      "source": [
        "df['KIND'].replace(['Importado', 'Relacionado', 'En estudio', 'Desconocido'], [0, 1, 2, 3], inplace=True)\n",
        "df['LOCATION'].replace(['Casa', 'Hospital', 'Hospital UCI', 'Fallecido'], [0, 1, 2, 3], inplace=True)\n",
        "df['STATE'].replace(['Moderado', 'Severo', 'Critico', 'Fallecido'], [0, 1, 2, 3], inplace=True)\n",
        "df['SEX'].replace(['F', 'M'], [0, 1], inplace=True)\n",
        "df.dropna(inplace=True)\n",
        "df.reset_index(drop=True)\n",
        "\n",
        "df.head()"
      ],
      "execution_count": null,
      "outputs": [
        {
          "output_type": "execute_result",
          "data": {
            "text/html": [
              "<div>\n",
              "<style scoped>\n",
              "    .dataframe tbody tr th:only-of-type {\n",
              "        vertical-align: middle;\n",
              "    }\n",
              "\n",
              "    .dataframe tbody tr th {\n",
              "        vertical-align: top;\n",
              "    }\n",
              "\n",
              "    .dataframe thead th {\n",
              "        text-align: right;\n",
              "    }\n",
              "</style>\n",
              "<table border=\"1\" class=\"dataframe\">\n",
              "  <thead>\n",
              "    <tr style=\"text-align: right;\">\n",
              "      <th></th>\n",
              "      <th>ID</th>\n",
              "      <th>AGE</th>\n",
              "      <th>SEX</th>\n",
              "      <th>KIND</th>\n",
              "      <th>LOCATION</th>\n",
              "      <th>STATE</th>\n",
              "      <th>LATITUDE</th>\n",
              "      <th>LONGITUDE</th>\n",
              "      <th>NUMOPEN</th>\n",
              "      <th>NUMCLOSE</th>\n",
              "    </tr>\n",
              "  </thead>\n",
              "  <tbody>\n",
              "    <tr>\n",
              "      <th>0</th>\n",
              "      <td>1</td>\n",
              "      <td>19.0</td>\n",
              "      <td>0</td>\n",
              "      <td>0</td>\n",
              "      <td>0</td>\n",
              "      <td>0</td>\n",
              "      <td>4.5486</td>\n",
              "      <td>-74.1009</td>\n",
              "      <td>2.0</td>\n",
              "      <td>2.0</td>\n",
              "    </tr>\n",
              "    <tr>\n",
              "      <th>1</th>\n",
              "      <td>2</td>\n",
              "      <td>22.0</td>\n",
              "      <td>0</td>\n",
              "      <td>0</td>\n",
              "      <td>0</td>\n",
              "      <td>0</td>\n",
              "      <td>4.5653</td>\n",
              "      <td>-74.1164</td>\n",
              "      <td>1.0</td>\n",
              "      <td>1.0</td>\n",
              "    </tr>\n",
              "    <tr>\n",
              "      <th>2</th>\n",
              "      <td>3</td>\n",
              "      <td>28.0</td>\n",
              "      <td>0</td>\n",
              "      <td>0</td>\n",
              "      <td>0</td>\n",
              "      <td>0</td>\n",
              "      <td>4.5653</td>\n",
              "      <td>-74.1164</td>\n",
              "      <td>1.0</td>\n",
              "      <td>1.0</td>\n",
              "    </tr>\n",
              "    <tr>\n",
              "      <th>3</th>\n",
              "      <td>4</td>\n",
              "      <td>36.0</td>\n",
              "      <td>0</td>\n",
              "      <td>0</td>\n",
              "      <td>0</td>\n",
              "      <td>0</td>\n",
              "      <td>4.6149</td>\n",
              "      <td>-74.1227</td>\n",
              "      <td>9.0</td>\n",
              "      <td>5.0</td>\n",
              "    </tr>\n",
              "    <tr>\n",
              "      <th>4</th>\n",
              "      <td>5</td>\n",
              "      <td>42.0</td>\n",
              "      <td>0</td>\n",
              "      <td>0</td>\n",
              "      <td>0</td>\n",
              "      <td>0</td>\n",
              "      <td>4.5939</td>\n",
              "      <td>-74.0739</td>\n",
              "      <td>58.0</td>\n",
              "      <td>40.0</td>\n",
              "    </tr>\n",
              "  </tbody>\n",
              "</table>\n",
              "</div>"
            ],
            "text/plain": [
              "  ID   AGE  SEX  KIND  LOCATION  STATE  LATITUDE  LONGITUDE  NUMOPEN  NUMCLOSE\n",
              "0  1  19.0    0     0         0      0    4.5486   -74.1009      2.0       2.0\n",
              "1  2  22.0    0     0         0      0    4.5653   -74.1164      1.0       1.0\n",
              "2  3  28.0    0     0         0      0    4.5653   -74.1164      1.0       1.0\n",
              "3  4  36.0    0     0         0      0    4.6149   -74.1227      9.0       5.0\n",
              "4  5  42.0    0     0         0      0    4.5939   -74.0739     58.0      40.0"
            ]
          },
          "metadata": {
            "tags": []
          },
          "execution_count": 109
        }
      ]
    },
    {
      "cell_type": "code",
      "metadata": {
        "id": "rCXUpH11UEoe",
        "outputId": "cf111d7b-6ff0-4300-f6a7-80e1b04de52b",
        "colab": {
          "base_uri": "https://localhost:8080/",
          "height": 34
        }
      },
      "source": [
        "df.shape"
      ],
      "execution_count": null,
      "outputs": [
        {
          "output_type": "execute_result",
          "data": {
            "text/plain": [
              "(1383, 10)"
            ]
          },
          "metadata": {
            "tags": []
          },
          "execution_count": 110
        }
      ]
    },
    {
      "cell_type": "code",
      "metadata": {
        "id": "NF9BhU3E1-Wa"
      },
      "source": [
        "x = df.values #returns a numpy array\n",
        "min_max_scaler = preprocessing.MinMaxScaler()\n",
        "x_scaled = min_max_scaler.fit_transform(x)\n",
        "ndf = pd.DataFrame(x_scaled)"
      ],
      "execution_count": null,
      "outputs": []
    },
    {
      "cell_type": "markdown",
      "metadata": {
        "id": "0zjA6S7yUF1-"
      },
      "source": [
        "Divide data from labels and x into different sets"
      ]
    },
    {
      "cell_type": "code",
      "metadata": {
        "id": "0JzSI9HH7SM0"
      },
      "source": [
        "#1 when needs hospital, 0 when not\n",
        "labels = df['LOCATION']\n",
        "labels.replace([2, 3], [1, 0], inplace=True)\n"
      ],
      "execution_count": null,
      "outputs": []
    },
    {
      "cell_type": "code",
      "metadata": {
        "id": "r94imYog7582"
      },
      "source": [
        "xtrain = ndf\n",
        "xtrain = xtrain.drop([X.columns[3], X.columns[5]],  axis=1)"
      ],
      "execution_count": null,
      "outputs": []
    },
    {
      "cell_type": "code",
      "metadata": {
        "id": "3DfqHUR0TdwD"
      },
      "source": [
        "from sklearn.model_selection import train_test_split\n",
        "from sklearn import metrics"
      ],
      "execution_count": null,
      "outputs": []
    },
    {
      "cell_type": "code",
      "metadata": {
        "id": "geVrjJ1aTZ-y",
        "outputId": "791321f2-d848-432d-9a15-9bcb2843c1a9",
        "colab": {
          "base_uri": "https://localhost:8080/",
          "height": 68
        }
      },
      "source": [
        "x, X_test, y, y_test = train_test_split(xtrain,labels,test_size=0.2,train_size=0.8, random_state = 4)\n",
        "X_train, X_cv, y_train, y_cv = train_test_split(x,y,test_size = 0.25,train_size =0.75, random_state = 4)\n",
        "print ('Train set:', X_train.shape,  y_train.shape)\n",
        "print ('Test set:', X_test.shape,  y_test.shape)\n",
        "print ('Validation set:', X_cv.shape,  y_cv.shape)"
      ],
      "execution_count": null,
      "outputs": [
        {
          "output_type": "stream",
          "text": [
            "Train set: (829, 8) (829,)\n",
            "Test set: (277, 8) (277,)\n",
            "Validation set: (277, 8) (277,)\n"
          ],
          "name": "stdout"
        }
      ]
    },
    {
      "cell_type": "code",
      "metadata": {
        "id": "_FW2rgwgUlhK",
        "outputId": "61454062-afef-4e90-8090-2d837409cead",
        "colab": {
          "base_uri": "https://localhost:8080/",
          "height": 34
        }
      },
      "source": [
        "y_test.shape"
      ],
      "execution_count": null,
      "outputs": [
        {
          "output_type": "execute_result",
          "data": {
            "text/plain": [
              "(277,)"
            ]
          },
          "metadata": {
            "tags": []
          },
          "execution_count": 126
        }
      ]
    },
    {
      "cell_type": "markdown",
      "metadata": {
        "id": "n478HsVIUKYk"
      },
      "source": [
        "Optimize model"
      ]
    },
    {
      "cell_type": "code",
      "metadata": {
        "id": "_9XTXd3NTaT9",
        "outputId": "f8aa4108-9b20-4866-a920-d239219fab32",
        "colab": {
          "base_uri": "https://localhost:8080/",
          "height": 34
        }
      },
      "source": [
        "#Find best model SVM\n",
        "\n",
        "mean_acc = np.zeros((4))\n",
        "\n",
        "from sklearn import svm\n",
        "clf = svm.SVC(kernel='linear')\n",
        "clf.fit(X_train, y_train) \n",
        "yhat = clf.predict(X_test)\n",
        "mean_acc[0]=metrics.accuracy_score(y_test, yhat)\n",
        "\n",
        "clf = svm.SVC(kernel='poly')\n",
        "clf.fit(X_train, y_train) \n",
        "yhat = clf.predict(X_test)\n",
        "mean_acc[1]=metrics.accuracy_score(y_test, yhat)\n",
        "\n",
        "clf = svm.SVC(kernel='rbf')\n",
        "clf.fit(X_train, y_train) \n",
        "yhat = clf.predict(X_test)\n",
        "mean_acc[2]=metrics.accuracy_score(y_test, yhat)\n",
        "\n",
        "clf = svm.SVC(kernel='sigmoid')\n",
        "clf.fit(X_train, y_train) \n",
        "yhat = clf.predict(X_test)\n",
        "mean_acc[3]=metrics.accuracy_score(y_test, yhat)\n",
        "\n",
        "print( \"The best accuracy was with\", mean_acc.max(), \"with model=\", mean_acc.argmax()) "
      ],
      "execution_count": null,
      "outputs": [
        {
          "output_type": "stream",
          "text": [
            "The best accuracy was with 0.9891696750902527 with model= 2\n"
          ],
          "name": "stdout"
        }
      ]
    },
    {
      "cell_type": "code",
      "metadata": {
        "id": "QhKgW7FMV36H",
        "outputId": "ef1c12a0-850c-48f4-eb49-6058d80ab54b",
        "colab": {
          "base_uri": "https://localhost:8080/",
          "height": 34
        }
      },
      "source": [
        "#Since best model is poly we use this one to build model\n",
        "clf = svm.SVC(kernel='poly')\n",
        "clf.fit(X_train, y_train) \n",
        "#Predict\n",
        "yhatSVM = clf.predict(X_test)"
      ],
      "execution_count": null,
      "outputs": [
        {
          "output_type": "execute_result",
          "data": {
            "text/plain": [
              "array([0, 0, 0, 0, 0])"
            ]
          },
          "metadata": {
            "tags": []
          },
          "execution_count": 132
        }
      ]
    },
    {
      "cell_type": "code",
      "metadata": {
        "id": "acDUuxf1Vxc0",
        "outputId": "9d08e329-c212-434f-818c-d504d2fbbe52",
        "colab": {
          "base_uri": "https://localhost:8080/",
          "height": 34
        }
      },
      "source": [
        "from sklearn.linear_model import LogisticRegression\n",
        "\n",
        "CS = [0.001,0.01,0.1]\n",
        "mean_acc = np.zeros((3-1))\n",
        "std_acc = np.zeros((3-1))\n",
        "ConfustionMx = [];\n",
        "for n in range(1, 3):\n",
        "    \n",
        "    #Train Model and Predict  \n",
        "    LR = LogisticRegression(C=CS[n-1] , solver='liblinear').fit(X_train,y_train)\n",
        "    yhat = LR.predict(X_test)\n",
        "    mean_acc[n-1] = metrics.accuracy_score(y_test, yhat)\n",
        "\n",
        "\n",
        "mean_acc\n",
        "print( \"The best accuracy was with\", mean_acc.max(), \"with C =\", (CS[mean_acc.argmax()+1])) "
      ],
      "execution_count": null,
      "outputs": [
        {
          "output_type": "stream",
          "text": [
            "The best accuracy was with 0.9025270758122743 with C = 0.01\n"
          ],
          "name": "stdout"
        }
      ]
    },
    {
      "cell_type": "code",
      "metadata": {
        "id": "14N4IyRFV4Vm"
      },
      "source": [
        "CS=CS[mean_acc.argmax()]\n",
        "LR = LogisticRegression(C=CS, solver='liblinear').fit(X_train,y_train)\n",
        "yhatLR = LR.predict(X_test)\n",
        "yhat_prob = LR.predict_proba(X_test)"
      ],
      "execution_count": null,
      "outputs": []
    },
    {
      "cell_type": "markdown",
      "metadata": {
        "id": "KppXKwYRWPSb"
      },
      "source": [
        "Evaluate models with validation set"
      ]
    },
    {
      "cell_type": "code",
      "metadata": {
        "id": "qGMo1gu5WOMZ"
      },
      "source": [
        "from sklearn.metrics import jaccard_similarity_score\n",
        "from sklearn.metrics import f1_score"
      ],
      "execution_count": null,
      "outputs": []
    },
    {
      "cell_type": "code",
      "metadata": {
        "id": "bvOFR-xBWOcj"
      },
      "source": [
        "yhatLR = LR.predict(X_cv)\n",
        "yhat_prob = LR.predict_proba(X_cv)\n"
      ],
      "execution_count": null,
      "outputs": []
    },
    {
      "cell_type": "code",
      "metadata": {
        "id": "FU9qoiHZW8se",
        "outputId": "2843e07c-00f2-46a0-e3d4-4df0b06ee7d5",
        "colab": {
          "base_uri": "https://localhost:8080/",
          "height": 196
        }
      },
      "source": [
        "evaluations = [\"Algorithm\", \"Jaccard\", \"F1-score\"]\n",
        "report = pd.DataFrame(columns = evaluations)\n",
        "\n",
        "col1 = [\"SVM\",\"Logistic regression\"]\n",
        "\n",
        "col2 = [jaccard_similarity_score(y_cv, yhatSVM),jaccard_similarity_score(y_cv, yhatLR)]\n",
        "\n",
        "col3 = [f1_score(y_cv, yhatSVM, average='weighted'),f1_score(y_cv, yhatLR, average='weighted')]\n",
        "\n",
        "report[\"Algorithm\"] = col1\n",
        "report[\"Jaccard\"] = col2\n",
        "report[\"F1-score\"] = col3\n",
        "\n",
        "report.set_index('Algorithm', inplace=True)\n",
        "\n",
        "report"
      ],
      "execution_count": null,
      "outputs": [
        {
          "output_type": "stream",
          "text": [
            "/usr/local/lib/python3.6/dist-packages/sklearn/metrics/_classification.py:664: FutureWarning: jaccard_similarity_score has been deprecated and replaced with jaccard_score. It will be removed in version 0.23. This implementation has surprising behavior for binary and multiclass classification tasks.\n",
            "  FutureWarning)\n"
          ],
          "name": "stderr"
        },
        {
          "output_type": "execute_result",
          "data": {
            "text/html": [
              "<div>\n",
              "<style scoped>\n",
              "    .dataframe tbody tr th:only-of-type {\n",
              "        vertical-align: middle;\n",
              "    }\n",
              "\n",
              "    .dataframe tbody tr th {\n",
              "        vertical-align: top;\n",
              "    }\n",
              "\n",
              "    .dataframe thead th {\n",
              "        text-align: right;\n",
              "    }\n",
              "</style>\n",
              "<table border=\"1\" class=\"dataframe\">\n",
              "  <thead>\n",
              "    <tr style=\"text-align: right;\">\n",
              "      <th></th>\n",
              "      <th>Jaccard</th>\n",
              "      <th>F1-score</th>\n",
              "    </tr>\n",
              "    <tr>\n",
              "      <th>Algorithm</th>\n",
              "      <th></th>\n",
              "      <th></th>\n",
              "    </tr>\n",
              "  </thead>\n",
              "  <tbody>\n",
              "    <tr>\n",
              "      <th>SVM</th>\n",
              "      <td>0.837545</td>\n",
              "      <td>0.827067</td>\n",
              "    </tr>\n",
              "    <tr>\n",
              "      <th>Logistic regression</th>\n",
              "      <td>0.898917</td>\n",
              "      <td>0.851066</td>\n",
              "    </tr>\n",
              "  </tbody>\n",
              "</table>\n",
              "</div>"
            ],
            "text/plain": [
              "                      Jaccard  F1-score\n",
              "Algorithm                              \n",
              "SVM                  0.837545  0.827067\n",
              "Logistic regression  0.898917  0.851066"
            ]
          },
          "metadata": {
            "tags": []
          },
          "execution_count": 138
        }
      ]
    }
  ]
}
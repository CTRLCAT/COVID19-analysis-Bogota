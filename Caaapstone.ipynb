{
  "nbformat": 4,
  "nbformat_minor": 0,
  "metadata": {
    "colab": {
      "name": "Copy of Caaapstone.ipynb",
      "provenance": [],
      "collapsed_sections": []
    },
    "kernelspec": {
      "name": "python3",
      "display_name": "Python 3"
    }
  },
  "cells": [
    {
      "cell_type": "markdown",
      "metadata": {
        "id": "tOmp0s45ueSF",
        "colab_type": "text"
      },
      "source": [
        "https://bogota-laburbano.opendatasoft.com/explore/dataset/georeferencia-puntual-por-localidad/export/?flg=es&location=9,-74.17314,4.39997&basemap=jawg.streets&dataChart=eyJxdWVyaWVzIjpbeyJjb25maWciOnsiZGF0YXNldCI6Imdlb3JlZmVyZW5jaWEtcHVudHVhbC1wb3ItbG9jYWxpZGFkIiwib3B0aW9ucyI6eyJmbGciOiJlcyJ9fSwiY2hhcnRzIjpbeyJhbGlnbk1vbnRoIjp0cnVlLCJ0eXBlIjoiY29sdW1uIiwiZnVuYyI6IkFWRyIsInlBeGlzIjoibG9uZ2l0dWQiLCJzY2llbnRpZmljRGlzcGxheSI6dHJ1ZSwiY29sb3IiOiIjMjYzODkyIn1dLCJ4QXhpcyI6ImxvbmdpdHVkIiwibWF4cG9pbnRzIjo1MCwic29ydCI6IiJ9XSwidGltZXNjYWxlIjoiIiwiZGlzcGxheUxlZ2VuZCI6dHJ1ZSwiYWxpZ25Nb250aCI6dHJ1ZX0%3D\n",
        "\n"
      ]
    },
    {
      "cell_type": "markdown",
      "metadata": {
        "id": "sp0eq0RVCVoZ",
        "colab_type": "text"
      },
      "source": [
        "# **Capstone Project Code**\n",
        "\n",
        "Analysis of COVID-19 information in the city of Bogotá"
      ]
    },
    {
      "cell_type": "markdown",
      "metadata": {
        "id": "wDJHfYxlCdXl",
        "colab_type": "text"
      },
      "source": [
        "Import packages"
      ]
    },
    {
      "cell_type": "code",
      "metadata": {
        "id": "FB--NKHpk42m",
        "colab_type": "code",
        "colab": {
          "base_uri": "https://localhost:8080/",
          "height": 71
        },
        "outputId": "b2f405fa-13b7-4658-ec71-0a8fcbe725f9"
      },
      "source": [
        "import numpy as np\n",
        "import pandas as pd\n",
        "import folium\n",
        "import matplotlib.pyplot as plt\n",
        "import seaborn as sns\n",
        "import requests\n",
        "from sklearn import preprocessing\n"
      ],
      "execution_count": 1,
      "outputs": [
        {
          "output_type": "stream",
          "text": [
            "/usr/local/lib/python3.6/dist-packages/statsmodels/tools/_testing.py:19: FutureWarning: pandas.util.testing is deprecated. Use the functions in the public API at pandas.testing instead.\n",
            "  import pandas.util.testing as tm\n"
          ],
          "name": "stderr"
        }
      ]
    },
    {
      "cell_type": "markdown",
      "metadata": {
        "id": "8P5FRY6lCpu6",
        "colab_type": "text"
      },
      "source": [
        "Import database with coordinates from localidades"
      ]
    },
    {
      "cell_type": "code",
      "metadata": {
        "id": "zKOFSoOXtZtS",
        "colab_type": "code",
        "outputId": "818885e3-5665-47e1-dcc4-dcea620ba8b6",
        "colab": {
          "base_uri": "https://localhost:8080/",
          "height": 204
        }
      },
      "source": [
        "#Import latitudes and longitudes of localidades\n",
        "df1 = pd.read_csv('geodata.csv', sep=';')\n",
        "df1.head()"
      ],
      "execution_count": 2,
      "outputs": [
        {
          "output_type": "execute_result",
          "data": {
            "text/html": [
              "<div>\n",
              "<style scoped>\n",
              "    .dataframe tbody tr th:only-of-type {\n",
              "        vertical-align: middle;\n",
              "    }\n",
              "\n",
              "    .dataframe tbody tr th {\n",
              "        vertical-align: top;\n",
              "    }\n",
              "\n",
              "    .dataframe thead th {\n",
              "        text-align: right;\n",
              "    }\n",
              "</style>\n",
              "<table border=\"1\" class=\"dataframe\">\n",
              "  <thead>\n",
              "    <tr style=\"text-align: right;\">\n",
              "      <th></th>\n",
              "      <th>LOCALIDAD</th>\n",
              "      <th>LONGITUD</th>\n",
              "      <th>LATITUD</th>\n",
              "      <th>CODIGO</th>\n",
              "      <th>gp</th>\n",
              "    </tr>\n",
              "  </thead>\n",
              "  <tbody>\n",
              "    <tr>\n",
              "      <th>0</th>\n",
              "      <td>BARRIOS UNIDOS</td>\n",
              "      <td>-74.084000</td>\n",
              "      <td>4.666400</td>\n",
              "      <td>12</td>\n",
              "      <td>-74.084,4.6664</td>\n",
              "    </tr>\n",
              "    <tr>\n",
              "      <th>1</th>\n",
              "      <td>ENGATIVA</td>\n",
              "      <td>-74.107200</td>\n",
              "      <td>4.707100</td>\n",
              "      <td>10</td>\n",
              "      <td>-74.1072,4.7071</td>\n",
              "    </tr>\n",
              "    <tr>\n",
              "      <th>2</th>\n",
              "      <td>SUMAPAZ</td>\n",
              "      <td>-74.315224</td>\n",
              "      <td>4.034746</td>\n",
              "      <td>20</td>\n",
              "      <td>-74.315224,4.034746</td>\n",
              "    </tr>\n",
              "    <tr>\n",
              "      <th>3</th>\n",
              "      <td>TEUSAQUILLO</td>\n",
              "      <td>-74.093800</td>\n",
              "      <td>4.644800</td>\n",
              "      <td>13</td>\n",
              "      <td>-74.0938,4.6448</td>\n",
              "    </tr>\n",
              "    <tr>\n",
              "      <th>4</th>\n",
              "      <td>LA CANDELARIA</td>\n",
              "      <td>-74.073900</td>\n",
              "      <td>4.593900</td>\n",
              "      <td>17</td>\n",
              "      <td>-74.0739,4.5939</td>\n",
              "    </tr>\n",
              "  </tbody>\n",
              "</table>\n",
              "</div>"
            ],
            "text/plain": [
              "        LOCALIDAD   LONGITUD   LATITUD  CODIGO                   gp\n",
              "0  BARRIOS UNIDOS -74.084000  4.666400      12       -74.084,4.6664\n",
              "1        ENGATIVA -74.107200  4.707100      10      -74.1072,4.7071\n",
              "2         SUMAPAZ -74.315224  4.034746      20  -74.315224,4.034746\n",
              "3     TEUSAQUILLO -74.093800  4.644800      13      -74.0938,4.6448\n",
              "4   LA CANDELARIA -74.073900  4.593900      17      -74.0739,4.5939"
            ]
          },
          "metadata": {
            "tags": []
          },
          "execution_count": 2
        }
      ]
    },
    {
      "cell_type": "markdown",
      "metadata": {
        "id": "z3mtnCw0CvcA",
        "colab_type": "text"
      },
      "source": [
        "Drop information that is not necessary"
      ]
    },
    {
      "cell_type": "code",
      "metadata": {
        "id": "89XHPNatuNkT",
        "colab_type": "code",
        "outputId": "985147a1-8516-495a-cf7f-ad0e0b06cb00",
        "colab": {
          "base_uri": "https://localhost:8080/",
          "height": 204
        }
      },
      "source": [
        "df1.drop(['gp'], axis=1, inplace=True)\n",
        "df1 = df1[df1.LOCALIDAD != 'BOGOTA']\n",
        "df1.head()"
      ],
      "execution_count": 3,
      "outputs": [
        {
          "output_type": "execute_result",
          "data": {
            "text/html": [
              "<div>\n",
              "<style scoped>\n",
              "    .dataframe tbody tr th:only-of-type {\n",
              "        vertical-align: middle;\n",
              "    }\n",
              "\n",
              "    .dataframe tbody tr th {\n",
              "        vertical-align: top;\n",
              "    }\n",
              "\n",
              "    .dataframe thead th {\n",
              "        text-align: right;\n",
              "    }\n",
              "</style>\n",
              "<table border=\"1\" class=\"dataframe\">\n",
              "  <thead>\n",
              "    <tr style=\"text-align: right;\">\n",
              "      <th></th>\n",
              "      <th>LOCALIDAD</th>\n",
              "      <th>LONGITUD</th>\n",
              "      <th>LATITUD</th>\n",
              "      <th>CODIGO</th>\n",
              "    </tr>\n",
              "  </thead>\n",
              "  <tbody>\n",
              "    <tr>\n",
              "      <th>0</th>\n",
              "      <td>BARRIOS UNIDOS</td>\n",
              "      <td>-74.084000</td>\n",
              "      <td>4.666400</td>\n",
              "      <td>12</td>\n",
              "    </tr>\n",
              "    <tr>\n",
              "      <th>1</th>\n",
              "      <td>ENGATIVA</td>\n",
              "      <td>-74.107200</td>\n",
              "      <td>4.707100</td>\n",
              "      <td>10</td>\n",
              "    </tr>\n",
              "    <tr>\n",
              "      <th>2</th>\n",
              "      <td>SUMAPAZ</td>\n",
              "      <td>-74.315224</td>\n",
              "      <td>4.034746</td>\n",
              "      <td>20</td>\n",
              "    </tr>\n",
              "    <tr>\n",
              "      <th>3</th>\n",
              "      <td>TEUSAQUILLO</td>\n",
              "      <td>-74.093800</td>\n",
              "      <td>4.644800</td>\n",
              "      <td>13</td>\n",
              "    </tr>\n",
              "    <tr>\n",
              "      <th>4</th>\n",
              "      <td>LA CANDELARIA</td>\n",
              "      <td>-74.073900</td>\n",
              "      <td>4.593900</td>\n",
              "      <td>17</td>\n",
              "    </tr>\n",
              "  </tbody>\n",
              "</table>\n",
              "</div>"
            ],
            "text/plain": [
              "        LOCALIDAD   LONGITUD   LATITUD  CODIGO\n",
              "0  BARRIOS UNIDOS -74.084000  4.666400      12\n",
              "1        ENGATIVA -74.107200  4.707100      10\n",
              "2         SUMAPAZ -74.315224  4.034746      20\n",
              "3     TEUSAQUILLO -74.093800  4.644800      13\n",
              "4   LA CANDELARIA -74.073900  4.593900      17"
            ]
          },
          "metadata": {
            "tags": []
          },
          "execution_count": 3
        }
      ]
    },
    {
      "cell_type": "markdown",
      "metadata": {
        "id": "Lgg2YLHzC03O",
        "colab_type": "text"
      },
      "source": [
        "Create a map of the city with the location of every localidad"
      ]
    },
    {
      "cell_type": "code",
      "metadata": {
        "id": "vaoiktzOkp0z",
        "colab_type": "code",
        "colab": {}
      },
      "source": [
        "boglat = 4.624335\n",
        "boglong = -74.063644"
      ],
      "execution_count": 0,
      "outputs": []
    },
    {
      "cell_type": "code",
      "metadata": {
        "id": "WtiyQixDp8Uc",
        "colab_type": "code",
        "outputId": "22b5be15-42c7-48ac-f6c7-d51cc427c8df",
        "colab": {
          "base_uri": "https://localhost:8080/",
          "height": 808
        }
      },
      "source": [
        "map_bog = folium.Map(location=[boglat, boglong], zoom_start=11)\n",
        "\n",
        "# add markers to map\n",
        "for lat, lng, localidad in zip(df1['LATITUD'], df1['LONGITUD'], df1['LOCALIDAD']):\n",
        "    label = '{}'.format(localidad)\n",
        "    label = folium.Popup(label, parse_html=True)\n",
        "    folium.CircleMarker(\n",
        "        [lat, lng],\n",
        "        radius=5,\n",
        "        popup=label,\n",
        "        color='blue',\n",
        "        fill=True,\n",
        "        fill_color='#3186cc',\n",
        "        fill_opacity=0.7,\n",
        "        parse_html=False).add_to(map_bog)  \n",
        "    \n",
        "map_bog"
      ],
      "execution_count": 5,
      "outputs": [
        {
          "output_type": "execute_result",
          "data": {
            "text/html": [
              "<div style=\"width:100%;\"><div style=\"position:relative;width:100%;height:0;padding-bottom:60%;\"><iframe src=\"about:blank\" style=\"position:absolute;width:100%;height:100%;left:0;top:0;border:none !important;\" data-html=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 onload=\"this.contentDocument.open();this.contentDocument.write(atob(this.getAttribute('data-html')));this.contentDocument.close();\" allowfullscreen webkitallowfullscreen mozallowfullscreen></iframe></div></div>"
            ],
            "text/plain": [
              "<folium.folium.Map at 0x7f73795edb38>"
            ]
          },
          "metadata": {
            "tags": []
          },
          "execution_count": 5
        }
      ]
    },
    {
      "cell_type": "markdown",
      "metadata": {
        "id": "iqTBjpu4DBq7",
        "colab_type": "text"
      },
      "source": [
        "Get information about nearby venues for every localidad"
      ]
    },
    {
      "cell_type": "code",
      "metadata": {
        "id": "J8fvfJrtlxns",
        "colab_type": "code",
        "colab": {}
      },
      "source": [
        "CLIENT_ID = 'UVZNYZBIT0HNXRJSUZMEL33FVBNEOA1GWC5YAU2RX4GLMRBZ' # your Foursquare ID\n",
        "CLIENT_SECRET = 'PN5B45LEKYVV0F00S2PCWVWL5HPLNJDADTYQGMWX301M20VS' # your Foursquare Secret\n",
        "VERSION = '20180605' # Foursquare API version"
      ],
      "execution_count": 0,
      "outputs": []
    },
    {
      "cell_type": "code",
      "metadata": {
        "id": "wVYGGDUCl1VM",
        "colab_type": "code",
        "colab": {}
      },
      "source": [
        "def getNearbyVenues(names, latitudes, longitudes, radius=1000):\n",
        "    \n",
        "    venues_list=[]\n",
        "    for name, lat, lng in zip(names, latitudes, longitudes):\n",
        "        print(name)\n",
        "            \n",
        "        # create the API request URL\n",
        "        url = 'https://api.foursquare.com/v2/venues/explore?&client_id={}&client_secret={}&v={}&ll={},{}&radius={}&limit={}'.format(\n",
        "            CLIENT_ID, \n",
        "            CLIENT_SECRET, \n",
        "            VERSION, \n",
        "            lat, \n",
        "            lng, \n",
        "            radius, \n",
        "            LIMIT)\n",
        "            \n",
        "        # make the GET request\n",
        "        results = requests.get(url).json()[\"response\"]['groups'][0]['items']\n",
        "        \n",
        "        # return only relevant information for each nearby venue\n",
        "        venues_list.append([(\n",
        "            name, \n",
        "            lat, \n",
        "            lng, \n",
        "            v['venue']['name'], \n",
        "            v['venue']['location']['lat'], \n",
        "            v['venue']['location']['lng'],  \n",
        "            v['venue']['categories'][0]['name']) for v in results])\n",
        "\n",
        "    nearby_venues = pd.DataFrame([item for venue_list in venues_list for item in venue_list])\n",
        "    nearby_venues.columns = ['Localidad', \n",
        "                  'Localidad Latitude', \n",
        "                  'Localidad Longitude', \n",
        "                  'Venue', \n",
        "                  'Venue Latitude', \n",
        "                  'Venue Longitude', \n",
        "                  'Venue Category']\n",
        "    \n",
        "    return(nearby_venues)"
      ],
      "execution_count": 0,
      "outputs": []
    },
    {
      "cell_type": "code",
      "metadata": {
        "id": "DVRYhZOImAbK",
        "colab_type": "code",
        "outputId": "ad90b9b7-d78d-4713-82de-d6f64907bbba",
        "colab": {
          "base_uri": "https://localhost:8080/",
          "height": 357
        }
      },
      "source": [
        "LIMIT = 100\n",
        "\n",
        "venues = getNearbyVenues(names=df1['LOCALIDAD'],\n",
        "                          latitudes=df1['LATITUD'],\n",
        "                          longitudes=df1['LONGITUD']\n",
        "                        )"
      ],
      "execution_count": 8,
      "outputs": [
        {
          "output_type": "stream",
          "text": [
            "BARRIOS UNIDOS\n",
            "ENGATIVA\n",
            "SUMAPAZ\n",
            "TEUSAQUILLO\n",
            "LA CANDELARIA\n",
            "SANTA FE\n",
            "SUBA\n",
            "FONTIBON\n",
            "LOS MARTIRES\n",
            "SAN CRISTOBAL\n",
            "USME\n",
            "PUENTE ARANDA\n",
            "USAQUEN\n",
            "BOSA\n",
            "CIUDAD BOLIVAR\n",
            "RAFAEL URIBE URIBE\n",
            "KENNEDY\n",
            "CHAPINERO\n",
            "TUNJUELITO\n",
            "ANTONIO NARIÑO\n"
          ],
          "name": "stdout"
        }
      ]
    },
    {
      "cell_type": "code",
      "metadata": {
        "id": "457luMVRwFo-",
        "colab_type": "code",
        "outputId": "a9a81cd0-882b-4e05-ea1b-014eb5073e7d",
        "colab": {
          "base_uri": "https://localhost:8080/",
          "height": 221
        }
      },
      "source": [
        "print(venues.shape)\n",
        "venues.head()"
      ],
      "execution_count": 9,
      "outputs": [
        {
          "output_type": "stream",
          "text": [
            "(468, 7)\n"
          ],
          "name": "stdout"
        },
        {
          "output_type": "execute_result",
          "data": {
            "text/html": [
              "<div>\n",
              "<style scoped>\n",
              "    .dataframe tbody tr th:only-of-type {\n",
              "        vertical-align: middle;\n",
              "    }\n",
              "\n",
              "    .dataframe tbody tr th {\n",
              "        vertical-align: top;\n",
              "    }\n",
              "\n",
              "    .dataframe thead th {\n",
              "        text-align: right;\n",
              "    }\n",
              "</style>\n",
              "<table border=\"1\" class=\"dataframe\">\n",
              "  <thead>\n",
              "    <tr style=\"text-align: right;\">\n",
              "      <th></th>\n",
              "      <th>Localidad</th>\n",
              "      <th>Localidad Latitude</th>\n",
              "      <th>Localidad Longitude</th>\n",
              "      <th>Venue</th>\n",
              "      <th>Venue Latitude</th>\n",
              "      <th>Venue Longitude</th>\n",
              "      <th>Venue Category</th>\n",
              "    </tr>\n",
              "  </thead>\n",
              "  <tbody>\n",
              "    <tr>\n",
              "      <th>0</th>\n",
              "      <td>BARRIOS UNIDOS</td>\n",
              "      <td>4.6664</td>\n",
              "      <td>-74.084</td>\n",
              "      <td>Centro Canino Cruz Roja</td>\n",
              "      <td>4.665530</td>\n",
              "      <td>-74.086151</td>\n",
              "      <td>Dog Run</td>\n",
              "    </tr>\n",
              "    <tr>\n",
              "      <th>1</th>\n",
              "      <td>BARRIOS UNIDOS</td>\n",
              "      <td>4.6664</td>\n",
              "      <td>-74.084</td>\n",
              "      <td>Riquisimo - Postres y Helados Principal</td>\n",
              "      <td>4.668366</td>\n",
              "      <td>-74.083662</td>\n",
              "      <td>Dessert Shop</td>\n",
              "    </tr>\n",
              "    <tr>\n",
              "      <th>2</th>\n",
              "      <td>BARRIOS UNIDOS</td>\n",
              "      <td>4.6664</td>\n",
              "      <td>-74.084</td>\n",
              "      <td>Solo Postres</td>\n",
              "      <td>4.667903</td>\n",
              "      <td>-74.083965</td>\n",
              "      <td>Dessert Shop</td>\n",
              "    </tr>\n",
              "    <tr>\n",
              "      <th>3</th>\n",
              "      <td>BARRIOS UNIDOS</td>\n",
              "      <td>4.6664</td>\n",
              "      <td>-74.084</td>\n",
              "      <td>Campo de Practica Fedegolf</td>\n",
              "      <td>4.663400</td>\n",
              "      <td>-74.084510</td>\n",
              "      <td>Golf Course</td>\n",
              "    </tr>\n",
              "    <tr>\n",
              "      <th>4</th>\n",
              "      <td>BARRIOS UNIDOS</td>\n",
              "      <td>4.6664</td>\n",
              "      <td>-74.084</td>\n",
              "      <td>Postres La Enramada</td>\n",
              "      <td>4.667113</td>\n",
              "      <td>-74.084464</td>\n",
              "      <td>Dessert Shop</td>\n",
              "    </tr>\n",
              "  </tbody>\n",
              "</table>\n",
              "</div>"
            ],
            "text/plain": [
              "        Localidad  Localidad Latitude  ...  Venue Longitude Venue Category\n",
              "0  BARRIOS UNIDOS              4.6664  ...       -74.086151        Dog Run\n",
              "1  BARRIOS UNIDOS              4.6664  ...       -74.083662   Dessert Shop\n",
              "2  BARRIOS UNIDOS              4.6664  ...       -74.083965   Dessert Shop\n",
              "3  BARRIOS UNIDOS              4.6664  ...       -74.084510    Golf Course\n",
              "4  BARRIOS UNIDOS              4.6664  ...       -74.084464   Dessert Shop\n",
              "\n",
              "[5 rows x 7 columns]"
            ]
          },
          "metadata": {
            "tags": []
          },
          "execution_count": 9
        }
      ]
    },
    {
      "cell_type": "code",
      "metadata": {
        "id": "yVRuQFj5xBnp",
        "colab_type": "code",
        "outputId": "fdf14fdd-bd01-43a9-ddc2-52133652d279",
        "colab": {
          "base_uri": "https://localhost:8080/",
          "height": 607
        }
      },
      "source": [
        "venues.groupby('Localidad').count()\n"
      ],
      "execution_count": 10,
      "outputs": [
        {
          "output_type": "execute_result",
          "data": {
            "text/html": [
              "<div>\n",
              "<style scoped>\n",
              "    .dataframe tbody tr th:only-of-type {\n",
              "        vertical-align: middle;\n",
              "    }\n",
              "\n",
              "    .dataframe tbody tr th {\n",
              "        vertical-align: top;\n",
              "    }\n",
              "\n",
              "    .dataframe thead th {\n",
              "        text-align: right;\n",
              "    }\n",
              "</style>\n",
              "<table border=\"1\" class=\"dataframe\">\n",
              "  <thead>\n",
              "    <tr style=\"text-align: right;\">\n",
              "      <th></th>\n",
              "      <th>Localidad Latitude</th>\n",
              "      <th>Localidad Longitude</th>\n",
              "      <th>Venue</th>\n",
              "      <th>Venue Latitude</th>\n",
              "      <th>Venue Longitude</th>\n",
              "      <th>Venue Category</th>\n",
              "    </tr>\n",
              "    <tr>\n",
              "      <th>Localidad</th>\n",
              "      <th></th>\n",
              "      <th></th>\n",
              "      <th></th>\n",
              "      <th></th>\n",
              "      <th></th>\n",
              "      <th></th>\n",
              "    </tr>\n",
              "  </thead>\n",
              "  <tbody>\n",
              "    <tr>\n",
              "      <th>ANTONIO NARIÑO</th>\n",
              "      <td>4</td>\n",
              "      <td>4</td>\n",
              "      <td>4</td>\n",
              "      <td>4</td>\n",
              "      <td>4</td>\n",
              "      <td>4</td>\n",
              "    </tr>\n",
              "    <tr>\n",
              "      <th>BARRIOS UNIDOS</th>\n",
              "      <td>48</td>\n",
              "      <td>48</td>\n",
              "      <td>48</td>\n",
              "      <td>48</td>\n",
              "      <td>48</td>\n",
              "      <td>48</td>\n",
              "    </tr>\n",
              "    <tr>\n",
              "      <th>BOSA</th>\n",
              "      <td>6</td>\n",
              "      <td>6</td>\n",
              "      <td>6</td>\n",
              "      <td>6</td>\n",
              "      <td>6</td>\n",
              "      <td>6</td>\n",
              "    </tr>\n",
              "    <tr>\n",
              "      <th>CHAPINERO</th>\n",
              "      <td>71</td>\n",
              "      <td>71</td>\n",
              "      <td>71</td>\n",
              "      <td>71</td>\n",
              "      <td>71</td>\n",
              "      <td>71</td>\n",
              "    </tr>\n",
              "    <tr>\n",
              "      <th>ENGATIVA</th>\n",
              "      <td>31</td>\n",
              "      <td>31</td>\n",
              "      <td>31</td>\n",
              "      <td>31</td>\n",
              "      <td>31</td>\n",
              "      <td>31</td>\n",
              "    </tr>\n",
              "    <tr>\n",
              "      <th>FONTIBON</th>\n",
              "      <td>7</td>\n",
              "      <td>7</td>\n",
              "      <td>7</td>\n",
              "      <td>7</td>\n",
              "      <td>7</td>\n",
              "      <td>7</td>\n",
              "    </tr>\n",
              "    <tr>\n",
              "      <th>KENNEDY</th>\n",
              "      <td>17</td>\n",
              "      <td>17</td>\n",
              "      <td>17</td>\n",
              "      <td>17</td>\n",
              "      <td>17</td>\n",
              "      <td>17</td>\n",
              "    </tr>\n",
              "    <tr>\n",
              "      <th>LA CANDELARIA</th>\n",
              "      <td>98</td>\n",
              "      <td>98</td>\n",
              "      <td>98</td>\n",
              "      <td>98</td>\n",
              "      <td>98</td>\n",
              "      <td>98</td>\n",
              "    </tr>\n",
              "    <tr>\n",
              "      <th>LOS MARTIRES</th>\n",
              "      <td>20</td>\n",
              "      <td>20</td>\n",
              "      <td>20</td>\n",
              "      <td>20</td>\n",
              "      <td>20</td>\n",
              "      <td>20</td>\n",
              "    </tr>\n",
              "    <tr>\n",
              "      <th>PUENTE ARANDA</th>\n",
              "      <td>14</td>\n",
              "      <td>14</td>\n",
              "      <td>14</td>\n",
              "      <td>14</td>\n",
              "      <td>14</td>\n",
              "      <td>14</td>\n",
              "    </tr>\n",
              "    <tr>\n",
              "      <th>RAFAEL URIBE URIBE</th>\n",
              "      <td>2</td>\n",
              "      <td>2</td>\n",
              "      <td>2</td>\n",
              "      <td>2</td>\n",
              "      <td>2</td>\n",
              "      <td>2</td>\n",
              "    </tr>\n",
              "    <tr>\n",
              "      <th>SAN CRISTOBAL</th>\n",
              "      <td>6</td>\n",
              "      <td>6</td>\n",
              "      <td>6</td>\n",
              "      <td>6</td>\n",
              "      <td>6</td>\n",
              "      <td>6</td>\n",
              "    </tr>\n",
              "    <tr>\n",
              "      <th>SUBA</th>\n",
              "      <td>12</td>\n",
              "      <td>12</td>\n",
              "      <td>12</td>\n",
              "      <td>12</td>\n",
              "      <td>12</td>\n",
              "      <td>12</td>\n",
              "    </tr>\n",
              "    <tr>\n",
              "      <th>SUMAPAZ</th>\n",
              "      <td>1</td>\n",
              "      <td>1</td>\n",
              "      <td>1</td>\n",
              "      <td>1</td>\n",
              "      <td>1</td>\n",
              "      <td>1</td>\n",
              "    </tr>\n",
              "    <tr>\n",
              "      <th>TEUSAQUILLO</th>\n",
              "      <td>100</td>\n",
              "      <td>100</td>\n",
              "      <td>100</td>\n",
              "      <td>100</td>\n",
              "      <td>100</td>\n",
              "      <td>100</td>\n",
              "    </tr>\n",
              "    <tr>\n",
              "      <th>TUNJUELITO</th>\n",
              "      <td>8</td>\n",
              "      <td>8</td>\n",
              "      <td>8</td>\n",
              "      <td>8</td>\n",
              "      <td>8</td>\n",
              "      <td>8</td>\n",
              "    </tr>\n",
              "    <tr>\n",
              "      <th>USAQUEN</th>\n",
              "      <td>23</td>\n",
              "      <td>23</td>\n",
              "      <td>23</td>\n",
              "      <td>23</td>\n",
              "      <td>23</td>\n",
              "      <td>23</td>\n",
              "    </tr>\n",
              "  </tbody>\n",
              "</table>\n",
              "</div>"
            ],
            "text/plain": [
              "                    Localidad Latitude  ...  Venue Category\n",
              "Localidad                               ...                \n",
              "ANTONIO NARIÑO                       4  ...               4\n",
              "BARRIOS UNIDOS                      48  ...              48\n",
              "BOSA                                 6  ...               6\n",
              "CHAPINERO                           71  ...              71\n",
              "ENGATIVA                            31  ...              31\n",
              "FONTIBON                             7  ...               7\n",
              "KENNEDY                             17  ...              17\n",
              "LA CANDELARIA                       98  ...              98\n",
              "LOS MARTIRES                        20  ...              20\n",
              "PUENTE ARANDA                       14  ...              14\n",
              "RAFAEL URIBE URIBE                   2  ...               2\n",
              "SAN CRISTOBAL                        6  ...               6\n",
              "SUBA                                12  ...              12\n",
              "SUMAPAZ                              1  ...               1\n",
              "TEUSAQUILLO                        100  ...             100\n",
              "TUNJUELITO                           8  ...               8\n",
              "USAQUEN                             23  ...              23\n",
              "\n",
              "[17 rows x 6 columns]"
            ]
          },
          "metadata": {
            "tags": []
          },
          "execution_count": 10
        }
      ]
    },
    {
      "cell_type": "markdown",
      "metadata": {
        "id": "NuWIlcUFD53V",
        "colab_type": "text"
      },
      "source": [
        "Classify the venues as opened or closed during the quarantine"
      ]
    },
    {
      "cell_type": "code",
      "metadata": {
        "id": "oipGgjVEt1m8",
        "colab_type": "code",
        "colab": {}
      },
      "source": [
        "#iF IT CONTAINS JOINT, RESTAURANT, PLACE, FOOD, BAKERY, BREAKFAST, CAFÉ, COFFEE, CONVENIENCE STORE, DELI, DINNER, GROCERY, SUPERMARKET IS OPEN\n",
        "openv = venues['Venue Category'].str.contains(pat = 'Joint|Restaurant|Place|Food|Bakery|Breakfast|Café|Coffee|Convenience|Deli|Dinner|Grocery|Supermarket')\n",
        "venues['Open'] = openv"
      ],
      "execution_count": 0,
      "outputs": []
    },
    {
      "cell_type": "code",
      "metadata": {
        "id": "FxnVzAv4zTnj",
        "colab_type": "code",
        "colab": {}
      },
      "source": [
        "openclose = venues.groupby([\"Localidad\", \"Open\"])[\"Venue\"].count().reset_index(name=\"count\")"
      ],
      "execution_count": 0,
      "outputs": []
    },
    {
      "cell_type": "code",
      "metadata": {
        "id": "IYVWmzVL60F6",
        "colab_type": "code",
        "colab": {}
      },
      "source": [
        "df1 = df1.sort_values(by=['LOCALIDAD']).reset_index(drop=True)\n",
        "df1 = df1[df1['LOCALIDAD'].isin(venues['Localidad'])].reset_index(drop=True)"
      ],
      "execution_count": 0,
      "outputs": []
    },
    {
      "cell_type": "code",
      "metadata": {
        "id": "HlTD4Z7iGHJt",
        "colab_type": "code",
        "colab": {}
      },
      "source": [
        "numopen = openclose[openclose['Open']==True]\n",
        "numopen = numopen.reset_index(drop = True)\n",
        "numopen.drop(['Open'], axis=1, inplace=True)\n",
        "numopen.rename(columns={'Localidad':'LOCALIDAD',\n",
        "                          'count':'NUMOPEN'}, \n",
        "                 inplace=True)\n",
        "\n",
        "numclose = openclose[openclose['Open']==False]\n",
        "numclose = numclose.reset_index(drop = True)\n",
        "numclose.drop(['Open'], axis=1, inplace=True)\n",
        "numclose.rename(columns={'Localidad':'LOCALIDAD',\n",
        "                          'count':'NUMCLOSE'}, \n",
        "                 inplace=True)"
      ],
      "execution_count": 0,
      "outputs": []
    },
    {
      "cell_type": "code",
      "metadata": {
        "id": "-WXu36k435rY",
        "colab_type": "code",
        "colab": {
          "base_uri": "https://localhost:8080/",
          "height": 204
        },
        "outputId": "57a8f27a-1f12-4e44-f91e-91e141f3ae12"
      },
      "source": [
        "df1=df1.merge(numopen, on='LOCALIDAD')\n",
        "df1=df1.merge(numclose, on='LOCALIDAD')\n",
        "df1.head()"
      ],
      "execution_count": 15,
      "outputs": [
        {
          "output_type": "execute_result",
          "data": {
            "text/html": [
              "<div>\n",
              "<style scoped>\n",
              "    .dataframe tbody tr th:only-of-type {\n",
              "        vertical-align: middle;\n",
              "    }\n",
              "\n",
              "    .dataframe tbody tr th {\n",
              "        vertical-align: top;\n",
              "    }\n",
              "\n",
              "    .dataframe thead th {\n",
              "        text-align: right;\n",
              "    }\n",
              "</style>\n",
              "<table border=\"1\" class=\"dataframe\">\n",
              "  <thead>\n",
              "    <tr style=\"text-align: right;\">\n",
              "      <th></th>\n",
              "      <th>LOCALIDAD</th>\n",
              "      <th>LONGITUD</th>\n",
              "      <th>LATITUD</th>\n",
              "      <th>CODIGO</th>\n",
              "      <th>NUMOPEN</th>\n",
              "      <th>NUMCLOSE</th>\n",
              "    </tr>\n",
              "  </thead>\n",
              "  <tbody>\n",
              "    <tr>\n",
              "      <th>0</th>\n",
              "      <td>ANTONIO NARIÑO</td>\n",
              "      <td>-74.1009</td>\n",
              "      <td>4.5486</td>\n",
              "      <td>15</td>\n",
              "      <td>2</td>\n",
              "      <td>2</td>\n",
              "    </tr>\n",
              "    <tr>\n",
              "      <th>1</th>\n",
              "      <td>BARRIOS UNIDOS</td>\n",
              "      <td>-74.0840</td>\n",
              "      <td>4.6664</td>\n",
              "      <td>12</td>\n",
              "      <td>16</td>\n",
              "      <td>32</td>\n",
              "    </tr>\n",
              "    <tr>\n",
              "      <th>2</th>\n",
              "      <td>BOSA</td>\n",
              "      <td>-74.1945</td>\n",
              "      <td>4.6305</td>\n",
              "      <td>7</td>\n",
              "      <td>2</td>\n",
              "      <td>4</td>\n",
              "    </tr>\n",
              "    <tr>\n",
              "      <th>3</th>\n",
              "      <td>CHAPINERO</td>\n",
              "      <td>-74.0467</td>\n",
              "      <td>4.6569</td>\n",
              "      <td>2</td>\n",
              "      <td>42</td>\n",
              "      <td>29</td>\n",
              "    </tr>\n",
              "    <tr>\n",
              "      <th>4</th>\n",
              "      <td>ENGATIVA</td>\n",
              "      <td>-74.1072</td>\n",
              "      <td>4.7071</td>\n",
              "      <td>10</td>\n",
              "      <td>20</td>\n",
              "      <td>11</td>\n",
              "    </tr>\n",
              "  </tbody>\n",
              "</table>\n",
              "</div>"
            ],
            "text/plain": [
              "        LOCALIDAD  LONGITUD  LATITUD  CODIGO  NUMOPEN  NUMCLOSE\n",
              "0  ANTONIO NARIÑO  -74.1009   4.5486      15        2         2\n",
              "1  BARRIOS UNIDOS  -74.0840   4.6664      12       16        32\n",
              "2            BOSA  -74.1945   4.6305       7        2         4\n",
              "3       CHAPINERO  -74.0467   4.6569       2       42        29\n",
              "4        ENGATIVA  -74.1072   4.7071      10       20        11"
            ]
          },
          "metadata": {
            "tags": []
          },
          "execution_count": 15
        }
      ]
    },
    {
      "cell_type": "markdown",
      "metadata": {
        "id": "7B1EsUvFFkgo",
        "colab_type": "text"
      },
      "source": [
        "Import data from COVID.19 confirmed cases"
      ]
    },
    {
      "cell_type": "code",
      "metadata": {
        "id": "mdaAyIF43R53",
        "colab_type": "code",
        "outputId": "9d6334b8-9228-4b4d-a88e-6c7e127e94c7",
        "colab": {
          "base_uri": "https://localhost:8080/",
          "height": 204
        }
      },
      "source": [
        "df2 = pd.read_excel('covid.xlsm')\n",
        "df2.dropna(inplace=True)\n",
        "df2.reset_index(drop=True)\n",
        "df2.head()"
      ],
      "execution_count": 16,
      "outputs": [
        {
          "output_type": "execute_result",
          "data": {
            "text/html": [
              "<div>\n",
              "<style scoped>\n",
              "    .dataframe tbody tr th:only-of-type {\n",
              "        vertical-align: middle;\n",
              "    }\n",
              "\n",
              "    .dataframe tbody tr th {\n",
              "        vertical-align: top;\n",
              "    }\n",
              "\n",
              "    .dataframe thead th {\n",
              "        text-align: right;\n",
              "    }\n",
              "</style>\n",
              "<table border=\"1\" class=\"dataframe\">\n",
              "  <thead>\n",
              "    <tr style=\"text-align: right;\">\n",
              "      <th></th>\n",
              "      <th>ID</th>\n",
              "      <th>DATE</th>\n",
              "      <th>CITY</th>\n",
              "      <th>CODE</th>\n",
              "      <th>LOCALIDAD</th>\n",
              "      <th>AGE</th>\n",
              "      <th>SEX</th>\n",
              "      <th>KIND</th>\n",
              "      <th>LOCATION</th>\n",
              "      <th>STATE</th>\n",
              "    </tr>\n",
              "  </thead>\n",
              "  <tbody>\n",
              "    <tr>\n",
              "      <th>0</th>\n",
              "      <td>1</td>\n",
              "      <td>2020-03-06</td>\n",
              "      <td>Bogota</td>\n",
              "      <td>1.0</td>\n",
              "      <td>Usaquen</td>\n",
              "      <td>19.0</td>\n",
              "      <td>F</td>\n",
              "      <td>Importado</td>\n",
              "      <td>Casa</td>\n",
              "      <td>Moderado</td>\n",
              "    </tr>\n",
              "    <tr>\n",
              "      <th>1</th>\n",
              "      <td>2</td>\n",
              "      <td>2020-03-10</td>\n",
              "      <td>Bogota</td>\n",
              "      <td>10.0</td>\n",
              "      <td>Engativa</td>\n",
              "      <td>22.0</td>\n",
              "      <td>F</td>\n",
              "      <td>Importado</td>\n",
              "      <td>Casa</td>\n",
              "      <td>Moderado</td>\n",
              "    </tr>\n",
              "    <tr>\n",
              "      <th>2</th>\n",
              "      <td>3</td>\n",
              "      <td>2020-03-10</td>\n",
              "      <td>Bogota</td>\n",
              "      <td>10.0</td>\n",
              "      <td>Engativa</td>\n",
              "      <td>28.0</td>\n",
              "      <td>F</td>\n",
              "      <td>Importado</td>\n",
              "      <td>Casa</td>\n",
              "      <td>Moderado</td>\n",
              "    </tr>\n",
              "    <tr>\n",
              "      <th>3</th>\n",
              "      <td>4</td>\n",
              "      <td>2020-03-12</td>\n",
              "      <td>Bogota</td>\n",
              "      <td>9.0</td>\n",
              "      <td>Fontibon</td>\n",
              "      <td>36.0</td>\n",
              "      <td>F</td>\n",
              "      <td>Importado</td>\n",
              "      <td>Casa</td>\n",
              "      <td>Moderado</td>\n",
              "    </tr>\n",
              "    <tr>\n",
              "      <th>4</th>\n",
              "      <td>5</td>\n",
              "      <td>2020-03-12</td>\n",
              "      <td>Bogota</td>\n",
              "      <td>8.0</td>\n",
              "      <td>Kennedy</td>\n",
              "      <td>42.0</td>\n",
              "      <td>F</td>\n",
              "      <td>Importado</td>\n",
              "      <td>Casa</td>\n",
              "      <td>Moderado</td>\n",
              "    </tr>\n",
              "  </tbody>\n",
              "</table>\n",
              "</div>"
            ],
            "text/plain": [
              "  ID       DATE    CITY  CODE LOCALIDAD   AGE SEX       KIND LOCATION     STATE\n",
              "0  1 2020-03-06  Bogota   1.0   Usaquen  19.0   F  Importado     Casa  Moderado\n",
              "1  2 2020-03-10  Bogota  10.0  Engativa  22.0   F  Importado     Casa  Moderado\n",
              "2  3 2020-03-10  Bogota  10.0  Engativa  28.0   F  Importado     Casa  Moderado\n",
              "3  4 2020-03-12  Bogota   9.0  Fontibon  36.0   F  Importado     Casa  Moderado\n",
              "4  5 2020-03-12  Bogota   8.0   Kennedy  42.0   F  Importado     Casa  Moderado"
            ]
          },
          "metadata": {
            "tags": []
          },
          "execution_count": 16
        }
      ]
    },
    {
      "cell_type": "markdown",
      "metadata": {
        "id": "1yEtu6uEF55a",
        "colab_type": "text"
      },
      "source": [
        "Erase data outside Bogotá"
      ]
    },
    {
      "cell_type": "code",
      "metadata": {
        "id": "WyodZcgYDB8A",
        "colab_type": "code",
        "colab": {}
      },
      "source": [
        "df2 = df2[df2['CITY']=='Bogota']\n",
        "df2.drop(['CITY'], axis=1, inplace=True)"
      ],
      "execution_count": 0,
      "outputs": []
    },
    {
      "cell_type": "markdown",
      "metadata": {
        "id": "Yoy8ES6iGDaB",
        "colab_type": "text"
      },
      "source": [
        "Create a summary dataframe of the variables accumulated by localidad"
      ]
    },
    {
      "cell_type": "code",
      "metadata": {
        "id": "NmyH0jqpDWsC",
        "colab_type": "code",
        "colab": {}
      },
      "source": [
        "temp = df2['LOCALIDAD'].value_counts().to_frame()\n",
        "temp = temp.reset_index()\n",
        "temp.rename(columns={'LOCALIDAD':'CASES','index':'LOCALIDAD'}, inplace=True)\n",
        "temp['LOCALIDAD'] = temp['LOCALIDAD'].str.upper() \n",
        "temp = temp[temp['LOCALIDAD']!= 'SIN DATO']"
      ],
      "execution_count": 0,
      "outputs": []
    },
    {
      "cell_type": "code",
      "metadata": {
        "id": "xq46wsCsFil1",
        "colab_type": "code",
        "colab": {}
      },
      "source": [
        "# one hot encoding\n",
        "Dumms = pd.get_dummies(df2[['KIND','LOCATION','SEX']], prefix=\"\", prefix_sep=\"\")\n",
        "Dumms['Relacionado'] = Dumms['Relacionado']+Dumms['relacionado']\n",
        "Dumms.drop(['relacionado'],axis=1,inplace=True)\n",
        "Dumms['LOCALIDAD']=df2['LOCALIDAD']\n",
        "\n",
        "Dumms2 = pd.get_dummies(df2[['STATE']], prefix=\"\", prefix_sep=\"\")\n",
        "Dumms2.drop(['Fallecido'],axis=1,inplace=True)\n",
        "Dumms2['LOCALIDAD']=df2['LOCALIDAD']\n",
        "Dumms = Dumms.merge(Dumms2)\n",
        "\n",
        "Dumms = Dumms.groupby(['LOCALIDAD'],as_index=False).sum()\n",
        "Dumms['LOCALIDAD'] = Dumms['LOCALIDAD'].str.upper() \n",
        "Dumms = Dumms[Dumms['LOCALIDAD']!= 'SIN DATO']\n",
        "\n",
        "df2.groupby(['LOCALIDAD'],as_index=False).sum()\n",
        "Dumms = Dumms.merge(temp[['LOCALIDAD','CASES']], on='LOCALIDAD')"
      ],
      "execution_count": 0,
      "outputs": []
    },
    {
      "cell_type": "code",
      "metadata": {
        "id": "BGStNcLQRQYS",
        "colab_type": "code",
        "outputId": "8cc970ee-c7a4-4d7e-f761-1b3efb3279f3",
        "colab": {
          "base_uri": "https://localhost:8080/",
          "height": 34
        }
      },
      "source": [
        "Dumms = Dumms[Dumms['LOCALIDAD'].isin(df1['LOCALIDAD'])].reset_index(drop=True)\n",
        "Dumms.shape"
      ],
      "execution_count": 20,
      "outputs": [
        {
          "output_type": "execute_result",
          "data": {
            "text/plain": [
              "(14, 15)"
            ]
          },
          "metadata": {
            "tags": []
          },
          "execution_count": 20
        }
      ]
    },
    {
      "cell_type": "markdown",
      "metadata": {
        "id": "ykshx5A6G3a8",
        "colab_type": "text"
      },
      "source": [
        "Get descriptive statistics"
      ]
    },
    {
      "cell_type": "code",
      "metadata": {
        "id": "BWpDy_lookV8",
        "colab_type": "code",
        "outputId": "326c954b-f669-42a1-abc5-b2afdaa6ada9",
        "colab": {
          "base_uri": "https://localhost:8080/",
          "height": 334
        }
      },
      "source": [
        "dfsummary = Dumms.merge(df1, on='LOCALIDAD')\n",
        "\n",
        "dfsummary.describe()"
      ],
      "execution_count": 21,
      "outputs": [
        {
          "output_type": "execute_result",
          "data": {
            "text/html": [
              "<div>\n",
              "<style scoped>\n",
              "    .dataframe tbody tr th:only-of-type {\n",
              "        vertical-align: middle;\n",
              "    }\n",
              "\n",
              "    .dataframe tbody tr th {\n",
              "        vertical-align: top;\n",
              "    }\n",
              "\n",
              "    .dataframe thead th {\n",
              "        text-align: right;\n",
              "    }\n",
              "</style>\n",
              "<table border=\"1\" class=\"dataframe\">\n",
              "  <thead>\n",
              "    <tr style=\"text-align: right;\">\n",
              "      <th></th>\n",
              "      <th>Desconocido</th>\n",
              "      <th>En estudio</th>\n",
              "      <th>Importado</th>\n",
              "      <th>Relacionado</th>\n",
              "      <th>Casa</th>\n",
              "      <th>Fallecido</th>\n",
              "      <th>Hospital</th>\n",
              "      <th>Hospital UCI</th>\n",
              "      <th>F</th>\n",
              "      <th>M</th>\n",
              "      <th>Critico</th>\n",
              "      <th>Moderado</th>\n",
              "      <th>Severo</th>\n",
              "      <th>CASES</th>\n",
              "      <th>LONGITUD</th>\n",
              "      <th>LATITUD</th>\n",
              "      <th>CODIGO</th>\n",
              "      <th>NUMOPEN</th>\n",
              "      <th>NUMCLOSE</th>\n",
              "    </tr>\n",
              "  </thead>\n",
              "  <tbody>\n",
              "    <tr>\n",
              "      <th>count</th>\n",
              "      <td>14.000000</td>\n",
              "      <td>14.000000</td>\n",
              "      <td>14.000000</td>\n",
              "      <td>14.000000</td>\n",
              "      <td>14.000000</td>\n",
              "      <td>14.000000</td>\n",
              "      <td>14.000000</td>\n",
              "      <td>14.000000</td>\n",
              "      <td>14.000000</td>\n",
              "      <td>14.000000</td>\n",
              "      <td>14.000000</td>\n",
              "      <td>14.000000</td>\n",
              "      <td>14.000000</td>\n",
              "      <td>14.000000</td>\n",
              "      <td>14.000000</td>\n",
              "      <td>14.000000</td>\n",
              "      <td>14.000000</td>\n",
              "      <td>14.000000</td>\n",
              "      <td>14.000000</td>\n",
              "    </tr>\n",
              "    <tr>\n",
              "      <th>mean</th>\n",
              "      <td>1485.142857</td>\n",
              "      <td>10051.928571</td>\n",
              "      <td>3882.142857</td>\n",
              "      <td>3018.000000</td>\n",
              "      <td>16096.785714</td>\n",
              "      <td>838.285714</td>\n",
              "      <td>1023.571429</td>\n",
              "      <td>478.571429</td>\n",
              "      <td>9489.142857</td>\n",
              "      <td>8948.071429</td>\n",
              "      <td>478.571429</td>\n",
              "      <td>16096.785714</td>\n",
              "      <td>1023.571429</td>\n",
              "      <td>108.214286</td>\n",
              "      <td>-74.107114</td>\n",
              "      <td>4.645686</td>\n",
              "      <td>10.357143</td>\n",
              "      <td>17.428571</td>\n",
              "      <td>14.071429</td>\n",
              "    </tr>\n",
              "    <tr>\n",
              "      <th>std</th>\n",
              "      <td>2138.597163</td>\n",
              "      <td>12849.706465</td>\n",
              "      <td>5500.882529</td>\n",
              "      <td>3930.258594</td>\n",
              "      <td>19959.713568</td>\n",
              "      <td>1221.415032</td>\n",
              "      <td>1509.061691</td>\n",
              "      <td>734.325930</td>\n",
              "      <td>11989.810853</td>\n",
              "      <td>11031.448064</td>\n",
              "      <td>734.325930</td>\n",
              "      <td>19959.713568</td>\n",
              "      <td>1509.061691</td>\n",
              "      <td>85.113660</td>\n",
              "      <td>0.043986</td>\n",
              "      <td>0.064497</td>\n",
              "      <td>5.271216</td>\n",
              "      <td>21.664271</td>\n",
              "      <td>13.606923</td>\n",
              "    </tr>\n",
              "    <tr>\n",
              "      <th>min</th>\n",
              "      <td>0.000000</td>\n",
              "      <td>28.000000</td>\n",
              "      <td>0.000000</td>\n",
              "      <td>21.000000</td>\n",
              "      <td>42.000000</td>\n",
              "      <td>0.000000</td>\n",
              "      <td>0.000000</td>\n",
              "      <td>0.000000</td>\n",
              "      <td>28.000000</td>\n",
              "      <td>21.000000</td>\n",
              "      <td>0.000000</td>\n",
              "      <td>42.000000</td>\n",
              "      <td>0.000000</td>\n",
              "      <td>7.000000</td>\n",
              "      <td>-74.194500</td>\n",
              "      <td>4.548600</td>\n",
              "      <td>1.000000</td>\n",
              "      <td>1.000000</td>\n",
              "      <td>1.000000</td>\n",
              "    </tr>\n",
              "    <tr>\n",
              "      <th>25%</th>\n",
              "      <td>117.000000</td>\n",
              "      <td>1150.500000</td>\n",
              "      <td>165.000000</td>\n",
              "      <td>175.500000</td>\n",
              "      <td>1523.250000</td>\n",
              "      <td>81.000000</td>\n",
              "      <td>81.000000</td>\n",
              "      <td>0.000000</td>\n",
              "      <td>861.000000</td>\n",
              "      <td>891.750000</td>\n",
              "      <td>0.000000</td>\n",
              "      <td>1523.250000</td>\n",
              "      <td>81.000000</td>\n",
              "      <td>41.250000</td>\n",
              "      <td>-74.136200</td>\n",
              "      <td>4.599150</td>\n",
              "      <td>7.250000</td>\n",
              "      <td>2.250000</td>\n",
              "      <td>4.250000</td>\n",
              "    </tr>\n",
              "    <tr>\n",
              "      <th>50%</th>\n",
              "      <td>315.000000</td>\n",
              "      <td>3973.500000</td>\n",
              "      <td>1763.000000</td>\n",
              "      <td>1324.000000</td>\n",
              "      <td>7845.000000</td>\n",
              "      <td>175.000000</td>\n",
              "      <td>352.000000</td>\n",
              "      <td>98.500000</td>\n",
              "      <td>4432.500000</td>\n",
              "      <td>4490.000000</td>\n",
              "      <td>98.500000</td>\n",
              "      <td>7845.000000</td>\n",
              "      <td>352.000000</td>\n",
              "      <td>94.500000</td>\n",
              "      <td>-74.104050</td>\n",
              "      <td>4.637650</td>\n",
              "      <td>10.500000</td>\n",
              "      <td>8.500000</td>\n",
              "      <td>9.500000</td>\n",
              "    </tr>\n",
              "    <tr>\n",
              "      <th>75%</th>\n",
              "      <td>2664.000000</td>\n",
              "      <td>18079.500000</td>\n",
              "      <td>4169.500000</td>\n",
              "      <td>4278.000000</td>\n",
              "      <td>30888.000000</td>\n",
              "      <td>1349.000000</td>\n",
              "      <td>1246.500000</td>\n",
              "      <td>697.500000</td>\n",
              "      <td>18987.000000</td>\n",
              "      <td>16689.750000</td>\n",
              "      <td>697.500000</td>\n",
              "      <td>30888.000000</td>\n",
              "      <td>1246.500000</td>\n",
              "      <td>183.750000</td>\n",
              "      <td>-74.082800</td>\n",
              "      <td>4.679000</td>\n",
              "      <td>14.500000</td>\n",
              "      <td>19.000000</td>\n",
              "      <td>24.500000</td>\n",
              "    </tr>\n",
              "    <tr>\n",
              "      <th>max</th>\n",
              "      <td>6604.000000</td>\n",
              "      <td>36740.000000</td>\n",
              "      <td>16002.000000</td>\n",
              "      <td>11500.000000</td>\n",
              "      <td>56642.000000</td>\n",
              "      <td>3740.000000</td>\n",
              "      <td>5060.000000</td>\n",
              "      <td>2032.000000</td>\n",
              "      <td>32766.000000</td>\n",
              "      <td>31750.000000</td>\n",
              "      <td>2032.000000</td>\n",
              "      <td>56642.000000</td>\n",
              "      <td>5060.000000</td>\n",
              "      <td>254.000000</td>\n",
              "      <td>-74.031200</td>\n",
              "      <td>4.765200</td>\n",
              "      <td>18.000000</td>\n",
              "      <td>65.000000</td>\n",
              "      <td>40.000000</td>\n",
              "    </tr>\n",
              "  </tbody>\n",
              "</table>\n",
              "</div>"
            ],
            "text/plain": [
              "       Desconocido    En estudio     Importado  ...     CODIGO    NUMOPEN   NUMCLOSE\n",
              "count    14.000000     14.000000     14.000000  ...  14.000000  14.000000  14.000000\n",
              "mean   1485.142857  10051.928571   3882.142857  ...  10.357143  17.428571  14.071429\n",
              "std    2138.597163  12849.706465   5500.882529  ...   5.271216  21.664271  13.606923\n",
              "min       0.000000     28.000000      0.000000  ...   1.000000   1.000000   1.000000\n",
              "25%     117.000000   1150.500000    165.000000  ...   7.250000   2.250000   4.250000\n",
              "50%     315.000000   3973.500000   1763.000000  ...  10.500000   8.500000   9.500000\n",
              "75%    2664.000000  18079.500000   4169.500000  ...  14.500000  19.000000  24.500000\n",
              "max    6604.000000  36740.000000  16002.000000  ...  18.000000  65.000000  40.000000\n",
              "\n",
              "[8 rows x 19 columns]"
            ]
          },
          "metadata": {
            "tags": []
          },
          "execution_count": 21
        }
      ]
    },
    {
      "cell_type": "code",
      "metadata": {
        "id": "HbjXqXtZoqR9",
        "colab_type": "code",
        "outputId": "49a78074-d253-4bb8-95d9-2f0ed0953015",
        "colab": {
          "base_uri": "https://localhost:8080/",
          "height": 675
        }
      },
      "source": [
        "cor = dfsummary.corr()\n",
        "cor"
      ],
      "execution_count": 22,
      "outputs": [
        {
          "output_type": "execute_result",
          "data": {
            "text/html": [
              "<div>\n",
              "<style scoped>\n",
              "    .dataframe tbody tr th:only-of-type {\n",
              "        vertical-align: middle;\n",
              "    }\n",
              "\n",
              "    .dataframe tbody tr th {\n",
              "        vertical-align: top;\n",
              "    }\n",
              "\n",
              "    .dataframe thead th {\n",
              "        text-align: right;\n",
              "    }\n",
              "</style>\n",
              "<table border=\"1\" class=\"dataframe\">\n",
              "  <thead>\n",
              "    <tr style=\"text-align: right;\">\n",
              "      <th></th>\n",
              "      <th>Desconocido</th>\n",
              "      <th>En estudio</th>\n",
              "      <th>Importado</th>\n",
              "      <th>Relacionado</th>\n",
              "      <th>Casa</th>\n",
              "      <th>Fallecido</th>\n",
              "      <th>Hospital</th>\n",
              "      <th>Hospital UCI</th>\n",
              "      <th>F</th>\n",
              "      <th>M</th>\n",
              "      <th>Critico</th>\n",
              "      <th>Moderado</th>\n",
              "      <th>Severo</th>\n",
              "      <th>CASES</th>\n",
              "      <th>LONGITUD</th>\n",
              "      <th>LATITUD</th>\n",
              "      <th>CODIGO</th>\n",
              "      <th>NUMOPEN</th>\n",
              "      <th>NUMCLOSE</th>\n",
              "    </tr>\n",
              "  </thead>\n",
              "  <tbody>\n",
              "    <tr>\n",
              "      <th>Desconocido</th>\n",
              "      <td>1.000000</td>\n",
              "      <td>0.917055</td>\n",
              "      <td>0.874892</td>\n",
              "      <td>0.927016</td>\n",
              "      <td>0.975226</td>\n",
              "      <td>0.864588</td>\n",
              "      <td>0.788230</td>\n",
              "      <td>0.909438</td>\n",
              "      <td>0.971463</td>\n",
              "      <td>0.972757</td>\n",
              "      <td>0.909438</td>\n",
              "      <td>0.975226</td>\n",
              "      <td>0.788230</td>\n",
              "      <td>0.927827</td>\n",
              "      <td>0.204603</td>\n",
              "      <td>0.759177</td>\n",
              "      <td>-0.283637</td>\n",
              "      <td>-0.194209</td>\n",
              "      <td>-0.176270</td>\n",
              "    </tr>\n",
              "    <tr>\n",
              "      <th>En estudio</th>\n",
              "      <td>0.917055</td>\n",
              "      <td>1.000000</td>\n",
              "      <td>0.718332</td>\n",
              "      <td>0.831578</td>\n",
              "      <td>0.935164</td>\n",
              "      <td>0.983283</td>\n",
              "      <td>0.959071</td>\n",
              "      <td>0.976134</td>\n",
              "      <td>0.967033</td>\n",
              "      <td>0.946036</td>\n",
              "      <td>0.976134</td>\n",
              "      <td>0.935164</td>\n",
              "      <td>0.959071</td>\n",
              "      <td>0.939073</td>\n",
              "      <td>0.008553</td>\n",
              "      <td>0.619601</td>\n",
              "      <td>-0.338834</td>\n",
              "      <td>-0.217746</td>\n",
              "      <td>-0.210877</td>\n",
              "    </tr>\n",
              "    <tr>\n",
              "      <th>Importado</th>\n",
              "      <td>0.874892</td>\n",
              "      <td>0.718332</td>\n",
              "      <td>1.000000</td>\n",
              "      <td>0.958479</td>\n",
              "      <td>0.913843</td>\n",
              "      <td>0.680910</td>\n",
              "      <td>0.498831</td>\n",
              "      <td>0.741994</td>\n",
              "      <td>0.866932</td>\n",
              "      <td>0.904233</td>\n",
              "      <td>0.741994</td>\n",
              "      <td>0.913843</td>\n",
              "      <td>0.498831</td>\n",
              "      <td>0.857858</td>\n",
              "      <td>0.495760</td>\n",
              "      <td>0.870082</td>\n",
              "      <td>-0.464639</td>\n",
              "      <td>-0.074837</td>\n",
              "      <td>-0.071273</td>\n",
              "    </tr>\n",
              "    <tr>\n",
              "      <th>Relacionado</th>\n",
              "      <td>0.927016</td>\n",
              "      <td>0.831578</td>\n",
              "      <td>0.958479</td>\n",
              "      <td>1.000000</td>\n",
              "      <td>0.969135</td>\n",
              "      <td>0.785698</td>\n",
              "      <td>0.644270</td>\n",
              "      <td>0.810571</td>\n",
              "      <td>0.942937</td>\n",
              "      <td>0.957730</td>\n",
              "      <td>0.810571</td>\n",
              "      <td>0.969135</td>\n",
              "      <td>0.644270</td>\n",
              "      <td>0.931167</td>\n",
              "      <td>0.388200</td>\n",
              "      <td>0.845139</td>\n",
              "      <td>-0.477298</td>\n",
              "      <td>-0.092491</td>\n",
              "      <td>-0.108602</td>\n",
              "    </tr>\n",
              "    <tr>\n",
              "      <th>Casa</th>\n",
              "      <td>0.975226</td>\n",
              "      <td>0.935164</td>\n",
              "      <td>0.913843</td>\n",
              "      <td>0.969135</td>\n",
              "      <td>1.000000</td>\n",
              "      <td>0.898210</td>\n",
              "      <td>0.797591</td>\n",
              "      <td>0.922856</td>\n",
              "      <td>0.994242</td>\n",
              "      <td>0.998719</td>\n",
              "      <td>0.922856</td>\n",
              "      <td>1.000000</td>\n",
              "      <td>0.797591</td>\n",
              "      <td>0.973230</td>\n",
              "      <td>0.251514</td>\n",
              "      <td>0.797974</td>\n",
              "      <td>-0.422446</td>\n",
              "      <td>-0.160401</td>\n",
              "      <td>-0.160264</td>\n",
              "    </tr>\n",
              "    <tr>\n",
              "      <th>Fallecido</th>\n",
              "      <td>0.864588</td>\n",
              "      <td>0.983283</td>\n",
              "      <td>0.680910</td>\n",
              "      <td>0.785698</td>\n",
              "      <td>0.898210</td>\n",
              "      <td>1.000000</td>\n",
              "      <td>0.960365</td>\n",
              "      <td>0.978900</td>\n",
              "      <td>0.936611</td>\n",
              "      <td>0.914451</td>\n",
              "      <td>0.978900</td>\n",
              "      <td>0.898210</td>\n",
              "      <td>0.960365</td>\n",
              "      <td>0.895127</td>\n",
              "      <td>0.017615</td>\n",
              "      <td>0.557187</td>\n",
              "      <td>-0.312448</td>\n",
              "      <td>-0.229120</td>\n",
              "      <td>-0.204578</td>\n",
              "    </tr>\n",
              "    <tr>\n",
              "      <th>Hospital</th>\n",
              "      <td>0.788230</td>\n",
              "      <td>0.959071</td>\n",
              "      <td>0.498831</td>\n",
              "      <td>0.644270</td>\n",
              "      <td>0.797591</td>\n",
              "      <td>0.960365</td>\n",
              "      <td>1.000000</td>\n",
              "      <td>0.931321</td>\n",
              "      <td>0.856137</td>\n",
              "      <td>0.817727</td>\n",
              "      <td>0.931321</td>\n",
              "      <td>0.797591</td>\n",
              "      <td>1.000000</td>\n",
              "      <td>0.826064</td>\n",
              "      <td>-0.181758</td>\n",
              "      <td>0.422829</td>\n",
              "      <td>-0.231428</td>\n",
              "      <td>-0.228692</td>\n",
              "      <td>-0.216086</td>\n",
              "    </tr>\n",
              "    <tr>\n",
              "      <th>Hospital UCI</th>\n",
              "      <td>0.909438</td>\n",
              "      <td>0.976134</td>\n",
              "      <td>0.741994</td>\n",
              "      <td>0.810571</td>\n",
              "      <td>0.922856</td>\n",
              "      <td>0.978900</td>\n",
              "      <td>0.931321</td>\n",
              "      <td>1.000000</td>\n",
              "      <td>0.950265</td>\n",
              "      <td>0.939300</td>\n",
              "      <td>1.000000</td>\n",
              "      <td>0.922856</td>\n",
              "      <td>0.931321</td>\n",
              "      <td>0.904882</td>\n",
              "      <td>0.044855</td>\n",
              "      <td>0.608908</td>\n",
              "      <td>-0.312615</td>\n",
              "      <td>-0.220579</td>\n",
              "      <td>-0.178118</td>\n",
              "    </tr>\n",
              "    <tr>\n",
              "      <th>F</th>\n",
              "      <td>0.971463</td>\n",
              "      <td>0.967033</td>\n",
              "      <td>0.866932</td>\n",
              "      <td>0.942937</td>\n",
              "      <td>0.994242</td>\n",
              "      <td>0.936611</td>\n",
              "      <td>0.856137</td>\n",
              "      <td>0.950265</td>\n",
              "      <td>1.000000</td>\n",
              "      <td>0.996128</td>\n",
              "      <td>0.950265</td>\n",
              "      <td>0.994242</td>\n",
              "      <td>0.856137</td>\n",
              "      <td>0.973753</td>\n",
              "      <td>0.185544</td>\n",
              "      <td>0.752299</td>\n",
              "      <td>-0.398385</td>\n",
              "      <td>-0.179569</td>\n",
              "      <td>-0.177138</td>\n",
              "    </tr>\n",
              "    <tr>\n",
              "      <th>M</th>\n",
              "      <td>0.972757</td>\n",
              "      <td>0.946036</td>\n",
              "      <td>0.904233</td>\n",
              "      <td>0.957730</td>\n",
              "      <td>0.998719</td>\n",
              "      <td>0.914451</td>\n",
              "      <td>0.817727</td>\n",
              "      <td>0.939300</td>\n",
              "      <td>0.996128</td>\n",
              "      <td>1.000000</td>\n",
              "      <td>0.939300</td>\n",
              "      <td>0.998719</td>\n",
              "      <td>0.817727</td>\n",
              "      <td>0.974908</td>\n",
              "      <td>0.233484</td>\n",
              "      <td>0.786223</td>\n",
              "      <td>-0.418419</td>\n",
              "      <td>-0.166388</td>\n",
              "      <td>-0.161514</td>\n",
              "    </tr>\n",
              "    <tr>\n",
              "      <th>Critico</th>\n",
              "      <td>0.909438</td>\n",
              "      <td>0.976134</td>\n",
              "      <td>0.741994</td>\n",
              "      <td>0.810571</td>\n",
              "      <td>0.922856</td>\n",
              "      <td>0.978900</td>\n",
              "      <td>0.931321</td>\n",
              "      <td>1.000000</td>\n",
              "      <td>0.950265</td>\n",
              "      <td>0.939300</td>\n",
              "      <td>1.000000</td>\n",
              "      <td>0.922856</td>\n",
              "      <td>0.931321</td>\n",
              "      <td>0.904882</td>\n",
              "      <td>0.044855</td>\n",
              "      <td>0.608908</td>\n",
              "      <td>-0.312615</td>\n",
              "      <td>-0.220579</td>\n",
              "      <td>-0.178118</td>\n",
              "    </tr>\n",
              "    <tr>\n",
              "      <th>Moderado</th>\n",
              "      <td>0.975226</td>\n",
              "      <td>0.935164</td>\n",
              "      <td>0.913843</td>\n",
              "      <td>0.969135</td>\n",
              "      <td>1.000000</td>\n",
              "      <td>0.898210</td>\n",
              "      <td>0.797591</td>\n",
              "      <td>0.922856</td>\n",
              "      <td>0.994242</td>\n",
              "      <td>0.998719</td>\n",
              "      <td>0.922856</td>\n",
              "      <td>1.000000</td>\n",
              "      <td>0.797591</td>\n",
              "      <td>0.973230</td>\n",
              "      <td>0.251514</td>\n",
              "      <td>0.797974</td>\n",
              "      <td>-0.422446</td>\n",
              "      <td>-0.160401</td>\n",
              "      <td>-0.160264</td>\n",
              "    </tr>\n",
              "    <tr>\n",
              "      <th>Severo</th>\n",
              "      <td>0.788230</td>\n",
              "      <td>0.959071</td>\n",
              "      <td>0.498831</td>\n",
              "      <td>0.644270</td>\n",
              "      <td>0.797591</td>\n",
              "      <td>0.960365</td>\n",
              "      <td>1.000000</td>\n",
              "      <td>0.931321</td>\n",
              "      <td>0.856137</td>\n",
              "      <td>0.817727</td>\n",
              "      <td>0.931321</td>\n",
              "      <td>0.797591</td>\n",
              "      <td>1.000000</td>\n",
              "      <td>0.826064</td>\n",
              "      <td>-0.181758</td>\n",
              "      <td>0.422829</td>\n",
              "      <td>-0.231428</td>\n",
              "      <td>-0.228692</td>\n",
              "      <td>-0.216086</td>\n",
              "    </tr>\n",
              "    <tr>\n",
              "      <th>CASES</th>\n",
              "      <td>0.927827</td>\n",
              "      <td>0.939073</td>\n",
              "      <td>0.857858</td>\n",
              "      <td>0.931167</td>\n",
              "      <td>0.973230</td>\n",
              "      <td>0.895127</td>\n",
              "      <td>0.826064</td>\n",
              "      <td>0.904882</td>\n",
              "      <td>0.973753</td>\n",
              "      <td>0.974908</td>\n",
              "      <td>0.904882</td>\n",
              "      <td>0.973230</td>\n",
              "      <td>0.826064</td>\n",
              "      <td>1.000000</td>\n",
              "      <td>0.141743</td>\n",
              "      <td>0.793683</td>\n",
              "      <td>-0.486598</td>\n",
              "      <td>-0.146647</td>\n",
              "      <td>-0.180211</td>\n",
              "    </tr>\n",
              "    <tr>\n",
              "      <th>LONGITUD</th>\n",
              "      <td>0.204603</td>\n",
              "      <td>0.008553</td>\n",
              "      <td>0.495760</td>\n",
              "      <td>0.388200</td>\n",
              "      <td>0.251514</td>\n",
              "      <td>0.017615</td>\n",
              "      <td>-0.181758</td>\n",
              "      <td>0.044855</td>\n",
              "      <td>0.185544</td>\n",
              "      <td>0.233484</td>\n",
              "      <td>0.044855</td>\n",
              "      <td>0.251514</td>\n",
              "      <td>-0.181758</td>\n",
              "      <td>0.141743</td>\n",
              "      <td>1.000000</td>\n",
              "      <td>0.366038</td>\n",
              "      <td>-0.140080</td>\n",
              "      <td>0.467962</td>\n",
              "      <td>0.524950</td>\n",
              "    </tr>\n",
              "    <tr>\n",
              "      <th>LATITUD</th>\n",
              "      <td>0.759177</td>\n",
              "      <td>0.619601</td>\n",
              "      <td>0.870082</td>\n",
              "      <td>0.845139</td>\n",
              "      <td>0.797974</td>\n",
              "      <td>0.557187</td>\n",
              "      <td>0.422829</td>\n",
              "      <td>0.608908</td>\n",
              "      <td>0.752299</td>\n",
              "      <td>0.786223</td>\n",
              "      <td>0.608908</td>\n",
              "      <td>0.797974</td>\n",
              "      <td>0.422829</td>\n",
              "      <td>0.793683</td>\n",
              "      <td>0.366038</td>\n",
              "      <td>1.000000</td>\n",
              "      <td>-0.509969</td>\n",
              "      <td>-0.013758</td>\n",
              "      <td>0.086284</td>\n",
              "    </tr>\n",
              "    <tr>\n",
              "      <th>CODIGO</th>\n",
              "      <td>-0.283637</td>\n",
              "      <td>-0.338834</td>\n",
              "      <td>-0.464639</td>\n",
              "      <td>-0.477298</td>\n",
              "      <td>-0.422446</td>\n",
              "      <td>-0.312448</td>\n",
              "      <td>-0.231428</td>\n",
              "      <td>-0.312615</td>\n",
              "      <td>-0.398385</td>\n",
              "      <td>-0.418419</td>\n",
              "      <td>-0.312615</td>\n",
              "      <td>-0.422446</td>\n",
              "      <td>-0.231428</td>\n",
              "      <td>-0.486598</td>\n",
              "      <td>-0.140080</td>\n",
              "      <td>-0.509969</td>\n",
              "      <td>1.000000</td>\n",
              "      <td>0.087472</td>\n",
              "      <td>0.065038</td>\n",
              "    </tr>\n",
              "    <tr>\n",
              "      <th>NUMOPEN</th>\n",
              "      <td>-0.194209</td>\n",
              "      <td>-0.217746</td>\n",
              "      <td>-0.074837</td>\n",
              "      <td>-0.092491</td>\n",
              "      <td>-0.160401</td>\n",
              "      <td>-0.229120</td>\n",
              "      <td>-0.228692</td>\n",
              "      <td>-0.220579</td>\n",
              "      <td>-0.179569</td>\n",
              "      <td>-0.166388</td>\n",
              "      <td>-0.220579</td>\n",
              "      <td>-0.160401</td>\n",
              "      <td>-0.228692</td>\n",
              "      <td>-0.146647</td>\n",
              "      <td>0.467962</td>\n",
              "      <td>-0.013758</td>\n",
              "      <td>0.087472</td>\n",
              "      <td>1.000000</td>\n",
              "      <td>0.892067</td>\n",
              "    </tr>\n",
              "    <tr>\n",
              "      <th>NUMCLOSE</th>\n",
              "      <td>-0.176270</td>\n",
              "      <td>-0.210877</td>\n",
              "      <td>-0.071273</td>\n",
              "      <td>-0.108602</td>\n",
              "      <td>-0.160264</td>\n",
              "      <td>-0.204578</td>\n",
              "      <td>-0.216086</td>\n",
              "      <td>-0.178118</td>\n",
              "      <td>-0.177138</td>\n",
              "      <td>-0.161514</td>\n",
              "      <td>-0.178118</td>\n",
              "      <td>-0.160264</td>\n",
              "      <td>-0.216086</td>\n",
              "      <td>-0.180211</td>\n",
              "      <td>0.524950</td>\n",
              "      <td>0.086284</td>\n",
              "      <td>0.065038</td>\n",
              "      <td>0.892067</td>\n",
              "      <td>1.000000</td>\n",
              "    </tr>\n",
              "  </tbody>\n",
              "</table>\n",
              "</div>"
            ],
            "text/plain": [
              "              Desconocido  En estudio  Importado  ...    CODIGO   NUMOPEN  NUMCLOSE\n",
              "Desconocido      1.000000    0.917055   0.874892  ... -0.283637 -0.194209 -0.176270\n",
              "En estudio       0.917055    1.000000   0.718332  ... -0.338834 -0.217746 -0.210877\n",
              "Importado        0.874892    0.718332   1.000000  ... -0.464639 -0.074837 -0.071273\n",
              "Relacionado      0.927016    0.831578   0.958479  ... -0.477298 -0.092491 -0.108602\n",
              "Casa             0.975226    0.935164   0.913843  ... -0.422446 -0.160401 -0.160264\n",
              "Fallecido        0.864588    0.983283   0.680910  ... -0.312448 -0.229120 -0.204578\n",
              "Hospital         0.788230    0.959071   0.498831  ... -0.231428 -0.228692 -0.216086\n",
              "Hospital UCI     0.909438    0.976134   0.741994  ... -0.312615 -0.220579 -0.178118\n",
              "F                0.971463    0.967033   0.866932  ... -0.398385 -0.179569 -0.177138\n",
              "M                0.972757    0.946036   0.904233  ... -0.418419 -0.166388 -0.161514\n",
              "Critico          0.909438    0.976134   0.741994  ... -0.312615 -0.220579 -0.178118\n",
              "Moderado         0.975226    0.935164   0.913843  ... -0.422446 -0.160401 -0.160264\n",
              "Severo           0.788230    0.959071   0.498831  ... -0.231428 -0.228692 -0.216086\n",
              "CASES            0.927827    0.939073   0.857858  ... -0.486598 -0.146647 -0.180211\n",
              "LONGITUD         0.204603    0.008553   0.495760  ... -0.140080  0.467962  0.524950\n",
              "LATITUD          0.759177    0.619601   0.870082  ... -0.509969 -0.013758  0.086284\n",
              "CODIGO          -0.283637   -0.338834  -0.464639  ...  1.000000  0.087472  0.065038\n",
              "NUMOPEN         -0.194209   -0.217746  -0.074837  ...  0.087472  1.000000  0.892067\n",
              "NUMCLOSE        -0.176270   -0.210877  -0.071273  ...  0.065038  0.892067  1.000000\n",
              "\n",
              "[19 rows x 19 columns]"
            ]
          },
          "metadata": {
            "tags": []
          },
          "execution_count": 22
        }
      ]
    },
    {
      "cell_type": "markdown",
      "metadata": {
        "id": "OaIYKdoARE4O",
        "colab_type": "text"
      },
      "source": [
        "Create map with cases"
      ]
    },
    {
      "cell_type": "code",
      "metadata": {
        "id": "b9Gbc-upElA3",
        "colab_type": "code",
        "outputId": "1277ab8a-392c-4375-f3df-56039fd4ac4f",
        "colab": {
          "base_uri": "https://localhost:8080/",
          "height": 808
        }
      },
      "source": [
        "map_bog = folium.Map(location=[boglat, boglong], zoom_start=11)\n",
        "\n",
        "for lat, lon, local, cases in zip(dfsummary['LATITUD'], dfsummary['LONGITUD'], dfsummary['LOCALIDAD'], dfsummary['CASES']):\n",
        "    folium.CircleMarker(\n",
        "        [lat, lon],\n",
        "        popup = ('Localidad: ' + str(local).capitalize()),\n",
        "        radius=.15*cases,\n",
        "        color='b',\n",
        "        threshold_scale=[0,1,2,3],\n",
        "        fill_color='yellow',\n",
        "        fill=True,\n",
        "        fill_opacity=0.7\n",
        "        ).add_to(map_bog)\n",
        "map_bog\n"
      ],
      "execution_count": 23,
      "outputs": [
        {
          "output_type": "execute_result",
          "data": {
            "text/html": [
              "<div style=\"width:100%;\"><div style=\"position:relative;width:100%;height:0;padding-bottom:60%;\"><iframe src=\"about:blank\" style=\"position:absolute;width:100%;height:100%;left:0;top:0;border:none !important;\" data-html=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 onload=\"this.contentDocument.open();this.contentDocument.write(atob(this.getAttribute('data-html')));this.contentDocument.close();\" allowfullscreen webkitallowfullscreen mozallowfullscreen></iframe></div></div>"
            ],
            "text/plain": [
              "<folium.folium.Map at 0x7f7378a1d6d8>"
            ]
          },
          "metadata": {
            "tags": []
          },
          "execution_count": 23
        }
      ]
    },
    {
      "cell_type": "markdown",
      "metadata": {
        "id": "3QvjoeP2RH36",
        "colab_type": "text"
      },
      "source": [
        "Create map with deaths"
      ]
    },
    {
      "cell_type": "code",
      "metadata": {
        "id": "Yl6mFcUXKDgb",
        "colab_type": "code",
        "outputId": "2917a3ed-89ca-4d49-f3ad-4cc7be0c7323",
        "colab": {
          "base_uri": "https://localhost:8080/",
          "height": 808
        }
      },
      "source": [
        "map_bog = folium.Map(location=[boglat, boglong], zoom_start=11)\n",
        "\n",
        "for lat, lon, local, death in zip(dfsummary['LATITUD'], dfsummary['LONGITUD'], dfsummary['LOCALIDAD'], dfsummary['Fallecido']):\n",
        "    folium.CircleMarker(\n",
        "        [lat, lon],\n",
        "        popup = ('Localidad: ' + str(local).capitalize()),\n",
        "        radius=.01*death,\n",
        "        color='b',\n",
        "        threshold_scale=[0,1,2,3],\n",
        "        fill_color='red',\n",
        "        fill=True,\n",
        "        fill_opacity=0.7\n",
        "        ).add_to(map_bog)\n",
        "map_bog"
      ],
      "execution_count": 24,
      "outputs": [
        {
          "output_type": "execute_result",
          "data": {
            "text/html": [
              "<div style=\"width:100%;\"><div style=\"position:relative;width:100%;height:0;padding-bottom:60%;\"><iframe src=\"about:blank\" style=\"position:absolute;width:100%;height:100%;left:0;top:0;border:none !important;\" data-html=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 onload=\"this.contentDocument.open();this.contentDocument.write(atob(this.getAttribute('data-html')));this.contentDocument.close();\" allowfullscreen webkitallowfullscreen mozallowfullscreen></iframe></div></div>"
            ],
            "text/plain": [
              "<folium.folium.Map at 0x7f7378a34ba8>"
            ]
          },
          "metadata": {
            "tags": []
          },
          "execution_count": 24
        }
      ]
    },
    {
      "cell_type": "markdown",
      "metadata": {
        "id": "alscWOh8RVj2",
        "colab_type": "text"
      },
      "source": [
        "Merge information into one dataframe"
      ]
    },
    {
      "cell_type": "code",
      "metadata": {
        "id": "5e1dnMr9WNLS",
        "colab_type": "code",
        "colab": {}
      },
      "source": [
        "df = df2\n",
        "df['LOCALIDAD'] = df['LOCALIDAD'].str.upper() \n",
        "df = df[df['LOCALIDAD'].isin(df1['LOCALIDAD'])].reset_index(drop=True)\n",
        "df1 = df1[df1['LOCALIDAD'].isin(df['LOCALIDAD'])].reset_index(drop=True)\n"
      ],
      "execution_count": 0,
      "outputs": []
    },
    {
      "cell_type": "code",
      "metadata": {
        "id": "xLzHb5mKRuQU",
        "colab_type": "code",
        "colab": {}
      },
      "source": [
        "codes = df['CODE']\n",
        "codes = codes-1\n",
        "codes = codes.tolist()\n"
      ],
      "execution_count": 0,
      "outputs": []
    },
    {
      "cell_type": "code",
      "metadata": {
        "id": "238G1BjusIkY",
        "colab_type": "code",
        "outputId": "b97e3bec-2a58-488c-eaeb-6e53c520382c",
        "colab": {
          "base_uri": "https://localhost:8080/",
          "height": 204
        }
      },
      "source": [
        "ndf1 =  df1.reindex(codes).reset_index(drop=True)\n",
        "df['LATITUDE']=ndf1['LATITUD']\n",
        "df['LONGITUDE']=ndf1['LONGITUD']\n",
        "df['NUMOPEN']=ndf1['NUMOPEN']\n",
        "df['NUMCLOSE']=ndf1['NUMCLOSE']\n",
        "df['KIND'].replace('relacionado', 'Relacionado', inplace=True)\n",
        "\n",
        "df.head()"
      ],
      "execution_count": 27,
      "outputs": [
        {
          "output_type": "execute_result",
          "data": {
            "text/html": [
              "<div>\n",
              "<style scoped>\n",
              "    .dataframe tbody tr th:only-of-type {\n",
              "        vertical-align: middle;\n",
              "    }\n",
              "\n",
              "    .dataframe tbody tr th {\n",
              "        vertical-align: top;\n",
              "    }\n",
              "\n",
              "    .dataframe thead th {\n",
              "        text-align: right;\n",
              "    }\n",
              "</style>\n",
              "<table border=\"1\" class=\"dataframe\">\n",
              "  <thead>\n",
              "    <tr style=\"text-align: right;\">\n",
              "      <th></th>\n",
              "      <th>ID</th>\n",
              "      <th>DATE</th>\n",
              "      <th>CODE</th>\n",
              "      <th>LOCALIDAD</th>\n",
              "      <th>AGE</th>\n",
              "      <th>SEX</th>\n",
              "      <th>KIND</th>\n",
              "      <th>LOCATION</th>\n",
              "      <th>STATE</th>\n",
              "      <th>LATITUDE</th>\n",
              "      <th>LONGITUDE</th>\n",
              "      <th>NUMOPEN</th>\n",
              "      <th>NUMCLOSE</th>\n",
              "    </tr>\n",
              "  </thead>\n",
              "  <tbody>\n",
              "    <tr>\n",
              "      <th>0</th>\n",
              "      <td>1</td>\n",
              "      <td>2020-03-06</td>\n",
              "      <td>1.0</td>\n",
              "      <td>USAQUEN</td>\n",
              "      <td>19.0</td>\n",
              "      <td>F</td>\n",
              "      <td>Importado</td>\n",
              "      <td>Casa</td>\n",
              "      <td>Moderado</td>\n",
              "      <td>4.5486</td>\n",
              "      <td>-74.1009</td>\n",
              "      <td>2.0</td>\n",
              "      <td>2.0</td>\n",
              "    </tr>\n",
              "    <tr>\n",
              "      <th>1</th>\n",
              "      <td>2</td>\n",
              "      <td>2020-03-10</td>\n",
              "      <td>10.0</td>\n",
              "      <td>ENGATIVA</td>\n",
              "      <td>22.0</td>\n",
              "      <td>F</td>\n",
              "      <td>Importado</td>\n",
              "      <td>Casa</td>\n",
              "      <td>Moderado</td>\n",
              "      <td>4.5653</td>\n",
              "      <td>-74.1164</td>\n",
              "      <td>1.0</td>\n",
              "      <td>1.0</td>\n",
              "    </tr>\n",
              "    <tr>\n",
              "      <th>2</th>\n",
              "      <td>3</td>\n",
              "      <td>2020-03-10</td>\n",
              "      <td>10.0</td>\n",
              "      <td>ENGATIVA</td>\n",
              "      <td>28.0</td>\n",
              "      <td>F</td>\n",
              "      <td>Importado</td>\n",
              "      <td>Casa</td>\n",
              "      <td>Moderado</td>\n",
              "      <td>4.5653</td>\n",
              "      <td>-74.1164</td>\n",
              "      <td>1.0</td>\n",
              "      <td>1.0</td>\n",
              "    </tr>\n",
              "    <tr>\n",
              "      <th>3</th>\n",
              "      <td>4</td>\n",
              "      <td>2020-03-12</td>\n",
              "      <td>9.0</td>\n",
              "      <td>FONTIBON</td>\n",
              "      <td>36.0</td>\n",
              "      <td>F</td>\n",
              "      <td>Importado</td>\n",
              "      <td>Casa</td>\n",
              "      <td>Moderado</td>\n",
              "      <td>4.6149</td>\n",
              "      <td>-74.1227</td>\n",
              "      <td>9.0</td>\n",
              "      <td>5.0</td>\n",
              "    </tr>\n",
              "    <tr>\n",
              "      <th>4</th>\n",
              "      <td>5</td>\n",
              "      <td>2020-03-12</td>\n",
              "      <td>8.0</td>\n",
              "      <td>KENNEDY</td>\n",
              "      <td>42.0</td>\n",
              "      <td>F</td>\n",
              "      <td>Importado</td>\n",
              "      <td>Casa</td>\n",
              "      <td>Moderado</td>\n",
              "      <td>4.5939</td>\n",
              "      <td>-74.0739</td>\n",
              "      <td>58.0</td>\n",
              "      <td>40.0</td>\n",
              "    </tr>\n",
              "  </tbody>\n",
              "</table>\n",
              "</div>"
            ],
            "text/plain": [
              "  ID       DATE  CODE LOCALIDAD  ...  LATITUDE LONGITUDE NUMOPEN NUMCLOSE\n",
              "0  1 2020-03-06   1.0   USAQUEN  ...    4.5486  -74.1009     2.0      2.0\n",
              "1  2 2020-03-10  10.0  ENGATIVA  ...    4.5653  -74.1164     1.0      1.0\n",
              "2  3 2020-03-10  10.0  ENGATIVA  ...    4.5653  -74.1164     1.0      1.0\n",
              "3  4 2020-03-12   9.0  FONTIBON  ...    4.6149  -74.1227     9.0      5.0\n",
              "4  5 2020-03-12   8.0   KENNEDY  ...    4.5939  -74.0739    58.0     40.0\n",
              "\n",
              "[5 rows x 13 columns]"
            ]
          },
          "metadata": {
            "tags": []
          },
          "execution_count": 27
        }
      ]
    },
    {
      "cell_type": "markdown",
      "metadata": {
        "id": "RvOIkNSJRsSR",
        "colab_type": "text"
      },
      "source": [
        "Generate bar plots of different interesting variables"
      ]
    },
    {
      "cell_type": "code",
      "metadata": {
        "id": "GilrBF4JIPEz",
        "colab_type": "code",
        "colab": {
          "base_uri": "https://localhost:8080/",
          "height": 376
        },
        "outputId": "49e0694e-e687-4bd5-eb80-8d3f8690e14d"
      },
      "source": [
        "df['LOCALIDAD'].value_counts().plot(kind='bar')"
      ],
      "execution_count": 28,
      "outputs": [
        {
          "output_type": "execute_result",
          "data": {
            "text/plain": [
              "<matplotlib.axes._subplots.AxesSubplot at 0x7f7377957588>"
            ]
          },
          "metadata": {
            "tags": []
          },
          "execution_count": 28
        },
        {
          "output_type": "display_data",
          "data": {
            "image/png": "[encoded data removed]",
            "text/plain": [
              "<Figure size 432x288 with 1 Axes>"
            ]
          },
          "metadata": {
            "tags": [],
            "needs_background": "light"
          }
        }
      ]
    },
    {
      "cell_type": "code",
      "metadata": {
        "id": "v5pl7gIwMA8n",
        "colab_type": "code",
        "colab": {
          "base_uri": "https://localhost:8080/",
          "height": 376
        },
        "outputId": "091cdda3-24df-4d71-a73f-5d5ddc300679"
      },
      "source": [
        "df['LOCALIDAD'][df['STATE']=='Fallecido'].value_counts().plot(kind='bar')"
      ],
      "execution_count": 29,
      "outputs": [
        {
          "output_type": "execute_result",
          "data": {
            "text/plain": [
              "<matplotlib.axes._subplots.AxesSubplot at 0x7f7377850fd0>"
            ]
          },
          "metadata": {
            "tags": []
          },
          "execution_count": 29
        },
        {
          "output_type": "display_data",
          "data": {
            "image/png": "[encoded data removed]",
            "text/plain": [
              "<Figure size 432x288 with 1 Axes>"
            ]
          },
          "metadata": {
            "tags": [],
            "needs_background": "light"
          }
        }
      ]
    },
    {
      "cell_type": "code",
      "metadata": {
        "id": "uAJtAWcStELb",
        "colab_type": "code",
        "colab": {}
      },
      "source": [
        "df.drop(['DATE','CODE','LOCALIDAD'], axis=1, inplace=True)"
      ],
      "execution_count": 0,
      "outputs": []
    },
    {
      "cell_type": "code",
      "metadata": {
        "id": "YyKSgQxvOrEt",
        "colab_type": "code",
        "outputId": "5e6eb5c4-6e99-4082-d5f4-7deaf98df864",
        "colab": {
          "base_uri": "https://localhost:8080/",
          "height": 333
        }
      },
      "source": [
        "df['LOCATION'].value_counts().plot(kind='bar')"
      ],
      "execution_count": 31,
      "outputs": [
        {
          "output_type": "execute_result",
          "data": {
            "text/plain": [
              "<matplotlib.axes._subplots.AxesSubplot at 0x7f73773a98d0>"
            ]
          },
          "metadata": {
            "tags": []
          },
          "execution_count": 31
        },
        {
          "output_type": "display_data",
          "data": {
            "image/png": "[encoded data removed]",
            "text/plain": [
              "<Figure size 432x288 with 1 Axes>"
            ]
          },
          "metadata": {
            "tags": [],
            "needs_background": "light"
          }
        }
      ]
    },
    {
      "cell_type": "code",
      "metadata": {
        "id": "96IXXbpMG2LR",
        "colab_type": "code",
        "colab": {
          "base_uri": "https://localhost:8080/",
          "height": 322
        },
        "outputId": "05290e01-5b48-4f51-d08d-3f11705f5bd1"
      },
      "source": [
        "df['STATE'].value_counts().plot(kind='bar')"
      ],
      "execution_count": 32,
      "outputs": [
        {
          "output_type": "execute_result",
          "data": {
            "text/plain": [
              "<matplotlib.axes._subplots.AxesSubplot at 0x7f737730b1d0>"
            ]
          },
          "metadata": {
            "tags": []
          },
          "execution_count": 32
        },
        {
          "output_type": "display_data",
          "data": {
            "image/png": "[encoded data removed]",
            "text/plain": [
              "<Figure size 432x288 with 1 Axes>"
            ]
          },
          "metadata": {
            "tags": [],
            "needs_background": "light"
          }
        }
      ]
    },
    {
      "cell_type": "code",
      "metadata": {
        "id": "Zc-YgRQzGte3",
        "colab_type": "code",
        "colab": {
          "base_uri": "https://localhost:8080/",
          "height": 336
        },
        "outputId": "922a077e-5fd7-4380-9b2d-2fc1932e5e80"
      },
      "source": [
        "df['KIND'].value_counts().plot(kind='bar')"
      ],
      "execution_count": 33,
      "outputs": [
        {
          "output_type": "execute_result",
          "data": {
            "text/plain": [
              "<matplotlib.axes._subplots.AxesSubplot at 0x7f7377320208>"
            ]
          },
          "metadata": {
            "tags": []
          },
          "execution_count": 33
        },
        {
          "output_type": "display_data",
          "data": {
            "image/png": "[encoded data removed]",
            "text/plain": [
              "<Figure size 432x288 with 1 Axes>"
            ]
          },
          "metadata": {
            "tags": [],
            "needs_background": "light"
          }
        }
      ]
    },
    {
      "cell_type": "markdown",
      "metadata": {
        "id": "efnRIhzRRzUv",
        "colab_type": "text"
      },
      "source": [
        "Organize data to create a model"
      ]
    },
    {
      "cell_type": "code",
      "metadata": {
        "id": "6TLRLvU116aX",
        "colab_type": "code",
        "outputId": "a39ba13e-5839-40a6-870f-a904ac6af9d6",
        "colab": {
          "base_uri": "https://localhost:8080/",
          "height": 204
        }
      },
      "source": [
        "df['KIND'].replace(['Importado', 'Relacionado', 'En estudio', 'Desconocido'], [0, 1, 2, 3], inplace=True)\n",
        "df['LOCATION'].replace(['Casa', 'Hospital', 'Hospital UCI', 'Fallecido'], [0, 1, 2, 3], inplace=True)\n",
        "df['STATE'].replace(['Moderado', 'Severo', 'Critico', 'Fallecido'], [0, 1, 2, 3], inplace=True)\n",
        "df['SEX'].replace(['F', 'M'], [0, 1], inplace=True)\n",
        "df.dropna(inplace=True)\n",
        "df.reset_index(drop=True)\n",
        "\n",
        "df.head()"
      ],
      "execution_count": 34,
      "outputs": [
        {
          "output_type": "execute_result",
          "data": {
            "text/html": [
              "<div>\n",
              "<style scoped>\n",
              "    .dataframe tbody tr th:only-of-type {\n",
              "        vertical-align: middle;\n",
              "    }\n",
              "\n",
              "    .dataframe tbody tr th {\n",
              "        vertical-align: top;\n",
              "    }\n",
              "\n",
              "    .dataframe thead th {\n",
              "        text-align: right;\n",
              "    }\n",
              "</style>\n",
              "<table border=\"1\" class=\"dataframe\">\n",
              "  <thead>\n",
              "    <tr style=\"text-align: right;\">\n",
              "      <th></th>\n",
              "      <th>ID</th>\n",
              "      <th>AGE</th>\n",
              "      <th>SEX</th>\n",
              "      <th>KIND</th>\n",
              "      <th>LOCATION</th>\n",
              "      <th>STATE</th>\n",
              "      <th>LATITUDE</th>\n",
              "      <th>LONGITUDE</th>\n",
              "      <th>NUMOPEN</th>\n",
              "      <th>NUMCLOSE</th>\n",
              "    </tr>\n",
              "  </thead>\n",
              "  <tbody>\n",
              "    <tr>\n",
              "      <th>0</th>\n",
              "      <td>1</td>\n",
              "      <td>19.0</td>\n",
              "      <td>0</td>\n",
              "      <td>0</td>\n",
              "      <td>0</td>\n",
              "      <td>0</td>\n",
              "      <td>4.5486</td>\n",
              "      <td>-74.1009</td>\n",
              "      <td>2.0</td>\n",
              "      <td>2.0</td>\n",
              "    </tr>\n",
              "    <tr>\n",
              "      <th>1</th>\n",
              "      <td>2</td>\n",
              "      <td>22.0</td>\n",
              "      <td>0</td>\n",
              "      <td>0</td>\n",
              "      <td>0</td>\n",
              "      <td>0</td>\n",
              "      <td>4.5653</td>\n",
              "      <td>-74.1164</td>\n",
              "      <td>1.0</td>\n",
              "      <td>1.0</td>\n",
              "    </tr>\n",
              "    <tr>\n",
              "      <th>2</th>\n",
              "      <td>3</td>\n",
              "      <td>28.0</td>\n",
              "      <td>0</td>\n",
              "      <td>0</td>\n",
              "      <td>0</td>\n",
              "      <td>0</td>\n",
              "      <td>4.5653</td>\n",
              "      <td>-74.1164</td>\n",
              "      <td>1.0</td>\n",
              "      <td>1.0</td>\n",
              "    </tr>\n",
              "    <tr>\n",
              "      <th>3</th>\n",
              "      <td>4</td>\n",
              "      <td>36.0</td>\n",
              "      <td>0</td>\n",
              "      <td>0</td>\n",
              "      <td>0</td>\n",
              "      <td>0</td>\n",
              "      <td>4.6149</td>\n",
              "      <td>-74.1227</td>\n",
              "      <td>9.0</td>\n",
              "      <td>5.0</td>\n",
              "    </tr>\n",
              "    <tr>\n",
              "      <th>4</th>\n",
              "      <td>5</td>\n",
              "      <td>42.0</td>\n",
              "      <td>0</td>\n",
              "      <td>0</td>\n",
              "      <td>0</td>\n",
              "      <td>0</td>\n",
              "      <td>4.5939</td>\n",
              "      <td>-74.0739</td>\n",
              "      <td>58.0</td>\n",
              "      <td>40.0</td>\n",
              "    </tr>\n",
              "  </tbody>\n",
              "</table>\n",
              "</div>"
            ],
            "text/plain": [
              "  ID   AGE  SEX  KIND  LOCATION  STATE  LATITUDE  LONGITUDE  NUMOPEN  NUMCLOSE\n",
              "0  1  19.0    0     0         0      0    4.5486   -74.1009      2.0       2.0\n",
              "1  2  22.0    0     0         0      0    4.5653   -74.1164      1.0       1.0\n",
              "2  3  28.0    0     0         0      0    4.5653   -74.1164      1.0       1.0\n",
              "3  4  36.0    0     0         0      0    4.6149   -74.1227      9.0       5.0\n",
              "4  5  42.0    0     0         0      0    4.5939   -74.0739     58.0      40.0"
            ]
          },
          "metadata": {
            "tags": []
          },
          "execution_count": 34
        }
      ]
    },
    {
      "cell_type": "code",
      "metadata": {
        "id": "rCXUpH11UEoe",
        "colab_type": "code",
        "outputId": "e2020adc-7e5e-4156-a80d-426414d0e856",
        "colab": {
          "base_uri": "https://localhost:8080/",
          "height": 34
        }
      },
      "source": [
        "df.shape"
      ],
      "execution_count": 35,
      "outputs": [
        {
          "output_type": "execute_result",
          "data": {
            "text/plain": [
              "(1383, 10)"
            ]
          },
          "metadata": {
            "tags": []
          },
          "execution_count": 35
        }
      ]
    },
    {
      "cell_type": "code",
      "metadata": {
        "id": "NF9BhU3E1-Wa",
        "colab_type": "code",
        "colab": {}
      },
      "source": [
        "x = df.values #returns a numpy array\n",
        "min_max_scaler = preprocessing.MinMaxScaler()\n",
        "x_scaled = min_max_scaler.fit_transform(x)\n",
        "ndf = pd.DataFrame(x_scaled)"
      ],
      "execution_count": 0,
      "outputs": []
    },
    {
      "cell_type": "markdown",
      "metadata": {
        "id": "0zjA6S7yUF1-",
        "colab_type": "text"
      },
      "source": [
        "Divide data from labels and x into different sets"
      ]
    },
    {
      "cell_type": "code",
      "metadata": {
        "id": "0JzSI9HH7SM0",
        "colab_type": "code",
        "colab": {}
      },
      "source": [
        "#1 when needs hospital, 0 when not\n",
        "labels = df['LOCATION']\n",
        "labels.replace([2, 3], [1, 0], inplace=True)\n"
      ],
      "execution_count": 0,
      "outputs": []
    },
    {
      "cell_type": "code",
      "metadata": {
        "id": "r94imYog7582",
        "colab_type": "code",
        "colab": {}
      },
      "source": [
        "xtrain = ndf\n",
        "xtrain = xtrain.drop([xtrain.columns[3], xtrain.columns[5]],  axis=1)"
      ],
      "execution_count": 0,
      "outputs": []
    },
    {
      "cell_type": "code",
      "metadata": {
        "id": "3DfqHUR0TdwD",
        "colab_type": "code",
        "colab": {}
      },
      "source": [
        "from sklearn.model_selection import train_test_split\n",
        "from sklearn import metrics"
      ],
      "execution_count": 0,
      "outputs": []
    },
    {
      "cell_type": "code",
      "metadata": {
        "id": "geVrjJ1aTZ-y",
        "colab_type": "code",
        "colab": {
          "base_uri": "https://localhost:8080/",
          "height": 68
        },
        "outputId": "07229d06-8c8b-4222-9fcf-6a6b2debcd6a"
      },
      "source": [
        "x, X_test, y, y_test = train_test_split(xtrain,labels,test_size=0.2,train_size=0.8, random_state = 4)\n",
        "X_train, X_cv, y_train, y_cv = train_test_split(x,y,test_size = 0.25,train_size =0.75, random_state = 4)\n",
        "print ('Train set:', X_train.shape,  y_train.shape)\n",
        "print ('Test set:', X_test.shape,  y_test.shape)\n",
        "print ('Validation set:', X_cv.shape,  y_cv.shape)"
      ],
      "execution_count": 40,
      "outputs": [
        {
          "output_type": "stream",
          "text": [
            "Train set: (829, 8) (829,)\n",
            "Test set: (277, 8) (277,)\n",
            "Validation set: (277, 8) (277,)\n"
          ],
          "name": "stdout"
        }
      ]
    },
    {
      "cell_type": "code",
      "metadata": {
        "id": "_FW2rgwgUlhK",
        "colab_type": "code",
        "colab": {
          "base_uri": "https://localhost:8080/",
          "height": 34
        },
        "outputId": "41c9a309-d45c-48ca-fa83-2f25027ca5f8"
      },
      "source": [
        "y_test.shape"
      ],
      "execution_count": 41,
      "outputs": [
        {
          "output_type": "execute_result",
          "data": {
            "text/plain": [
              "(277,)"
            ]
          },
          "metadata": {
            "tags": []
          },
          "execution_count": 41
        }
      ]
    },
    {
      "cell_type": "markdown",
      "metadata": {
        "id": "n478HsVIUKYk",
        "colab_type": "text"
      },
      "source": [
        "Optimize model"
      ]
    },
    {
      "cell_type": "code",
      "metadata": {
        "id": "_9XTXd3NTaT9",
        "colab_type": "code",
        "colab": {
          "base_uri": "https://localhost:8080/",
          "height": 34
        },
        "outputId": "8e96031b-10c9-45a5-d3e0-6e3303fa3459"
      },
      "source": [
        "#Find best model SVM\n",
        "\n",
        "mean_acc = np.zeros((4))\n",
        "\n",
        "from sklearn import svm\n",
        "clf = svm.SVC(kernel='linear')\n",
        "clf.fit(X_train, y_train) \n",
        "yhat = clf.predict(X_test)\n",
        "mean_acc[0]=metrics.accuracy_score(y_test, yhat)\n",
        "\n",
        "clf = svm.SVC(kernel='poly')\n",
        "clf.fit(X_train, y_train) \n",
        "yhat = clf.predict(X_test)\n",
        "mean_acc[1]=metrics.accuracy_score(y_test, yhat)\n",
        "\n",
        "clf = svm.SVC(kernel='rbf')\n",
        "clf.fit(X_train, y_train) \n",
        "yhat = clf.predict(X_test)\n",
        "mean_acc[2]=metrics.accuracy_score(y_test, yhat)\n",
        "\n",
        "clf = svm.SVC(kernel='sigmoid')\n",
        "clf.fit(X_train, y_train) \n",
        "yhat = clf.predict(X_test)\n",
        "mean_acc[3]=metrics.accuracy_score(y_test, yhat)\n",
        "\n",
        "print( \"The best accuracy was with\", mean_acc.max(), \"with model=\", mean_acc.argmax()) "
      ],
      "execution_count": 42,
      "outputs": [
        {
          "output_type": "stream",
          "text": [
            "The best accuracy was with 0.9927797833935018 with model= 2\n"
          ],
          "name": "stdout"
        }
      ]
    },
    {
      "cell_type": "code",
      "metadata": {
        "id": "QhKgW7FMV36H",
        "colab_type": "code",
        "colab": {}
      },
      "source": [
        "#Since best model is poly we use this one to build model\n",
        "clf = svm.SVC(kernel='poly')\n",
        "clf.fit(X_train, y_train) \n",
        "#Predict\n",
        "yhatSVM = clf.predict(X_test)"
      ],
      "execution_count": 0,
      "outputs": []
    },
    {
      "cell_type": "code",
      "metadata": {
        "id": "acDUuxf1Vxc0",
        "colab_type": "code",
        "colab": {
          "base_uri": "https://localhost:8080/",
          "height": 34
        },
        "outputId": "6b8dfe08-46ec-4432-bcfc-bbebc83a8848"
      },
      "source": [
        "from sklearn.linear_model import LogisticRegression\n",
        "\n",
        "CS = [0.001,0.01,0.1]\n",
        "mean_acc = np.zeros((3-1))\n",
        "std_acc = np.zeros((3-1))\n",
        "ConfustionMx = [];\n",
        "for n in range(1, 3):\n",
        "    \n",
        "    #Train Model and Predict  \n",
        "    LR = LogisticRegression(C=CS[n-1] , solver='liblinear').fit(X_train,y_train)\n",
        "    yhat = LR.predict(X_test)\n",
        "    mean_acc[n-1] = metrics.accuracy_score(y_test, yhat)\n",
        "\n",
        "\n",
        "mean_acc\n",
        "print( \"The best accuracy was with\", mean_acc.max(), \"with C =\", (CS[mean_acc.argmax()+1])) "
      ],
      "execution_count": 44,
      "outputs": [
        {
          "output_type": "stream",
          "text": [
            "The best accuracy was with 0.9025270758122743 with C = 0.01\n"
          ],
          "name": "stdout"
        }
      ]
    },
    {
      "cell_type": "code",
      "metadata": {
        "id": "14N4IyRFV4Vm",
        "colab_type": "code",
        "colab": {}
      },
      "source": [
        "CS=CS[mean_acc.argmax()]\n",
        "LR = LogisticRegression(C=CS, solver='liblinear').fit(X_train,y_train)\n",
        "yhatLR = LR.predict(X_test)\n",
        "yhat_prob = LR.predict_proba(X_test)"
      ],
      "execution_count": 0,
      "outputs": []
    },
    {
      "cell_type": "markdown",
      "metadata": {
        "id": "KppXKwYRWPSb",
        "colab_type": "text"
      },
      "source": [
        "Evaluate models with validation set"
      ]
    },
    {
      "cell_type": "code",
      "metadata": {
        "id": "qGMo1gu5WOMZ",
        "colab_type": "code",
        "colab": {}
      },
      "source": [
        "from sklearn.metrics import jaccard_similarity_score\n",
        "from sklearn.metrics import f1_score"
      ],
      "execution_count": 0,
      "outputs": []
    },
    {
      "cell_type": "code",
      "metadata": {
        "id": "bvOFR-xBWOcj",
        "colab_type": "code",
        "colab": {}
      },
      "source": [
        "yhatLR = LR.predict(X_cv)\n",
        "yhat_prob = LR.predict_proba(X_cv)\n"
      ],
      "execution_count": 0,
      "outputs": []
    },
    {
      "cell_type": "code",
      "metadata": {
        "id": "FU9qoiHZW8se",
        "colab_type": "code",
        "colab": {
          "base_uri": "https://localhost:8080/",
          "height": 196
        },
        "outputId": "d2a107ca-914b-43b4-8103-69cc58c8a114"
      },
      "source": [
        "evaluations = [\"Algorithm\", \"Jaccard\", \"F1-score\"]\n",
        "report = pd.DataFrame(columns = evaluations)\n",
        "\n",
        "col1 = [\"SVM\",\"Logistic regression\"]\n",
        "\n",
        "col2 = [jaccard_similarity_score(y_cv, yhatSVM),jaccard_similarity_score(y_cv, yhatLR)]\n",
        "\n",
        "col3 = [f1_score(y_cv, yhatSVM, average='weighted'),f1_score(y_cv, yhatLR, average='weighted')]\n",
        "\n",
        "report[\"Algorithm\"] = col1\n",
        "report[\"Jaccard\"] = col2\n",
        "report[\"F1-score\"] = col3\n",
        "\n",
        "report.set_index('Algorithm', inplace=True)\n",
        "\n",
        "report"
      ],
      "execution_count": 48,
      "outputs": [
        {
          "output_type": "stream",
          "text": [
            "/usr/local/lib/python3.6/dist-packages/sklearn/metrics/_classification.py:664: FutureWarning: jaccard_similarity_score has been deprecated and replaced with jaccard_score. It will be removed in version 0.23. This implementation has surprising behavior for binary and multiclass classification tasks.\n",
            "  FutureWarning)\n"
          ],
          "name": "stderr"
        },
        {
          "output_type": "execute_result",
          "data": {
            "text/html": [
              "<div>\n",
              "<style scoped>\n",
              "    .dataframe tbody tr th:only-of-type {\n",
              "        vertical-align: middle;\n",
              "    }\n",
              "\n",
              "    .dataframe tbody tr th {\n",
              "        vertical-align: top;\n",
              "    }\n",
              "\n",
              "    .dataframe thead th {\n",
              "        text-align: right;\n",
              "    }\n",
              "</style>\n",
              "<table border=\"1\" class=\"dataframe\">\n",
              "  <thead>\n",
              "    <tr style=\"text-align: right;\">\n",
              "      <th></th>\n",
              "      <th>Jaccard</th>\n",
              "      <th>F1-score</th>\n",
              "    </tr>\n",
              "    <tr>\n",
              "      <th>Algorithm</th>\n",
              "      <th></th>\n",
              "      <th></th>\n",
              "    </tr>\n",
              "  </thead>\n",
              "  <tbody>\n",
              "    <tr>\n",
              "      <th>SVM</th>\n",
              "      <td>0.837545</td>\n",
              "      <td>0.827067</td>\n",
              "    </tr>\n",
              "    <tr>\n",
              "      <th>Logistic regression</th>\n",
              "      <td>0.898917</td>\n",
              "      <td>0.851066</td>\n",
              "    </tr>\n",
              "  </tbody>\n",
              "</table>\n",
              "</div>"
            ],
            "text/plain": [
              "                      Jaccard  F1-score\n",
              "Algorithm                              \n",
              "SVM                  0.837545  0.827067\n",
              "Logistic regression  0.898917  0.851066"
            ]
          },
          "metadata": {
            "tags": []
          },
          "execution_count": 48
        }
      ]
    }
  ]
}